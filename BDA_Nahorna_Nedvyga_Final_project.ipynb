{
  "nbformat": 4,
  "nbformat_minor": 0,
  "metadata": {
    "colab": {
      "provenance": [],
      "authorship_tag": "ABX9TyOnIiCae6LacgaYQCdanCks",
      "include_colab_link": true
    },
    "kernelspec": {
      "name": "python3",
      "display_name": "Python 3"
    },
    "language_info": {
      "name": "python"
    }
  },
  "cells": [
    {
      "cell_type": "markdown",
      "metadata": {
        "id": "view-in-github",
        "colab_type": "text"
      },
      "source": [
        "<a href=\"https://colab.research.google.com/github/b60c/Project_BDA_25/blob/main/BDA_Nahorna_Nedvyga_Final_project.ipynb\" target=\"_parent\"><img src=\"https://colab.research.google.com/assets/colab-badge.svg\" alt=\"Open In Colab\"/></a>"
      ]
    },
    {
      "cell_type": "code",
      "source": [
        "import numpy as np\n",
        "import pandas as pd\n",
        "import seaborn as sns\n",
        "import xgboost as xg\n",
        "\n",
        "from datetime import datetime\n",
        "from matplotlib import pyplot as plt\n",
        "\n",
        "from sklearn.decomposition import PCA\n",
        "from sklearn.ensemble import RandomForestClassifier\n",
        "from sklearn.metrics import mean_squared_error as MSE\n",
        "from sklearn.model_selection import cross_val_score, train_test_split\n",
        "from sklearn.preprocessing import LabelEncoder, OneHotEncoder, OrdinalEncoder, TargetEncoder"
      ],
      "metadata": {
        "id": "bkKY-11Gu4Ew"
      },
      "execution_count": 1,
      "outputs": []
    },
    {
      "cell_type": "markdown",
      "source": [
        "## Exploring the dataset"
      ],
      "metadata": {
        "id": "GvuaegoBujot"
      }
    },
    {
      "cell_type": "code",
      "execution_count": 3,
      "metadata": {
        "id": "2Wo7BWOctuQE"
      },
      "outputs": [],
      "source": [
        "dataset = pd.read_csv('employee_data.csv')"
      ]
    },
    {
      "cell_type": "code",
      "source": [
        "dataset.head()"
      ],
      "metadata": {
        "colab": {
          "base_uri": "https://localhost:8080/",
          "height": 0
        },
        "id": "MHeLkhgqu0NX",
        "outputId": "becce3cc-493b-454d-8df6-a21860fffa20"
      },
      "execution_count": 4,
      "outputs": [
        {
          "output_type": "execute_result",
          "data": {
            "text/plain": [
              "   EmpID FirstName LastName  StartDate ExitDate                    Title  \\\n",
              "0   3427     Uriah  Bridges  20-Sep-19      NaN  Production Technician I   \n",
              "1   3428     Paula    Small  11-Feb-23      NaN  Production Technician I   \n",
              "2   3429    Edward     Buck  10-Dec-18      NaN       Area Sales Manager   \n",
              "3   3430   Michael  Riordan  21-Jun-21      NaN       Area Sales Manager   \n",
              "4   3431   Jasmine    Onque  29-Jun-19      NaN       Area Sales Manager   \n",
              "\n",
              "        Supervisor                        ADEmail BusinessUnit EmployeeStatus  \\\n",
              "0     Peter Oneill    uriah.bridges@bilearner.com         CCDR         Active   \n",
              "1  Renee Mccormick      paula.small@bilearner.com           EW         Active   \n",
              "2   Crystal Walker      edward.buck@bilearner.com           PL         Active   \n",
              "3   Rebekah Wright  michael.riordan@bilearner.com         CCDR         Active   \n",
              "4        Jason Kim    jasmine.onque@bilearner.com          TNS         Active   \n",
              "\n",
              "   ...              Division         DOB State JobFunctionDescription  \\\n",
              "0  ...  Finance & Accounting  07-10-1969    MA             Accounting   \n",
              "1  ...                Aerial  30-08-1965    MA                  Labor   \n",
              "2  ...         General - Sga  06-10-1991    MA              Assistant   \n",
              "3  ...  Finance & Accounting  04-04-1998    ND                  Clerk   \n",
              "4  ...         General - Con  29-08-1969    FL                Laborer   \n",
              "\n",
              "  GenderCode LocationCode  RaceDesc MaritalDesc Performance Score  \\\n",
              "0     Female        34904     White     Widowed       Fully Meets   \n",
              "1       Male         6593  Hispanic     Widowed       Fully Meets   \n",
              "2       Male         2330  Hispanic     Widowed       Fully Meets   \n",
              "3       Male        58782     Other      Single       Fully Meets   \n",
              "4     Female        33174     Other     Married       Fully Meets   \n",
              "\n",
              "  Current Employee Rating  \n",
              "0                       4  \n",
              "1                       3  \n",
              "2                       4  \n",
              "3                       2  \n",
              "4                       3  \n",
              "\n",
              "[5 rows x 26 columns]"
            ],
            "text/html": [
              "\n",
              "  <div id=\"df-43184ff2-eee5-4ee1-8d2a-182ec08b0a29\" class=\"colab-df-container\">\n",
              "    <div>\n",
              "<style scoped>\n",
              "    .dataframe tbody tr th:only-of-type {\n",
              "        vertical-align: middle;\n",
              "    }\n",
              "\n",
              "    .dataframe tbody tr th {\n",
              "        vertical-align: top;\n",
              "    }\n",
              "\n",
              "    .dataframe thead th {\n",
              "        text-align: right;\n",
              "    }\n",
              "</style>\n",
              "<table border=\"1\" class=\"dataframe\">\n",
              "  <thead>\n",
              "    <tr style=\"text-align: right;\">\n",
              "      <th></th>\n",
              "      <th>EmpID</th>\n",
              "      <th>FirstName</th>\n",
              "      <th>LastName</th>\n",
              "      <th>StartDate</th>\n",
              "      <th>ExitDate</th>\n",
              "      <th>Title</th>\n",
              "      <th>Supervisor</th>\n",
              "      <th>ADEmail</th>\n",
              "      <th>BusinessUnit</th>\n",
              "      <th>EmployeeStatus</th>\n",
              "      <th>...</th>\n",
              "      <th>Division</th>\n",
              "      <th>DOB</th>\n",
              "      <th>State</th>\n",
              "      <th>JobFunctionDescription</th>\n",
              "      <th>GenderCode</th>\n",
              "      <th>LocationCode</th>\n",
              "      <th>RaceDesc</th>\n",
              "      <th>MaritalDesc</th>\n",
              "      <th>Performance Score</th>\n",
              "      <th>Current Employee Rating</th>\n",
              "    </tr>\n",
              "  </thead>\n",
              "  <tbody>\n",
              "    <tr>\n",
              "      <th>0</th>\n",
              "      <td>3427</td>\n",
              "      <td>Uriah</td>\n",
              "      <td>Bridges</td>\n",
              "      <td>20-Sep-19</td>\n",
              "      <td>NaN</td>\n",
              "      <td>Production Technician I</td>\n",
              "      <td>Peter Oneill</td>\n",
              "      <td>uriah.bridges@bilearner.com</td>\n",
              "      <td>CCDR</td>\n",
              "      <td>Active</td>\n",
              "      <td>...</td>\n",
              "      <td>Finance &amp; Accounting</td>\n",
              "      <td>07-10-1969</td>\n",
              "      <td>MA</td>\n",
              "      <td>Accounting</td>\n",
              "      <td>Female</td>\n",
              "      <td>34904</td>\n",
              "      <td>White</td>\n",
              "      <td>Widowed</td>\n",
              "      <td>Fully Meets</td>\n",
              "      <td>4</td>\n",
              "    </tr>\n",
              "    <tr>\n",
              "      <th>1</th>\n",
              "      <td>3428</td>\n",
              "      <td>Paula</td>\n",
              "      <td>Small</td>\n",
              "      <td>11-Feb-23</td>\n",
              "      <td>NaN</td>\n",
              "      <td>Production Technician I</td>\n",
              "      <td>Renee Mccormick</td>\n",
              "      <td>paula.small@bilearner.com</td>\n",
              "      <td>EW</td>\n",
              "      <td>Active</td>\n",
              "      <td>...</td>\n",
              "      <td>Aerial</td>\n",
              "      <td>30-08-1965</td>\n",
              "      <td>MA</td>\n",
              "      <td>Labor</td>\n",
              "      <td>Male</td>\n",
              "      <td>6593</td>\n",
              "      <td>Hispanic</td>\n",
              "      <td>Widowed</td>\n",
              "      <td>Fully Meets</td>\n",
              "      <td>3</td>\n",
              "    </tr>\n",
              "    <tr>\n",
              "      <th>2</th>\n",
              "      <td>3429</td>\n",
              "      <td>Edward</td>\n",
              "      <td>Buck</td>\n",
              "      <td>10-Dec-18</td>\n",
              "      <td>NaN</td>\n",
              "      <td>Area Sales Manager</td>\n",
              "      <td>Crystal Walker</td>\n",
              "      <td>edward.buck@bilearner.com</td>\n",
              "      <td>PL</td>\n",
              "      <td>Active</td>\n",
              "      <td>...</td>\n",
              "      <td>General - Sga</td>\n",
              "      <td>06-10-1991</td>\n",
              "      <td>MA</td>\n",
              "      <td>Assistant</td>\n",
              "      <td>Male</td>\n",
              "      <td>2330</td>\n",
              "      <td>Hispanic</td>\n",
              "      <td>Widowed</td>\n",
              "      <td>Fully Meets</td>\n",
              "      <td>4</td>\n",
              "    </tr>\n",
              "    <tr>\n",
              "      <th>3</th>\n",
              "      <td>3430</td>\n",
              "      <td>Michael</td>\n",
              "      <td>Riordan</td>\n",
              "      <td>21-Jun-21</td>\n",
              "      <td>NaN</td>\n",
              "      <td>Area Sales Manager</td>\n",
              "      <td>Rebekah Wright</td>\n",
              "      <td>michael.riordan@bilearner.com</td>\n",
              "      <td>CCDR</td>\n",
              "      <td>Active</td>\n",
              "      <td>...</td>\n",
              "      <td>Finance &amp; Accounting</td>\n",
              "      <td>04-04-1998</td>\n",
              "      <td>ND</td>\n",
              "      <td>Clerk</td>\n",
              "      <td>Male</td>\n",
              "      <td>58782</td>\n",
              "      <td>Other</td>\n",
              "      <td>Single</td>\n",
              "      <td>Fully Meets</td>\n",
              "      <td>2</td>\n",
              "    </tr>\n",
              "    <tr>\n",
              "      <th>4</th>\n",
              "      <td>3431</td>\n",
              "      <td>Jasmine</td>\n",
              "      <td>Onque</td>\n",
              "      <td>29-Jun-19</td>\n",
              "      <td>NaN</td>\n",
              "      <td>Area Sales Manager</td>\n",
              "      <td>Jason Kim</td>\n",
              "      <td>jasmine.onque@bilearner.com</td>\n",
              "      <td>TNS</td>\n",
              "      <td>Active</td>\n",
              "      <td>...</td>\n",
              "      <td>General - Con</td>\n",
              "      <td>29-08-1969</td>\n",
              "      <td>FL</td>\n",
              "      <td>Laborer</td>\n",
              "      <td>Female</td>\n",
              "      <td>33174</td>\n",
              "      <td>Other</td>\n",
              "      <td>Married</td>\n",
              "      <td>Fully Meets</td>\n",
              "      <td>3</td>\n",
              "    </tr>\n",
              "  </tbody>\n",
              "</table>\n",
              "<p>5 rows × 26 columns</p>\n",
              "</div>\n",
              "    <div class=\"colab-df-buttons\">\n",
              "\n",
              "  <div class=\"colab-df-container\">\n",
              "    <button class=\"colab-df-convert\" onclick=\"convertToInteractive('df-43184ff2-eee5-4ee1-8d2a-182ec08b0a29')\"\n",
              "            title=\"Convert this dataframe to an interactive table.\"\n",
              "            style=\"display:none;\">\n",
              "\n",
              "  <svg xmlns=\"http://www.w3.org/2000/svg\" height=\"24px\" viewBox=\"0 -960 960 960\">\n",
              "    <path d=\"M120-120v-720h720v720H120Zm60-500h600v-160H180v160Zm220 220h160v-160H400v160Zm0 220h160v-160H400v160ZM180-400h160v-160H180v160Zm440 0h160v-160H620v160ZM180-180h160v-160H180v160Zm440 0h160v-160H620v160Z\"/>\n",
              "  </svg>\n",
              "    </button>\n",
              "\n",
              "  <style>\n",
              "    .colab-df-container {\n",
              "      display:flex;\n",
              "      gap: 12px;\n",
              "    }\n",
              "\n",
              "    .colab-df-convert {\n",
              "      background-color: #E8F0FE;\n",
              "      border: none;\n",
              "      border-radius: 50%;\n",
              "      cursor: pointer;\n",
              "      display: none;\n",
              "      fill: #1967D2;\n",
              "      height: 32px;\n",
              "      padding: 0 0 0 0;\n",
              "      width: 32px;\n",
              "    }\n",
              "\n",
              "    .colab-df-convert:hover {\n",
              "      background-color: #E2EBFA;\n",
              "      box-shadow: 0px 1px 2px rgba(60, 64, 67, 0.3), 0px 1px 3px 1px rgba(60, 64, 67, 0.15);\n",
              "      fill: #174EA6;\n",
              "    }\n",
              "\n",
              "    .colab-df-buttons div {\n",
              "      margin-bottom: 4px;\n",
              "    }\n",
              "\n",
              "    [theme=dark] .colab-df-convert {\n",
              "      background-color: #3B4455;\n",
              "      fill: #D2E3FC;\n",
              "    }\n",
              "\n",
              "    [theme=dark] .colab-df-convert:hover {\n",
              "      background-color: #434B5C;\n",
              "      box-shadow: 0px 1px 3px 1px rgba(0, 0, 0, 0.15);\n",
              "      filter: drop-shadow(0px 1px 2px rgba(0, 0, 0, 0.3));\n",
              "      fill: #FFFFFF;\n",
              "    }\n",
              "  </style>\n",
              "\n",
              "    <script>\n",
              "      const buttonEl =\n",
              "        document.querySelector('#df-43184ff2-eee5-4ee1-8d2a-182ec08b0a29 button.colab-df-convert');\n",
              "      buttonEl.style.display =\n",
              "        google.colab.kernel.accessAllowed ? 'block' : 'none';\n",
              "\n",
              "      async function convertToInteractive(key) {\n",
              "        const element = document.querySelector('#df-43184ff2-eee5-4ee1-8d2a-182ec08b0a29');\n",
              "        const dataTable =\n",
              "          await google.colab.kernel.invokeFunction('convertToInteractive',\n",
              "                                                    [key], {});\n",
              "        if (!dataTable) return;\n",
              "\n",
              "        const docLinkHtml = 'Like what you see? Visit the ' +\n",
              "          '<a target=\"_blank\" href=https://colab.research.google.com/notebooks/data_table.ipynb>data table notebook</a>'\n",
              "          + ' to learn more about interactive tables.';\n",
              "        element.innerHTML = '';\n",
              "        dataTable['output_type'] = 'display_data';\n",
              "        await google.colab.output.renderOutput(dataTable, element);\n",
              "        const docLink = document.createElement('div');\n",
              "        docLink.innerHTML = docLinkHtml;\n",
              "        element.appendChild(docLink);\n",
              "      }\n",
              "    </script>\n",
              "  </div>\n",
              "\n",
              "\n",
              "    <div id=\"df-36b51559-264b-4999-8d2e-cc41cb015b7e\">\n",
              "      <button class=\"colab-df-quickchart\" onclick=\"quickchart('df-36b51559-264b-4999-8d2e-cc41cb015b7e')\"\n",
              "                title=\"Suggest charts\"\n",
              "                style=\"display:none;\">\n",
              "\n",
              "<svg xmlns=\"http://www.w3.org/2000/svg\" height=\"24px\"viewBox=\"0 0 24 24\"\n",
              "     width=\"24px\">\n",
              "    <g>\n",
              "        <path d=\"M19 3H5c-1.1 0-2 .9-2 2v14c0 1.1.9 2 2 2h14c1.1 0 2-.9 2-2V5c0-1.1-.9-2-2-2zM9 17H7v-7h2v7zm4 0h-2V7h2v10zm4 0h-2v-4h2v4z\"/>\n",
              "    </g>\n",
              "</svg>\n",
              "      </button>\n",
              "\n",
              "<style>\n",
              "  .colab-df-quickchart {\n",
              "      --bg-color: #E8F0FE;\n",
              "      --fill-color: #1967D2;\n",
              "      --hover-bg-color: #E2EBFA;\n",
              "      --hover-fill-color: #174EA6;\n",
              "      --disabled-fill-color: #AAA;\n",
              "      --disabled-bg-color: #DDD;\n",
              "  }\n",
              "\n",
              "  [theme=dark] .colab-df-quickchart {\n",
              "      --bg-color: #3B4455;\n",
              "      --fill-color: #D2E3FC;\n",
              "      --hover-bg-color: #434B5C;\n",
              "      --hover-fill-color: #FFFFFF;\n",
              "      --disabled-bg-color: #3B4455;\n",
              "      --disabled-fill-color: #666;\n",
              "  }\n",
              "\n",
              "  .colab-df-quickchart {\n",
              "    background-color: var(--bg-color);\n",
              "    border: none;\n",
              "    border-radius: 50%;\n",
              "    cursor: pointer;\n",
              "    display: none;\n",
              "    fill: var(--fill-color);\n",
              "    height: 32px;\n",
              "    padding: 0;\n",
              "    width: 32px;\n",
              "  }\n",
              "\n",
              "  .colab-df-quickchart:hover {\n",
              "    background-color: var(--hover-bg-color);\n",
              "    box-shadow: 0 1px 2px rgba(60, 64, 67, 0.3), 0 1px 3px 1px rgba(60, 64, 67, 0.15);\n",
              "    fill: var(--button-hover-fill-color);\n",
              "  }\n",
              "\n",
              "  .colab-df-quickchart-complete:disabled,\n",
              "  .colab-df-quickchart-complete:disabled:hover {\n",
              "    background-color: var(--disabled-bg-color);\n",
              "    fill: var(--disabled-fill-color);\n",
              "    box-shadow: none;\n",
              "  }\n",
              "\n",
              "  .colab-df-spinner {\n",
              "    border: 2px solid var(--fill-color);\n",
              "    border-color: transparent;\n",
              "    border-bottom-color: var(--fill-color);\n",
              "    animation:\n",
              "      spin 1s steps(1) infinite;\n",
              "  }\n",
              "\n",
              "  @keyframes spin {\n",
              "    0% {\n",
              "      border-color: transparent;\n",
              "      border-bottom-color: var(--fill-color);\n",
              "      border-left-color: var(--fill-color);\n",
              "    }\n",
              "    20% {\n",
              "      border-color: transparent;\n",
              "      border-left-color: var(--fill-color);\n",
              "      border-top-color: var(--fill-color);\n",
              "    }\n",
              "    30% {\n",
              "      border-color: transparent;\n",
              "      border-left-color: var(--fill-color);\n",
              "      border-top-color: var(--fill-color);\n",
              "      border-right-color: var(--fill-color);\n",
              "    }\n",
              "    40% {\n",
              "      border-color: transparent;\n",
              "      border-right-color: var(--fill-color);\n",
              "      border-top-color: var(--fill-color);\n",
              "    }\n",
              "    60% {\n",
              "      border-color: transparent;\n",
              "      border-right-color: var(--fill-color);\n",
              "    }\n",
              "    80% {\n",
              "      border-color: transparent;\n",
              "      border-right-color: var(--fill-color);\n",
              "      border-bottom-color: var(--fill-color);\n",
              "    }\n",
              "    90% {\n",
              "      border-color: transparent;\n",
              "      border-bottom-color: var(--fill-color);\n",
              "    }\n",
              "  }\n",
              "</style>\n",
              "\n",
              "      <script>\n",
              "        async function quickchart(key) {\n",
              "          const quickchartButtonEl =\n",
              "            document.querySelector('#' + key + ' button');\n",
              "          quickchartButtonEl.disabled = true;  // To prevent multiple clicks.\n",
              "          quickchartButtonEl.classList.add('colab-df-spinner');\n",
              "          try {\n",
              "            const charts = await google.colab.kernel.invokeFunction(\n",
              "                'suggestCharts', [key], {});\n",
              "          } catch (error) {\n",
              "            console.error('Error during call to suggestCharts:', error);\n",
              "          }\n",
              "          quickchartButtonEl.classList.remove('colab-df-spinner');\n",
              "          quickchartButtonEl.classList.add('colab-df-quickchart-complete');\n",
              "        }\n",
              "        (() => {\n",
              "          let quickchartButtonEl =\n",
              "            document.querySelector('#df-36b51559-264b-4999-8d2e-cc41cb015b7e button');\n",
              "          quickchartButtonEl.style.display =\n",
              "            google.colab.kernel.accessAllowed ? 'block' : 'none';\n",
              "        })();\n",
              "      </script>\n",
              "    </div>\n",
              "\n",
              "    </div>\n",
              "  </div>\n"
            ],
            "application/vnd.google.colaboratory.intrinsic+json": {
              "type": "dataframe",
              "variable_name": "dataset"
            }
          },
          "metadata": {},
          "execution_count": 4
        }
      ]
    },
    {
      "cell_type": "code",
      "source": [
        "dataset.info()"
      ],
      "metadata": {
        "colab": {
          "base_uri": "https://localhost:8080/"
        },
        "id": "6tuyjAz4vEmk",
        "outputId": "a625b1e4-0c37-423d-8df1-fa92ba28ddf7"
      },
      "execution_count": 5,
      "outputs": [
        {
          "output_type": "stream",
          "name": "stdout",
          "text": [
            "<class 'pandas.core.frame.DataFrame'>\n",
            "RangeIndex: 3000 entries, 0 to 2999\n",
            "Data columns (total 26 columns):\n",
            " #   Column                      Non-Null Count  Dtype \n",
            "---  ------                      --------------  ----- \n",
            " 0   EmpID                       3000 non-null   int64 \n",
            " 1   FirstName                   3000 non-null   object\n",
            " 2   LastName                    3000 non-null   object\n",
            " 3   StartDate                   3000 non-null   object\n",
            " 4   ExitDate                    1533 non-null   object\n",
            " 5   Title                       3000 non-null   object\n",
            " 6   Supervisor                  3000 non-null   object\n",
            " 7   ADEmail                     3000 non-null   object\n",
            " 8   BusinessUnit                3000 non-null   object\n",
            " 9   EmployeeStatus              3000 non-null   object\n",
            " 10  EmployeeType                3000 non-null   object\n",
            " 11  PayZone                     3000 non-null   object\n",
            " 12  EmployeeClassificationType  3000 non-null   object\n",
            " 13  TerminationType             3000 non-null   object\n",
            " 14  TerminationDescription      1533 non-null   object\n",
            " 15  DepartmentType              3000 non-null   object\n",
            " 16  Division                    3000 non-null   object\n",
            " 17  DOB                         3000 non-null   object\n",
            " 18  State                       3000 non-null   object\n",
            " 19  JobFunctionDescription      3000 non-null   object\n",
            " 20  GenderCode                  3000 non-null   object\n",
            " 21  LocationCode                3000 non-null   int64 \n",
            " 22  RaceDesc                    3000 non-null   object\n",
            " 23  MaritalDesc                 3000 non-null   object\n",
            " 24  Performance Score           3000 non-null   object\n",
            " 25  Current Employee Rating     3000 non-null   int64 \n",
            "dtypes: int64(3), object(23)\n",
            "memory usage: 609.5+ KB\n"
          ]
        }
      ]
    },
    {
      "cell_type": "code",
      "source": [
        "print('Titles:')\n",
        "for i, title in enumerate(dataset['Title'].sort_values().unique()):\n",
        "    print(f'{i + 1}) {title}')"
      ],
      "metadata": {
        "colab": {
          "base_uri": "https://localhost:8080/"
        },
        "id": "Tl_HXdb2vH7V",
        "outputId": "44bd79ac-642a-4118-8e0c-9fc046f3ed32"
      },
      "execution_count": 6,
      "outputs": [
        {
          "output_type": "stream",
          "name": "stdout",
          "text": [
            "Titles:\n",
            "1) Accountant I\n",
            "2) Administrative Assistant\n",
            "3) Area Sales Manager\n",
            "4) BI Developer\n",
            "5) BI Director\n",
            "6) CIO\n",
            "7) Data Analyst\n",
            "8) Data Analyst \n",
            "9) Data Architect\n",
            "10) Database Administrator\n",
            "11) Director of Operations\n",
            "12) Director of Sales\n",
            "13) Enterprise Architect\n",
            "14) IT Director\n",
            "15) IT Manager - DB\n",
            "16) IT Manager - Infra\n",
            "17) IT Manager - Support\n",
            "18) IT Support\n",
            "19) Network Engineer\n",
            "20) President & CEO\n",
            "21) Principal Data Architect\n",
            "22) Production Manager\n",
            "23) Production Technician I\n",
            "24) Production Technician II\n",
            "25) Sales Manager\n",
            "26) Senior BI Developer\n",
            "27) Shared Services Manager\n",
            "28) Software Engineer\n",
            "29) Software Engineering Manager\n",
            "30) Sr. Accountant\n",
            "31) Sr. DBA\n",
            "32) Sr. Network Engineer\n"
          ]
        }
      ]
    },
    {
      "cell_type": "code",
      "source": [
        "print('Department types:')\n",
        "for i, title in enumerate(dataset['DepartmentType'].sort_values().unique()):\n",
        "    print(f'{i + 1}) {title}')"
      ],
      "metadata": {
        "colab": {
          "base_uri": "https://localhost:8080/"
        },
        "id": "1CQuj3CqvKiQ",
        "outputId": "b034e970-5798-4428-bdb2-8658ad51a7ec"
      },
      "execution_count": 7,
      "outputs": [
        {
          "output_type": "stream",
          "name": "stdout",
          "text": [
            "Department types:\n",
            "1) Admin Offices\n",
            "2) Executive Office\n",
            "3) IT/IS\n",
            "4) Production       \n",
            "5) Sales\n",
            "6) Software Engineering\n"
          ]
        }
      ]
    },
    {
      "cell_type": "code",
      "source": [
        "print('Divisions:')\n",
        "for i, title in enumerate(dataset['Division'].sort_values().unique()):\n",
        "    print(f'{i + 1}) {title}')"
      ],
      "metadata": {
        "colab": {
          "base_uri": "https://localhost:8080/"
        },
        "id": "fmBc3dXPvMLL",
        "outputId": "e5c1ff5e-62d8-467a-bcfc-32be4e79e2f1"
      },
      "execution_count": 8,
      "outputs": [
        {
          "output_type": "stream",
          "name": "stdout",
          "text": [
            "Divisions:\n",
            "1) Aerial\n",
            "2) Billable Consultants\n",
            "3) Catv\n",
            "4) Corp Operations\n",
            "5) Engineers\n",
            "6) Executive\n",
            "7) Field Operations\n",
            "8) Fielders\n",
            "9) Finance & Accounting\n",
            "10) General - Con\n",
            "11) General - Eng\n",
            "12) General - Sga\n",
            "13) Isp\n",
            "14) People Services\n",
            "15) Project Management - Con\n",
            "16) Project Management - Eng\n",
            "17) Safety\n",
            "18) Sales & Marketing\n",
            "19) Shop (Fleet)\n",
            "20) Splicing\n",
            "21) Technology / It\n",
            "22) Underground\n",
            "23) Wireless\n",
            "24) Wireline Construction\n",
            "25) Yard (Material Handling)\n"
          ]
        }
      ]
    },
    {
      "cell_type": "code",
      "source": [
        "print('Employee type:')\n",
        "for i, title in enumerate(dataset['EmployeeType'].sort_values().unique()):\n",
        "    print(f'{i + 1}) {title}')"
      ],
      "metadata": {
        "colab": {
          "base_uri": "https://localhost:8080/"
        },
        "id": "cPH6GxfbvORV",
        "outputId": "8abaef29-9c60-4ea4-c0c1-c79b760a0613"
      },
      "execution_count": 9,
      "outputs": [
        {
          "output_type": "stream",
          "name": "stdout",
          "text": [
            "Employee type:\n",
            "1) Contract\n",
            "2) Full-Time\n",
            "3) Part-Time\n"
          ]
        }
      ]
    },
    {
      "cell_type": "code",
      "source": [
        "print('Employee status:')\n",
        "for i, title in enumerate(dataset['EmployeeStatus'].sort_values().unique()):\n",
        "    print(f'{i + 1}) {title}')"
      ],
      "metadata": {
        "colab": {
          "base_uri": "https://localhost:8080/"
        },
        "id": "dYrRlGgXvQZj",
        "outputId": "8679cd3a-254e-4dcc-d864-a9cbbb9f69a4"
      },
      "execution_count": 10,
      "outputs": [
        {
          "output_type": "stream",
          "name": "stdout",
          "text": [
            "Employee status:\n",
            "1) Active\n",
            "2) Future Start\n",
            "3) Leave of Absence\n",
            "4) Terminated for Cause\n",
            "5) Voluntarily Terminated\n"
          ]
        }
      ]
    },
    {
      "cell_type": "code",
      "source": [
        "print('Termination type:')\n",
        "for i, title in enumerate(dataset['TerminationType'].sort_values().unique()):\n",
        "    print(f'{i + 1}) {title}')"
      ],
      "metadata": {
        "colab": {
          "base_uri": "https://localhost:8080/"
        },
        "id": "t9jowNdFvQTB",
        "outputId": "534d9626-a116-4a32-c7f0-21aad81d2e24"
      },
      "execution_count": 11,
      "outputs": [
        {
          "output_type": "stream",
          "name": "stdout",
          "text": [
            "Termination type:\n",
            "1) Involuntary\n",
            "2) Resignation\n",
            "3) Retirement\n",
            "4) Unk\n",
            "5) Voluntary\n"
          ]
        }
      ]
    },
    {
      "cell_type": "code",
      "source": [
        "print('Gender:')\n",
        "for i, title in enumerate(dataset['GenderCode'].sort_values().unique()):\n",
        "    print(f'{i + 1}) {title}')"
      ],
      "metadata": {
        "colab": {
          "base_uri": "https://localhost:8080/"
        },
        "id": "qecCgQXpvQMf",
        "outputId": "0ca19277-00e8-4367-8e27-de982422a225"
      },
      "execution_count": 12,
      "outputs": [
        {
          "output_type": "stream",
          "name": "stdout",
          "text": [
            "Gender:\n",
            "1) Female\n",
            "2) Male\n"
          ]
        }
      ]
    },
    {
      "cell_type": "code",
      "source": [
        "print('Race:')\n",
        "for i, title in enumerate(dataset['RaceDesc'].sort_values().unique()):\n",
        "    print(f'{i + 1}) {title}')"
      ],
      "metadata": {
        "colab": {
          "base_uri": "https://localhost:8080/"
        },
        "id": "7LNfoU6nvQAO",
        "outputId": "1747db66-baf9-43d5-8ddf-cdb28e8fc899"
      },
      "execution_count": 13,
      "outputs": [
        {
          "output_type": "stream",
          "name": "stdout",
          "text": [
            "Race:\n",
            "1) Asian\n",
            "2) Black\n",
            "3) Hispanic\n",
            "4) Other\n",
            "5) White\n"
          ]
        }
      ]
    },
    {
      "cell_type": "code",
      "source": [
        "print('Marital status:')\n",
        "for i, title in enumerate(dataset['MaritalDesc'].sort_values().unique()):\n",
        "    print(f'{i + 1}) {title}')"
      ],
      "metadata": {
        "colab": {
          "base_uri": "https://localhost:8080/"
        },
        "id": "_ZyKedwKvU5B",
        "outputId": "bcc1552d-61ff-4ff0-f031-3a1aa6b2a8b4"
      },
      "execution_count": 14,
      "outputs": [
        {
          "output_type": "stream",
          "name": "stdout",
          "text": [
            "Marital status:\n",
            "1) Divorced\n",
            "2) Married\n",
            "3) Single\n",
            "4) Widowed\n"
          ]
        }
      ]
    },
    {
      "cell_type": "code",
      "source": [
        "print('Performance assessment:')\n",
        "for i, title in enumerate(dataset['Performance Score'].sort_values().unique()):\n",
        "    print(f'{i + 1}) {title}')"
      ],
      "metadata": {
        "colab": {
          "base_uri": "https://localhost:8080/"
        },
        "id": "9FjP95SnvV9x",
        "outputId": "4ee14311-eeb3-4134-cda9-e70988fc2a58"
      },
      "execution_count": 15,
      "outputs": [
        {
          "output_type": "stream",
          "name": "stdout",
          "text": [
            "Performance assessment:\n",
            "1) Exceeds\n",
            "2) Fully Meets\n",
            "3) Needs Improvement\n",
            "4) PIP\n"
          ]
        }
      ]
    },
    {
      "cell_type": "code",
      "source": [
        "print('Employee rating:')\n",
        "for i, title in enumerate(dataset['Current Employee Rating'].sort_values().unique()):\n",
        "    print(f'{i + 1}) {title}')"
      ],
      "metadata": {
        "id": "h-wo-xflvVoX"
      },
      "execution_count": null,
      "outputs": []
    },
    {
      "cell_type": "markdown",
      "source": [
        "## Preprocessing the dataset"
      ],
      "metadata": {
        "id": "UfDUsQnQvdca"
      }
    },
    {
      "cell_type": "markdown",
      "source": [
        "We will add two more columns: 'Current Age' and 'Tenure'"
      ],
      "metadata": {
        "id": "dBI5vzpmvoPU"
      }
    },
    {
      "cell_type": "code",
      "source": [
        "# convert DOB, StartDate, ExitDate to datetime type\n",
        "dataset['DOB'] = pd.to_datetime(dataset['DOB'], dayfirst=True)\n",
        "dataset['StartDate'] = pd.to_datetime(dataset['StartDate'], dayfirst=True)\n",
        "dataset['ExitDate'] = pd.to_datetime(dataset['ExitDate'], dayfirst=True)"
      ],
      "metadata": {
        "colab": {
          "base_uri": "https://localhost:8080/"
        },
        "id": "JTecm4HhvjcR",
        "outputId": "b843ecb5-b6da-4e93-c70a-4d2299c5f0c9"
      },
      "execution_count": 16,
      "outputs": [
        {
          "output_type": "stream",
          "name": "stderr",
          "text": [
            "<ipython-input-16-a101c68c0651>:3: UserWarning: Could not infer format, so each element will be parsed individually, falling back to `dateutil`. To ensure parsing is consistent and as-expected, please specify a format.\n",
            "  dataset['StartDate'] = pd.to_datetime(dataset['StartDate'], dayfirst=True)\n",
            "<ipython-input-16-a101c68c0651>:4: UserWarning: Could not infer format, so each element will be parsed individually, falling back to `dateutil`. To ensure parsing is consistent and as-expected, please specify a format.\n",
            "  dataset['ExitDate'] = pd.to_datetime(dataset['ExitDate'], dayfirst=True)\n"
          ]
        }
      ]
    },
    {
      "cell_type": "code",
      "source": [
        "date_now = datetime.now()\n",
        "dataset['Current Age'] = ((date_now - dataset['DOB']) / pd.Timedelta(days=365)).astype('int')"
      ],
      "metadata": {
        "id": "QVI81rHAvq5j"
      },
      "execution_count": 17,
      "outputs": []
    },
    {
      "cell_type": "code",
      "source": [
        "print('Minimum age: ', dataset['Current Age'].min())\n",
        "print('Maximum age: ', dataset['Current Age'].max())"
      ],
      "metadata": {
        "colab": {
          "base_uri": "https://localhost:8080/"
        },
        "id": "1Gn8TBqOvrKB",
        "outputId": "b78c5b4d-1c45-40ff-afe9-fd21ed39bc17"
      },
      "execution_count": 18,
      "outputs": [
        {
          "output_type": "stream",
          "name": "stdout",
          "text": [
            "Minimum age:  23\n",
            "Maximum age:  83\n"
          ]
        }
      ]
    },
    {
      "cell_type": "code",
      "source": [
        "dataset['Tenure'] = ((dataset['ExitDate'] - dataset['StartDate']) / pd.Timedelta(days=1)).astype('Int64')\n",
        "dataset['Tenure'] = dataset['Tenure'].replace(0, np.nan)"
      ],
      "metadata": {
        "id": "pad4vP80vr6r"
      },
      "execution_count": 19,
      "outputs": []
    },
    {
      "cell_type": "code",
      "source": [
        "print('Minimum days working: ', dataset['Tenure'].min())\n",
        "print('Maximum days working: ', dataset['Tenure'].max())"
      ],
      "metadata": {
        "colab": {
          "base_uri": "https://localhost:8080/"
        },
        "id": "S1NBjzBPvr1M",
        "outputId": "45f13eff-6d00-47e9-f771-89a5d883f5b7"
      },
      "execution_count": 20,
      "outputs": [
        {
          "output_type": "stream",
          "name": "stdout",
          "text": [
            "Minimum days working:  1\n",
            "Maximum days working:  1807\n"
          ]
        }
      ]
    },
    {
      "cell_type": "markdown",
      "source": [
        "Let's see how the dataframe looks now (tenure must be NaN where exit date is absent)."
      ],
      "metadata": {
        "id": "8Jf1byNOv0sc"
      }
    },
    {
      "cell_type": "code",
      "source": [
        "dataset.head()"
      ],
      "metadata": {
        "colab": {
          "base_uri": "https://localhost:8080/",
          "height": 0
        },
        "id": "s2EWBRnevrue",
        "outputId": "b00a4186-d0d8-4fb7-c968-708981ae6a38"
      },
      "execution_count": 21,
      "outputs": [
        {
          "output_type": "execute_result",
          "data": {
            "text/plain": [
              "   EmpID FirstName LastName  StartDate ExitDate                    Title  \\\n",
              "0   3427     Uriah  Bridges 2019-09-20      NaT  Production Technician I   \n",
              "1   3428     Paula    Small 2023-02-11      NaT  Production Technician I   \n",
              "2   3429    Edward     Buck 2018-12-10      NaT       Area Sales Manager   \n",
              "3   3430   Michael  Riordan 2021-06-21      NaT       Area Sales Manager   \n",
              "4   3431   Jasmine    Onque 2019-06-29      NaT       Area Sales Manager   \n",
              "\n",
              "        Supervisor                        ADEmail BusinessUnit EmployeeStatus  \\\n",
              "0     Peter Oneill    uriah.bridges@bilearner.com         CCDR         Active   \n",
              "1  Renee Mccormick      paula.small@bilearner.com           EW         Active   \n",
              "2   Crystal Walker      edward.buck@bilearner.com           PL         Active   \n",
              "3   Rebekah Wright  michael.riordan@bilearner.com         CCDR         Active   \n",
              "4        Jason Kim    jasmine.onque@bilearner.com          TNS         Active   \n",
              "\n",
              "   ... State JobFunctionDescription GenderCode LocationCode  RaceDesc  \\\n",
              "0  ...    MA             Accounting     Female        34904     White   \n",
              "1  ...    MA                  Labor       Male         6593  Hispanic   \n",
              "2  ...    MA              Assistant       Male         2330  Hispanic   \n",
              "3  ...    ND                  Clerk       Male        58782     Other   \n",
              "4  ...    FL                Laborer     Female        33174     Other   \n",
              "\n",
              "  MaritalDesc Performance Score Current Employee Rating Current Age Tenure  \n",
              "0     Widowed       Fully Meets                       4          55   <NA>  \n",
              "1     Widowed       Fully Meets                       3          59   <NA>  \n",
              "2     Widowed       Fully Meets                       4          33   <NA>  \n",
              "3      Single       Fully Meets                       2          27   <NA>  \n",
              "4     Married       Fully Meets                       3          55   <NA>  \n",
              "\n",
              "[5 rows x 28 columns]"
            ],
            "text/html": [
              "\n",
              "  <div id=\"df-bb4c5e64-5f07-4fc2-a5eb-cb31f2f549b4\" class=\"colab-df-container\">\n",
              "    <div>\n",
              "<style scoped>\n",
              "    .dataframe tbody tr th:only-of-type {\n",
              "        vertical-align: middle;\n",
              "    }\n",
              "\n",
              "    .dataframe tbody tr th {\n",
              "        vertical-align: top;\n",
              "    }\n",
              "\n",
              "    .dataframe thead th {\n",
              "        text-align: right;\n",
              "    }\n",
              "</style>\n",
              "<table border=\"1\" class=\"dataframe\">\n",
              "  <thead>\n",
              "    <tr style=\"text-align: right;\">\n",
              "      <th></th>\n",
              "      <th>EmpID</th>\n",
              "      <th>FirstName</th>\n",
              "      <th>LastName</th>\n",
              "      <th>StartDate</th>\n",
              "      <th>ExitDate</th>\n",
              "      <th>Title</th>\n",
              "      <th>Supervisor</th>\n",
              "      <th>ADEmail</th>\n",
              "      <th>BusinessUnit</th>\n",
              "      <th>EmployeeStatus</th>\n",
              "      <th>...</th>\n",
              "      <th>State</th>\n",
              "      <th>JobFunctionDescription</th>\n",
              "      <th>GenderCode</th>\n",
              "      <th>LocationCode</th>\n",
              "      <th>RaceDesc</th>\n",
              "      <th>MaritalDesc</th>\n",
              "      <th>Performance Score</th>\n",
              "      <th>Current Employee Rating</th>\n",
              "      <th>Current Age</th>\n",
              "      <th>Tenure</th>\n",
              "    </tr>\n",
              "  </thead>\n",
              "  <tbody>\n",
              "    <tr>\n",
              "      <th>0</th>\n",
              "      <td>3427</td>\n",
              "      <td>Uriah</td>\n",
              "      <td>Bridges</td>\n",
              "      <td>2019-09-20</td>\n",
              "      <td>NaT</td>\n",
              "      <td>Production Technician I</td>\n",
              "      <td>Peter Oneill</td>\n",
              "      <td>uriah.bridges@bilearner.com</td>\n",
              "      <td>CCDR</td>\n",
              "      <td>Active</td>\n",
              "      <td>...</td>\n",
              "      <td>MA</td>\n",
              "      <td>Accounting</td>\n",
              "      <td>Female</td>\n",
              "      <td>34904</td>\n",
              "      <td>White</td>\n",
              "      <td>Widowed</td>\n",
              "      <td>Fully Meets</td>\n",
              "      <td>4</td>\n",
              "      <td>55</td>\n",
              "      <td>&lt;NA&gt;</td>\n",
              "    </tr>\n",
              "    <tr>\n",
              "      <th>1</th>\n",
              "      <td>3428</td>\n",
              "      <td>Paula</td>\n",
              "      <td>Small</td>\n",
              "      <td>2023-02-11</td>\n",
              "      <td>NaT</td>\n",
              "      <td>Production Technician I</td>\n",
              "      <td>Renee Mccormick</td>\n",
              "      <td>paula.small@bilearner.com</td>\n",
              "      <td>EW</td>\n",
              "      <td>Active</td>\n",
              "      <td>...</td>\n",
              "      <td>MA</td>\n",
              "      <td>Labor</td>\n",
              "      <td>Male</td>\n",
              "      <td>6593</td>\n",
              "      <td>Hispanic</td>\n",
              "      <td>Widowed</td>\n",
              "      <td>Fully Meets</td>\n",
              "      <td>3</td>\n",
              "      <td>59</td>\n",
              "      <td>&lt;NA&gt;</td>\n",
              "    </tr>\n",
              "    <tr>\n",
              "      <th>2</th>\n",
              "      <td>3429</td>\n",
              "      <td>Edward</td>\n",
              "      <td>Buck</td>\n",
              "      <td>2018-12-10</td>\n",
              "      <td>NaT</td>\n",
              "      <td>Area Sales Manager</td>\n",
              "      <td>Crystal Walker</td>\n",
              "      <td>edward.buck@bilearner.com</td>\n",
              "      <td>PL</td>\n",
              "      <td>Active</td>\n",
              "      <td>...</td>\n",
              "      <td>MA</td>\n",
              "      <td>Assistant</td>\n",
              "      <td>Male</td>\n",
              "      <td>2330</td>\n",
              "      <td>Hispanic</td>\n",
              "      <td>Widowed</td>\n",
              "      <td>Fully Meets</td>\n",
              "      <td>4</td>\n",
              "      <td>33</td>\n",
              "      <td>&lt;NA&gt;</td>\n",
              "    </tr>\n",
              "    <tr>\n",
              "      <th>3</th>\n",
              "      <td>3430</td>\n",
              "      <td>Michael</td>\n",
              "      <td>Riordan</td>\n",
              "      <td>2021-06-21</td>\n",
              "      <td>NaT</td>\n",
              "      <td>Area Sales Manager</td>\n",
              "      <td>Rebekah Wright</td>\n",
              "      <td>michael.riordan@bilearner.com</td>\n",
              "      <td>CCDR</td>\n",
              "      <td>Active</td>\n",
              "      <td>...</td>\n",
              "      <td>ND</td>\n",
              "      <td>Clerk</td>\n",
              "      <td>Male</td>\n",
              "      <td>58782</td>\n",
              "      <td>Other</td>\n",
              "      <td>Single</td>\n",
              "      <td>Fully Meets</td>\n",
              "      <td>2</td>\n",
              "      <td>27</td>\n",
              "      <td>&lt;NA&gt;</td>\n",
              "    </tr>\n",
              "    <tr>\n",
              "      <th>4</th>\n",
              "      <td>3431</td>\n",
              "      <td>Jasmine</td>\n",
              "      <td>Onque</td>\n",
              "      <td>2019-06-29</td>\n",
              "      <td>NaT</td>\n",
              "      <td>Area Sales Manager</td>\n",
              "      <td>Jason Kim</td>\n",
              "      <td>jasmine.onque@bilearner.com</td>\n",
              "      <td>TNS</td>\n",
              "      <td>Active</td>\n",
              "      <td>...</td>\n",
              "      <td>FL</td>\n",
              "      <td>Laborer</td>\n",
              "      <td>Female</td>\n",
              "      <td>33174</td>\n",
              "      <td>Other</td>\n",
              "      <td>Married</td>\n",
              "      <td>Fully Meets</td>\n",
              "      <td>3</td>\n",
              "      <td>55</td>\n",
              "      <td>&lt;NA&gt;</td>\n",
              "    </tr>\n",
              "  </tbody>\n",
              "</table>\n",
              "<p>5 rows × 28 columns</p>\n",
              "</div>\n",
              "    <div class=\"colab-df-buttons\">\n",
              "\n",
              "  <div class=\"colab-df-container\">\n",
              "    <button class=\"colab-df-convert\" onclick=\"convertToInteractive('df-bb4c5e64-5f07-4fc2-a5eb-cb31f2f549b4')\"\n",
              "            title=\"Convert this dataframe to an interactive table.\"\n",
              "            style=\"display:none;\">\n",
              "\n",
              "  <svg xmlns=\"http://www.w3.org/2000/svg\" height=\"24px\" viewBox=\"0 -960 960 960\">\n",
              "    <path d=\"M120-120v-720h720v720H120Zm60-500h600v-160H180v160Zm220 220h160v-160H400v160Zm0 220h160v-160H400v160ZM180-400h160v-160H180v160Zm440 0h160v-160H620v160ZM180-180h160v-160H180v160Zm440 0h160v-160H620v160Z\"/>\n",
              "  </svg>\n",
              "    </button>\n",
              "\n",
              "  <style>\n",
              "    .colab-df-container {\n",
              "      display:flex;\n",
              "      gap: 12px;\n",
              "    }\n",
              "\n",
              "    .colab-df-convert {\n",
              "      background-color: #E8F0FE;\n",
              "      border: none;\n",
              "      border-radius: 50%;\n",
              "      cursor: pointer;\n",
              "      display: none;\n",
              "      fill: #1967D2;\n",
              "      height: 32px;\n",
              "      padding: 0 0 0 0;\n",
              "      width: 32px;\n",
              "    }\n",
              "\n",
              "    .colab-df-convert:hover {\n",
              "      background-color: #E2EBFA;\n",
              "      box-shadow: 0px 1px 2px rgba(60, 64, 67, 0.3), 0px 1px 3px 1px rgba(60, 64, 67, 0.15);\n",
              "      fill: #174EA6;\n",
              "    }\n",
              "\n",
              "    .colab-df-buttons div {\n",
              "      margin-bottom: 4px;\n",
              "    }\n",
              "\n",
              "    [theme=dark] .colab-df-convert {\n",
              "      background-color: #3B4455;\n",
              "      fill: #D2E3FC;\n",
              "    }\n",
              "\n",
              "    [theme=dark] .colab-df-convert:hover {\n",
              "      background-color: #434B5C;\n",
              "      box-shadow: 0px 1px 3px 1px rgba(0, 0, 0, 0.15);\n",
              "      filter: drop-shadow(0px 1px 2px rgba(0, 0, 0, 0.3));\n",
              "      fill: #FFFFFF;\n",
              "    }\n",
              "  </style>\n",
              "\n",
              "    <script>\n",
              "      const buttonEl =\n",
              "        document.querySelector('#df-bb4c5e64-5f07-4fc2-a5eb-cb31f2f549b4 button.colab-df-convert');\n",
              "      buttonEl.style.display =\n",
              "        google.colab.kernel.accessAllowed ? 'block' : 'none';\n",
              "\n",
              "      async function convertToInteractive(key) {\n",
              "        const element = document.querySelector('#df-bb4c5e64-5f07-4fc2-a5eb-cb31f2f549b4');\n",
              "        const dataTable =\n",
              "          await google.colab.kernel.invokeFunction('convertToInteractive',\n",
              "                                                    [key], {});\n",
              "        if (!dataTable) return;\n",
              "\n",
              "        const docLinkHtml = 'Like what you see? Visit the ' +\n",
              "          '<a target=\"_blank\" href=https://colab.research.google.com/notebooks/data_table.ipynb>data table notebook</a>'\n",
              "          + ' to learn more about interactive tables.';\n",
              "        element.innerHTML = '';\n",
              "        dataTable['output_type'] = 'display_data';\n",
              "        await google.colab.output.renderOutput(dataTable, element);\n",
              "        const docLink = document.createElement('div');\n",
              "        docLink.innerHTML = docLinkHtml;\n",
              "        element.appendChild(docLink);\n",
              "      }\n",
              "    </script>\n",
              "  </div>\n",
              "\n",
              "\n",
              "    <div id=\"df-7e3ff785-25a4-47b9-a63e-52b379953fee\">\n",
              "      <button class=\"colab-df-quickchart\" onclick=\"quickchart('df-7e3ff785-25a4-47b9-a63e-52b379953fee')\"\n",
              "                title=\"Suggest charts\"\n",
              "                style=\"display:none;\">\n",
              "\n",
              "<svg xmlns=\"http://www.w3.org/2000/svg\" height=\"24px\"viewBox=\"0 0 24 24\"\n",
              "     width=\"24px\">\n",
              "    <g>\n",
              "        <path d=\"M19 3H5c-1.1 0-2 .9-2 2v14c0 1.1.9 2 2 2h14c1.1 0 2-.9 2-2V5c0-1.1-.9-2-2-2zM9 17H7v-7h2v7zm4 0h-2V7h2v10zm4 0h-2v-4h2v4z\"/>\n",
              "    </g>\n",
              "</svg>\n",
              "      </button>\n",
              "\n",
              "<style>\n",
              "  .colab-df-quickchart {\n",
              "      --bg-color: #E8F0FE;\n",
              "      --fill-color: #1967D2;\n",
              "      --hover-bg-color: #E2EBFA;\n",
              "      --hover-fill-color: #174EA6;\n",
              "      --disabled-fill-color: #AAA;\n",
              "      --disabled-bg-color: #DDD;\n",
              "  }\n",
              "\n",
              "  [theme=dark] .colab-df-quickchart {\n",
              "      --bg-color: #3B4455;\n",
              "      --fill-color: #D2E3FC;\n",
              "      --hover-bg-color: #434B5C;\n",
              "      --hover-fill-color: #FFFFFF;\n",
              "      --disabled-bg-color: #3B4455;\n",
              "      --disabled-fill-color: #666;\n",
              "  }\n",
              "\n",
              "  .colab-df-quickchart {\n",
              "    background-color: var(--bg-color);\n",
              "    border: none;\n",
              "    border-radius: 50%;\n",
              "    cursor: pointer;\n",
              "    display: none;\n",
              "    fill: var(--fill-color);\n",
              "    height: 32px;\n",
              "    padding: 0;\n",
              "    width: 32px;\n",
              "  }\n",
              "\n",
              "  .colab-df-quickchart:hover {\n",
              "    background-color: var(--hover-bg-color);\n",
              "    box-shadow: 0 1px 2px rgba(60, 64, 67, 0.3), 0 1px 3px 1px rgba(60, 64, 67, 0.15);\n",
              "    fill: var(--button-hover-fill-color);\n",
              "  }\n",
              "\n",
              "  .colab-df-quickchart-complete:disabled,\n",
              "  .colab-df-quickchart-complete:disabled:hover {\n",
              "    background-color: var(--disabled-bg-color);\n",
              "    fill: var(--disabled-fill-color);\n",
              "    box-shadow: none;\n",
              "  }\n",
              "\n",
              "  .colab-df-spinner {\n",
              "    border: 2px solid var(--fill-color);\n",
              "    border-color: transparent;\n",
              "    border-bottom-color: var(--fill-color);\n",
              "    animation:\n",
              "      spin 1s steps(1) infinite;\n",
              "  }\n",
              "\n",
              "  @keyframes spin {\n",
              "    0% {\n",
              "      border-color: transparent;\n",
              "      border-bottom-color: var(--fill-color);\n",
              "      border-left-color: var(--fill-color);\n",
              "    }\n",
              "    20% {\n",
              "      border-color: transparent;\n",
              "      border-left-color: var(--fill-color);\n",
              "      border-top-color: var(--fill-color);\n",
              "    }\n",
              "    30% {\n",
              "      border-color: transparent;\n",
              "      border-left-color: var(--fill-color);\n",
              "      border-top-color: var(--fill-color);\n",
              "      border-right-color: var(--fill-color);\n",
              "    }\n",
              "    40% {\n",
              "      border-color: transparent;\n",
              "      border-right-color: var(--fill-color);\n",
              "      border-top-color: var(--fill-color);\n",
              "    }\n",
              "    60% {\n",
              "      border-color: transparent;\n",
              "      border-right-color: var(--fill-color);\n",
              "    }\n",
              "    80% {\n",
              "      border-color: transparent;\n",
              "      border-right-color: var(--fill-color);\n",
              "      border-bottom-color: var(--fill-color);\n",
              "    }\n",
              "    90% {\n",
              "      border-color: transparent;\n",
              "      border-bottom-color: var(--fill-color);\n",
              "    }\n",
              "  }\n",
              "</style>\n",
              "\n",
              "      <script>\n",
              "        async function quickchart(key) {\n",
              "          const quickchartButtonEl =\n",
              "            document.querySelector('#' + key + ' button');\n",
              "          quickchartButtonEl.disabled = true;  // To prevent multiple clicks.\n",
              "          quickchartButtonEl.classList.add('colab-df-spinner');\n",
              "          try {\n",
              "            const charts = await google.colab.kernel.invokeFunction(\n",
              "                'suggestCharts', [key], {});\n",
              "          } catch (error) {\n",
              "            console.error('Error during call to suggestCharts:', error);\n",
              "          }\n",
              "          quickchartButtonEl.classList.remove('colab-df-spinner');\n",
              "          quickchartButtonEl.classList.add('colab-df-quickchart-complete');\n",
              "        }\n",
              "        (() => {\n",
              "          let quickchartButtonEl =\n",
              "            document.querySelector('#df-7e3ff785-25a4-47b9-a63e-52b379953fee button');\n",
              "          quickchartButtonEl.style.display =\n",
              "            google.colab.kernel.accessAllowed ? 'block' : 'none';\n",
              "        })();\n",
              "      </script>\n",
              "    </div>\n",
              "\n",
              "    </div>\n",
              "  </div>\n"
            ],
            "application/vnd.google.colaboratory.intrinsic+json": {
              "type": "dataframe",
              "variable_name": "dataset"
            }
          },
          "metadata": {},
          "execution_count": 21
        }
      ]
    },
    {
      "cell_type": "code",
      "source": [
        "dataset.info()"
      ],
      "metadata": {
        "colab": {
          "base_uri": "https://localhost:8080/"
        },
        "id": "_gXiv8B0vrVK",
        "outputId": "4f0f89cd-5cd0-4356-db04-fd1412340f18"
      },
      "execution_count": 22,
      "outputs": [
        {
          "output_type": "stream",
          "name": "stdout",
          "text": [
            "<class 'pandas.core.frame.DataFrame'>\n",
            "RangeIndex: 3000 entries, 0 to 2999\n",
            "Data columns (total 28 columns):\n",
            " #   Column                      Non-Null Count  Dtype         \n",
            "---  ------                      --------------  -----         \n",
            " 0   EmpID                       3000 non-null   int64         \n",
            " 1   FirstName                   3000 non-null   object        \n",
            " 2   LastName                    3000 non-null   object        \n",
            " 3   StartDate                   3000 non-null   datetime64[ns]\n",
            " 4   ExitDate                    1533 non-null   datetime64[ns]\n",
            " 5   Title                       3000 non-null   object        \n",
            " 6   Supervisor                  3000 non-null   object        \n",
            " 7   ADEmail                     3000 non-null   object        \n",
            " 8   BusinessUnit                3000 non-null   object        \n",
            " 9   EmployeeStatus              3000 non-null   object        \n",
            " 10  EmployeeType                3000 non-null   object        \n",
            " 11  PayZone                     3000 non-null   object        \n",
            " 12  EmployeeClassificationType  3000 non-null   object        \n",
            " 13  TerminationType             3000 non-null   object        \n",
            " 14  TerminationDescription      1533 non-null   object        \n",
            " 15  DepartmentType              3000 non-null   object        \n",
            " 16  Division                    3000 non-null   object        \n",
            " 17  DOB                         3000 non-null   datetime64[ns]\n",
            " 18  State                       3000 non-null   object        \n",
            " 19  JobFunctionDescription      3000 non-null   object        \n",
            " 20  GenderCode                  3000 non-null   object        \n",
            " 21  LocationCode                3000 non-null   int64         \n",
            " 22  RaceDesc                    3000 non-null   object        \n",
            " 23  MaritalDesc                 3000 non-null   object        \n",
            " 24  Performance Score           3000 non-null   object        \n",
            " 25  Current Employee Rating     3000 non-null   int64         \n",
            " 26  Current Age                 3000 non-null   int64         \n",
            " 27  Tenure                      1527 non-null   Int64         \n",
            "dtypes: Int64(1), datetime64[ns](3), int64(4), object(20)\n",
            "memory usage: 659.3+ KB\n"
          ]
        }
      ]
    },
    {
      "cell_type": "markdown",
      "source": [
        "Let's remove the duplicates."
      ],
      "metadata": {
        "id": "NpJTR0i7v7wP"
      }
    },
    {
      "cell_type": "code",
      "source": [
        "'Duplicated rows: ' + str(dataset.drop(columns=['EmpID']).duplicated().sum())"
      ],
      "metadata": {
        "colab": {
          "base_uri": "https://localhost:8080/",
          "height": 0
        },
        "id": "6bDvVMw1v90i",
        "outputId": "c5e6b1b7-4793-4fe2-8f5d-73a7c163df89"
      },
      "execution_count": 23,
      "outputs": [
        {
          "output_type": "execute_result",
          "data": {
            "text/plain": [
              "'Duplicated rows: 0'"
            ],
            "application/vnd.google.colaboratory.intrinsic+json": {
              "type": "string"
            }
          },
          "metadata": {},
          "execution_count": 23
        }
      ]
    },
    {
      "cell_type": "markdown",
      "source": [
        "No duplicates.However maybe there are repeated people."
      ],
      "metadata": {
        "id": "NBXek4jcwAGo"
      }
    },
    {
      "cell_type": "code",
      "source": [
        "dataset[dataset[['FirstName', 'LastName']].duplicated()]"
      ],
      "metadata": {
        "colab": {
          "base_uri": "https://localhost:8080/",
          "height": 0
        },
        "id": "4XD4F5zJwDEK",
        "outputId": "e20501b1-f49a-4717-d2c6-437b5c88fb79"
      },
      "execution_count": 24,
      "outputs": [
        {
          "output_type": "execute_result",
          "data": {
            "text/plain": [
              "      EmpID FirstName LastName  StartDate   ExitDate  \\\n",
              "1742   2169   Larissa   Warner 2020-07-04 2022-05-11   \n",
              "2204   2631    Darien    Young 2021-03-03        NaT   \n",
              "\n",
              "                         Title      Supervisor                       ADEmail  \\\n",
              "1742  Production Technician II  Sarah Harrison  larissa.warner@bilearner.com   \n",
              "2204        Area Sales Manager      Maria Hale    darien.young@bilearner.com   \n",
              "\n",
              "     BusinessUnit EmployeeStatus  ... State JobFunctionDescription GenderCode  \\\n",
              "1742          MSC         Active  ...    MA                Flagger     Female   \n",
              "2204          MSC         Active  ...    ID                Foreman     Female   \n",
              "\n",
              "     LocationCode RaceDesc MaritalDesc Performance Score  \\\n",
              "1742        81396    Black     Widowed           Exceeds   \n",
              "2204        50389    Black     Widowed       Fully Meets   \n",
              "\n",
              "     Current Employee Rating Current Age Tenure  \n",
              "1742                       3          29    676  \n",
              "2204                       2          27   <NA>  \n",
              "\n",
              "[2 rows x 28 columns]"
            ],
            "text/html": [
              "\n",
              "  <div id=\"df-57a51d29-82ad-4d08-a30c-f10bc8119473\" class=\"colab-df-container\">\n",
              "    <div>\n",
              "<style scoped>\n",
              "    .dataframe tbody tr th:only-of-type {\n",
              "        vertical-align: middle;\n",
              "    }\n",
              "\n",
              "    .dataframe tbody tr th {\n",
              "        vertical-align: top;\n",
              "    }\n",
              "\n",
              "    .dataframe thead th {\n",
              "        text-align: right;\n",
              "    }\n",
              "</style>\n",
              "<table border=\"1\" class=\"dataframe\">\n",
              "  <thead>\n",
              "    <tr style=\"text-align: right;\">\n",
              "      <th></th>\n",
              "      <th>EmpID</th>\n",
              "      <th>FirstName</th>\n",
              "      <th>LastName</th>\n",
              "      <th>StartDate</th>\n",
              "      <th>ExitDate</th>\n",
              "      <th>Title</th>\n",
              "      <th>Supervisor</th>\n",
              "      <th>ADEmail</th>\n",
              "      <th>BusinessUnit</th>\n",
              "      <th>EmployeeStatus</th>\n",
              "      <th>...</th>\n",
              "      <th>State</th>\n",
              "      <th>JobFunctionDescription</th>\n",
              "      <th>GenderCode</th>\n",
              "      <th>LocationCode</th>\n",
              "      <th>RaceDesc</th>\n",
              "      <th>MaritalDesc</th>\n",
              "      <th>Performance Score</th>\n",
              "      <th>Current Employee Rating</th>\n",
              "      <th>Current Age</th>\n",
              "      <th>Tenure</th>\n",
              "    </tr>\n",
              "  </thead>\n",
              "  <tbody>\n",
              "    <tr>\n",
              "      <th>1742</th>\n",
              "      <td>2169</td>\n",
              "      <td>Larissa</td>\n",
              "      <td>Warner</td>\n",
              "      <td>2020-07-04</td>\n",
              "      <td>2022-05-11</td>\n",
              "      <td>Production Technician II</td>\n",
              "      <td>Sarah Harrison</td>\n",
              "      <td>larissa.warner@bilearner.com</td>\n",
              "      <td>MSC</td>\n",
              "      <td>Active</td>\n",
              "      <td>...</td>\n",
              "      <td>MA</td>\n",
              "      <td>Flagger</td>\n",
              "      <td>Female</td>\n",
              "      <td>81396</td>\n",
              "      <td>Black</td>\n",
              "      <td>Widowed</td>\n",
              "      <td>Exceeds</td>\n",
              "      <td>3</td>\n",
              "      <td>29</td>\n",
              "      <td>676</td>\n",
              "    </tr>\n",
              "    <tr>\n",
              "      <th>2204</th>\n",
              "      <td>2631</td>\n",
              "      <td>Darien</td>\n",
              "      <td>Young</td>\n",
              "      <td>2021-03-03</td>\n",
              "      <td>NaT</td>\n",
              "      <td>Area Sales Manager</td>\n",
              "      <td>Maria Hale</td>\n",
              "      <td>darien.young@bilearner.com</td>\n",
              "      <td>MSC</td>\n",
              "      <td>Active</td>\n",
              "      <td>...</td>\n",
              "      <td>ID</td>\n",
              "      <td>Foreman</td>\n",
              "      <td>Female</td>\n",
              "      <td>50389</td>\n",
              "      <td>Black</td>\n",
              "      <td>Widowed</td>\n",
              "      <td>Fully Meets</td>\n",
              "      <td>2</td>\n",
              "      <td>27</td>\n",
              "      <td>&lt;NA&gt;</td>\n",
              "    </tr>\n",
              "  </tbody>\n",
              "</table>\n",
              "<p>2 rows × 28 columns</p>\n",
              "</div>\n",
              "    <div class=\"colab-df-buttons\">\n",
              "\n",
              "  <div class=\"colab-df-container\">\n",
              "    <button class=\"colab-df-convert\" onclick=\"convertToInteractive('df-57a51d29-82ad-4d08-a30c-f10bc8119473')\"\n",
              "            title=\"Convert this dataframe to an interactive table.\"\n",
              "            style=\"display:none;\">\n",
              "\n",
              "  <svg xmlns=\"http://www.w3.org/2000/svg\" height=\"24px\" viewBox=\"0 -960 960 960\">\n",
              "    <path d=\"M120-120v-720h720v720H120Zm60-500h600v-160H180v160Zm220 220h160v-160H400v160Zm0 220h160v-160H400v160ZM180-400h160v-160H180v160Zm440 0h160v-160H620v160ZM180-180h160v-160H180v160Zm440 0h160v-160H620v160Z\"/>\n",
              "  </svg>\n",
              "    </button>\n",
              "\n",
              "  <style>\n",
              "    .colab-df-container {\n",
              "      display:flex;\n",
              "      gap: 12px;\n",
              "    }\n",
              "\n",
              "    .colab-df-convert {\n",
              "      background-color: #E8F0FE;\n",
              "      border: none;\n",
              "      border-radius: 50%;\n",
              "      cursor: pointer;\n",
              "      display: none;\n",
              "      fill: #1967D2;\n",
              "      height: 32px;\n",
              "      padding: 0 0 0 0;\n",
              "      width: 32px;\n",
              "    }\n",
              "\n",
              "    .colab-df-convert:hover {\n",
              "      background-color: #E2EBFA;\n",
              "      box-shadow: 0px 1px 2px rgba(60, 64, 67, 0.3), 0px 1px 3px 1px rgba(60, 64, 67, 0.15);\n",
              "      fill: #174EA6;\n",
              "    }\n",
              "\n",
              "    .colab-df-buttons div {\n",
              "      margin-bottom: 4px;\n",
              "    }\n",
              "\n",
              "    [theme=dark] .colab-df-convert {\n",
              "      background-color: #3B4455;\n",
              "      fill: #D2E3FC;\n",
              "    }\n",
              "\n",
              "    [theme=dark] .colab-df-convert:hover {\n",
              "      background-color: #434B5C;\n",
              "      box-shadow: 0px 1px 3px 1px rgba(0, 0, 0, 0.15);\n",
              "      filter: drop-shadow(0px 1px 2px rgba(0, 0, 0, 0.3));\n",
              "      fill: #FFFFFF;\n",
              "    }\n",
              "  </style>\n",
              "\n",
              "    <script>\n",
              "      const buttonEl =\n",
              "        document.querySelector('#df-57a51d29-82ad-4d08-a30c-f10bc8119473 button.colab-df-convert');\n",
              "      buttonEl.style.display =\n",
              "        google.colab.kernel.accessAllowed ? 'block' : 'none';\n",
              "\n",
              "      async function convertToInteractive(key) {\n",
              "        const element = document.querySelector('#df-57a51d29-82ad-4d08-a30c-f10bc8119473');\n",
              "        const dataTable =\n",
              "          await google.colab.kernel.invokeFunction('convertToInteractive',\n",
              "                                                    [key], {});\n",
              "        if (!dataTable) return;\n",
              "\n",
              "        const docLinkHtml = 'Like what you see? Visit the ' +\n",
              "          '<a target=\"_blank\" href=https://colab.research.google.com/notebooks/data_table.ipynb>data table notebook</a>'\n",
              "          + ' to learn more about interactive tables.';\n",
              "        element.innerHTML = '';\n",
              "        dataTable['output_type'] = 'display_data';\n",
              "        await google.colab.output.renderOutput(dataTable, element);\n",
              "        const docLink = document.createElement('div');\n",
              "        docLink.innerHTML = docLinkHtml;\n",
              "        element.appendChild(docLink);\n",
              "      }\n",
              "    </script>\n",
              "  </div>\n",
              "\n",
              "\n",
              "    <div id=\"df-3cca9723-2060-4118-b948-90e8697661d4\">\n",
              "      <button class=\"colab-df-quickchart\" onclick=\"quickchart('df-3cca9723-2060-4118-b948-90e8697661d4')\"\n",
              "                title=\"Suggest charts\"\n",
              "                style=\"display:none;\">\n",
              "\n",
              "<svg xmlns=\"http://www.w3.org/2000/svg\" height=\"24px\"viewBox=\"0 0 24 24\"\n",
              "     width=\"24px\">\n",
              "    <g>\n",
              "        <path d=\"M19 3H5c-1.1 0-2 .9-2 2v14c0 1.1.9 2 2 2h14c1.1 0 2-.9 2-2V5c0-1.1-.9-2-2-2zM9 17H7v-7h2v7zm4 0h-2V7h2v10zm4 0h-2v-4h2v4z\"/>\n",
              "    </g>\n",
              "</svg>\n",
              "      </button>\n",
              "\n",
              "<style>\n",
              "  .colab-df-quickchart {\n",
              "      --bg-color: #E8F0FE;\n",
              "      --fill-color: #1967D2;\n",
              "      --hover-bg-color: #E2EBFA;\n",
              "      --hover-fill-color: #174EA6;\n",
              "      --disabled-fill-color: #AAA;\n",
              "      --disabled-bg-color: #DDD;\n",
              "  }\n",
              "\n",
              "  [theme=dark] .colab-df-quickchart {\n",
              "      --bg-color: #3B4455;\n",
              "      --fill-color: #D2E3FC;\n",
              "      --hover-bg-color: #434B5C;\n",
              "      --hover-fill-color: #FFFFFF;\n",
              "      --disabled-bg-color: #3B4455;\n",
              "      --disabled-fill-color: #666;\n",
              "  }\n",
              "\n",
              "  .colab-df-quickchart {\n",
              "    background-color: var(--bg-color);\n",
              "    border: none;\n",
              "    border-radius: 50%;\n",
              "    cursor: pointer;\n",
              "    display: none;\n",
              "    fill: var(--fill-color);\n",
              "    height: 32px;\n",
              "    padding: 0;\n",
              "    width: 32px;\n",
              "  }\n",
              "\n",
              "  .colab-df-quickchart:hover {\n",
              "    background-color: var(--hover-bg-color);\n",
              "    box-shadow: 0 1px 2px rgba(60, 64, 67, 0.3), 0 1px 3px 1px rgba(60, 64, 67, 0.15);\n",
              "    fill: var(--button-hover-fill-color);\n",
              "  }\n",
              "\n",
              "  .colab-df-quickchart-complete:disabled,\n",
              "  .colab-df-quickchart-complete:disabled:hover {\n",
              "    background-color: var(--disabled-bg-color);\n",
              "    fill: var(--disabled-fill-color);\n",
              "    box-shadow: none;\n",
              "  }\n",
              "\n",
              "  .colab-df-spinner {\n",
              "    border: 2px solid var(--fill-color);\n",
              "    border-color: transparent;\n",
              "    border-bottom-color: var(--fill-color);\n",
              "    animation:\n",
              "      spin 1s steps(1) infinite;\n",
              "  }\n",
              "\n",
              "  @keyframes spin {\n",
              "    0% {\n",
              "      border-color: transparent;\n",
              "      border-bottom-color: var(--fill-color);\n",
              "      border-left-color: var(--fill-color);\n",
              "    }\n",
              "    20% {\n",
              "      border-color: transparent;\n",
              "      border-left-color: var(--fill-color);\n",
              "      border-top-color: var(--fill-color);\n",
              "    }\n",
              "    30% {\n",
              "      border-color: transparent;\n",
              "      border-left-color: var(--fill-color);\n",
              "      border-top-color: var(--fill-color);\n",
              "      border-right-color: var(--fill-color);\n",
              "    }\n",
              "    40% {\n",
              "      border-color: transparent;\n",
              "      border-right-color: var(--fill-color);\n",
              "      border-top-color: var(--fill-color);\n",
              "    }\n",
              "    60% {\n",
              "      border-color: transparent;\n",
              "      border-right-color: var(--fill-color);\n",
              "    }\n",
              "    80% {\n",
              "      border-color: transparent;\n",
              "      border-right-color: var(--fill-color);\n",
              "      border-bottom-color: var(--fill-color);\n",
              "    }\n",
              "    90% {\n",
              "      border-color: transparent;\n",
              "      border-bottom-color: var(--fill-color);\n",
              "    }\n",
              "  }\n",
              "</style>\n",
              "\n",
              "      <script>\n",
              "        async function quickchart(key) {\n",
              "          const quickchartButtonEl =\n",
              "            document.querySelector('#' + key + ' button');\n",
              "          quickchartButtonEl.disabled = true;  // To prevent multiple clicks.\n",
              "          quickchartButtonEl.classList.add('colab-df-spinner');\n",
              "          try {\n",
              "            const charts = await google.colab.kernel.invokeFunction(\n",
              "                'suggestCharts', [key], {});\n",
              "          } catch (error) {\n",
              "            console.error('Error during call to suggestCharts:', error);\n",
              "          }\n",
              "          quickchartButtonEl.classList.remove('colab-df-spinner');\n",
              "          quickchartButtonEl.classList.add('colab-df-quickchart-complete');\n",
              "        }\n",
              "        (() => {\n",
              "          let quickchartButtonEl =\n",
              "            document.querySelector('#df-3cca9723-2060-4118-b948-90e8697661d4 button');\n",
              "          quickchartButtonEl.style.display =\n",
              "            google.colab.kernel.accessAllowed ? 'block' : 'none';\n",
              "        })();\n",
              "      </script>\n",
              "    </div>\n",
              "\n",
              "    </div>\n",
              "  </div>\n"
            ],
            "application/vnd.google.colaboratory.intrinsic+json": {
              "type": "dataframe"
            }
          },
          "metadata": {},
          "execution_count": 24
        }
      ]
    },
    {
      "cell_type": "markdown",
      "source": [
        "Found two repeated names. Let's see whether they belong to different people."
      ],
      "metadata": {
        "id": "S8V-lKLSwGPV"
      }
    },
    {
      "cell_type": "code",
      "source": [
        "dataset[(dataset['FirstName'] == 'Larissa') & (dataset['LastName'] == 'Warner')]"
      ],
      "metadata": {
        "colab": {
          "base_uri": "https://localhost:8080/",
          "height": 0
        },
        "id": "diGsOZr9wG-u",
        "outputId": "5fcaea0d-a472-415e-b247-76bdc05e981c"
      },
      "execution_count": 25,
      "outputs": [
        {
          "output_type": "execute_result",
          "data": {
            "text/plain": [
              "      EmpID FirstName LastName  StartDate   ExitDate  \\\n",
              "865    1292   Larissa   Warner 2018-10-27        NaT   \n",
              "1742   2169   Larissa   Warner 2020-07-04 2022-05-11   \n",
              "\n",
              "                         Title      Supervisor                       ADEmail  \\\n",
              "865    Production Technician I        Amy Hess  larissa.warner@bilearner.com   \n",
              "1742  Production Technician II  Sarah Harrison  larissa.warner@bilearner.com   \n",
              "\n",
              "     BusinessUnit EmployeeStatus  ... State JobFunctionDescription GenderCode  \\\n",
              "865           BPC         Active  ...    MA               Engineer     Female   \n",
              "1742          MSC         Active  ...    MA                Flagger     Female   \n",
              "\n",
              "     LocationCode RaceDesc MaritalDesc Performance Score  \\\n",
              "865         28931    White    Divorced       Fully Meets   \n",
              "1742        81396    Black     Widowed           Exceeds   \n",
              "\n",
              "     Current Employee Rating Current Age Tenure  \n",
              "865                        3          81   <NA>  \n",
              "1742                       3          29    676  \n",
              "\n",
              "[2 rows x 28 columns]"
            ],
            "text/html": [
              "\n",
              "  <div id=\"df-18e4e2cb-6563-4843-ac36-80311ed76133\" class=\"colab-df-container\">\n",
              "    <div>\n",
              "<style scoped>\n",
              "    .dataframe tbody tr th:only-of-type {\n",
              "        vertical-align: middle;\n",
              "    }\n",
              "\n",
              "    .dataframe tbody tr th {\n",
              "        vertical-align: top;\n",
              "    }\n",
              "\n",
              "    .dataframe thead th {\n",
              "        text-align: right;\n",
              "    }\n",
              "</style>\n",
              "<table border=\"1\" class=\"dataframe\">\n",
              "  <thead>\n",
              "    <tr style=\"text-align: right;\">\n",
              "      <th></th>\n",
              "      <th>EmpID</th>\n",
              "      <th>FirstName</th>\n",
              "      <th>LastName</th>\n",
              "      <th>StartDate</th>\n",
              "      <th>ExitDate</th>\n",
              "      <th>Title</th>\n",
              "      <th>Supervisor</th>\n",
              "      <th>ADEmail</th>\n",
              "      <th>BusinessUnit</th>\n",
              "      <th>EmployeeStatus</th>\n",
              "      <th>...</th>\n",
              "      <th>State</th>\n",
              "      <th>JobFunctionDescription</th>\n",
              "      <th>GenderCode</th>\n",
              "      <th>LocationCode</th>\n",
              "      <th>RaceDesc</th>\n",
              "      <th>MaritalDesc</th>\n",
              "      <th>Performance Score</th>\n",
              "      <th>Current Employee Rating</th>\n",
              "      <th>Current Age</th>\n",
              "      <th>Tenure</th>\n",
              "    </tr>\n",
              "  </thead>\n",
              "  <tbody>\n",
              "    <tr>\n",
              "      <th>865</th>\n",
              "      <td>1292</td>\n",
              "      <td>Larissa</td>\n",
              "      <td>Warner</td>\n",
              "      <td>2018-10-27</td>\n",
              "      <td>NaT</td>\n",
              "      <td>Production Technician I</td>\n",
              "      <td>Amy Hess</td>\n",
              "      <td>larissa.warner@bilearner.com</td>\n",
              "      <td>BPC</td>\n",
              "      <td>Active</td>\n",
              "      <td>...</td>\n",
              "      <td>MA</td>\n",
              "      <td>Engineer</td>\n",
              "      <td>Female</td>\n",
              "      <td>28931</td>\n",
              "      <td>White</td>\n",
              "      <td>Divorced</td>\n",
              "      <td>Fully Meets</td>\n",
              "      <td>3</td>\n",
              "      <td>81</td>\n",
              "      <td>&lt;NA&gt;</td>\n",
              "    </tr>\n",
              "    <tr>\n",
              "      <th>1742</th>\n",
              "      <td>2169</td>\n",
              "      <td>Larissa</td>\n",
              "      <td>Warner</td>\n",
              "      <td>2020-07-04</td>\n",
              "      <td>2022-05-11</td>\n",
              "      <td>Production Technician II</td>\n",
              "      <td>Sarah Harrison</td>\n",
              "      <td>larissa.warner@bilearner.com</td>\n",
              "      <td>MSC</td>\n",
              "      <td>Active</td>\n",
              "      <td>...</td>\n",
              "      <td>MA</td>\n",
              "      <td>Flagger</td>\n",
              "      <td>Female</td>\n",
              "      <td>81396</td>\n",
              "      <td>Black</td>\n",
              "      <td>Widowed</td>\n",
              "      <td>Exceeds</td>\n",
              "      <td>3</td>\n",
              "      <td>29</td>\n",
              "      <td>676</td>\n",
              "    </tr>\n",
              "  </tbody>\n",
              "</table>\n",
              "<p>2 rows × 28 columns</p>\n",
              "</div>\n",
              "    <div class=\"colab-df-buttons\">\n",
              "\n",
              "  <div class=\"colab-df-container\">\n",
              "    <button class=\"colab-df-convert\" onclick=\"convertToInteractive('df-18e4e2cb-6563-4843-ac36-80311ed76133')\"\n",
              "            title=\"Convert this dataframe to an interactive table.\"\n",
              "            style=\"display:none;\">\n",
              "\n",
              "  <svg xmlns=\"http://www.w3.org/2000/svg\" height=\"24px\" viewBox=\"0 -960 960 960\">\n",
              "    <path d=\"M120-120v-720h720v720H120Zm60-500h600v-160H180v160Zm220 220h160v-160H400v160Zm0 220h160v-160H400v160ZM180-400h160v-160H180v160Zm440 0h160v-160H620v160ZM180-180h160v-160H180v160Zm440 0h160v-160H620v160Z\"/>\n",
              "  </svg>\n",
              "    </button>\n",
              "\n",
              "  <style>\n",
              "    .colab-df-container {\n",
              "      display:flex;\n",
              "      gap: 12px;\n",
              "    }\n",
              "\n",
              "    .colab-df-convert {\n",
              "      background-color: #E8F0FE;\n",
              "      border: none;\n",
              "      border-radius: 50%;\n",
              "      cursor: pointer;\n",
              "      display: none;\n",
              "      fill: #1967D2;\n",
              "      height: 32px;\n",
              "      padding: 0 0 0 0;\n",
              "      width: 32px;\n",
              "    }\n",
              "\n",
              "    .colab-df-convert:hover {\n",
              "      background-color: #E2EBFA;\n",
              "      box-shadow: 0px 1px 2px rgba(60, 64, 67, 0.3), 0px 1px 3px 1px rgba(60, 64, 67, 0.15);\n",
              "      fill: #174EA6;\n",
              "    }\n",
              "\n",
              "    .colab-df-buttons div {\n",
              "      margin-bottom: 4px;\n",
              "    }\n",
              "\n",
              "    [theme=dark] .colab-df-convert {\n",
              "      background-color: #3B4455;\n",
              "      fill: #D2E3FC;\n",
              "    }\n",
              "\n",
              "    [theme=dark] .colab-df-convert:hover {\n",
              "      background-color: #434B5C;\n",
              "      box-shadow: 0px 1px 3px 1px rgba(0, 0, 0, 0.15);\n",
              "      filter: drop-shadow(0px 1px 2px rgba(0, 0, 0, 0.3));\n",
              "      fill: #FFFFFF;\n",
              "    }\n",
              "  </style>\n",
              "\n",
              "    <script>\n",
              "      const buttonEl =\n",
              "        document.querySelector('#df-18e4e2cb-6563-4843-ac36-80311ed76133 button.colab-df-convert');\n",
              "      buttonEl.style.display =\n",
              "        google.colab.kernel.accessAllowed ? 'block' : 'none';\n",
              "\n",
              "      async function convertToInteractive(key) {\n",
              "        const element = document.querySelector('#df-18e4e2cb-6563-4843-ac36-80311ed76133');\n",
              "        const dataTable =\n",
              "          await google.colab.kernel.invokeFunction('convertToInteractive',\n",
              "                                                    [key], {});\n",
              "        if (!dataTable) return;\n",
              "\n",
              "        const docLinkHtml = 'Like what you see? Visit the ' +\n",
              "          '<a target=\"_blank\" href=https://colab.research.google.com/notebooks/data_table.ipynb>data table notebook</a>'\n",
              "          + ' to learn more about interactive tables.';\n",
              "        element.innerHTML = '';\n",
              "        dataTable['output_type'] = 'display_data';\n",
              "        await google.colab.output.renderOutput(dataTable, element);\n",
              "        const docLink = document.createElement('div');\n",
              "        docLink.innerHTML = docLinkHtml;\n",
              "        element.appendChild(docLink);\n",
              "      }\n",
              "    </script>\n",
              "  </div>\n",
              "\n",
              "\n",
              "    <div id=\"df-558566fd-031a-413a-ab6f-a149f69e5891\">\n",
              "      <button class=\"colab-df-quickchart\" onclick=\"quickchart('df-558566fd-031a-413a-ab6f-a149f69e5891')\"\n",
              "                title=\"Suggest charts\"\n",
              "                style=\"display:none;\">\n",
              "\n",
              "<svg xmlns=\"http://www.w3.org/2000/svg\" height=\"24px\"viewBox=\"0 0 24 24\"\n",
              "     width=\"24px\">\n",
              "    <g>\n",
              "        <path d=\"M19 3H5c-1.1 0-2 .9-2 2v14c0 1.1.9 2 2 2h14c1.1 0 2-.9 2-2V5c0-1.1-.9-2-2-2zM9 17H7v-7h2v7zm4 0h-2V7h2v10zm4 0h-2v-4h2v4z\"/>\n",
              "    </g>\n",
              "</svg>\n",
              "      </button>\n",
              "\n",
              "<style>\n",
              "  .colab-df-quickchart {\n",
              "      --bg-color: #E8F0FE;\n",
              "      --fill-color: #1967D2;\n",
              "      --hover-bg-color: #E2EBFA;\n",
              "      --hover-fill-color: #174EA6;\n",
              "      --disabled-fill-color: #AAA;\n",
              "      --disabled-bg-color: #DDD;\n",
              "  }\n",
              "\n",
              "  [theme=dark] .colab-df-quickchart {\n",
              "      --bg-color: #3B4455;\n",
              "      --fill-color: #D2E3FC;\n",
              "      --hover-bg-color: #434B5C;\n",
              "      --hover-fill-color: #FFFFFF;\n",
              "      --disabled-bg-color: #3B4455;\n",
              "      --disabled-fill-color: #666;\n",
              "  }\n",
              "\n",
              "  .colab-df-quickchart {\n",
              "    background-color: var(--bg-color);\n",
              "    border: none;\n",
              "    border-radius: 50%;\n",
              "    cursor: pointer;\n",
              "    display: none;\n",
              "    fill: var(--fill-color);\n",
              "    height: 32px;\n",
              "    padding: 0;\n",
              "    width: 32px;\n",
              "  }\n",
              "\n",
              "  .colab-df-quickchart:hover {\n",
              "    background-color: var(--hover-bg-color);\n",
              "    box-shadow: 0 1px 2px rgba(60, 64, 67, 0.3), 0 1px 3px 1px rgba(60, 64, 67, 0.15);\n",
              "    fill: var(--button-hover-fill-color);\n",
              "  }\n",
              "\n",
              "  .colab-df-quickchart-complete:disabled,\n",
              "  .colab-df-quickchart-complete:disabled:hover {\n",
              "    background-color: var(--disabled-bg-color);\n",
              "    fill: var(--disabled-fill-color);\n",
              "    box-shadow: none;\n",
              "  }\n",
              "\n",
              "  .colab-df-spinner {\n",
              "    border: 2px solid var(--fill-color);\n",
              "    border-color: transparent;\n",
              "    border-bottom-color: var(--fill-color);\n",
              "    animation:\n",
              "      spin 1s steps(1) infinite;\n",
              "  }\n",
              "\n",
              "  @keyframes spin {\n",
              "    0% {\n",
              "      border-color: transparent;\n",
              "      border-bottom-color: var(--fill-color);\n",
              "      border-left-color: var(--fill-color);\n",
              "    }\n",
              "    20% {\n",
              "      border-color: transparent;\n",
              "      border-left-color: var(--fill-color);\n",
              "      border-top-color: var(--fill-color);\n",
              "    }\n",
              "    30% {\n",
              "      border-color: transparent;\n",
              "      border-left-color: var(--fill-color);\n",
              "      border-top-color: var(--fill-color);\n",
              "      border-right-color: var(--fill-color);\n",
              "    }\n",
              "    40% {\n",
              "      border-color: transparent;\n",
              "      border-right-color: var(--fill-color);\n",
              "      border-top-color: var(--fill-color);\n",
              "    }\n",
              "    60% {\n",
              "      border-color: transparent;\n",
              "      border-right-color: var(--fill-color);\n",
              "    }\n",
              "    80% {\n",
              "      border-color: transparent;\n",
              "      border-right-color: var(--fill-color);\n",
              "      border-bottom-color: var(--fill-color);\n",
              "    }\n",
              "    90% {\n",
              "      border-color: transparent;\n",
              "      border-bottom-color: var(--fill-color);\n",
              "    }\n",
              "  }\n",
              "</style>\n",
              "\n",
              "      <script>\n",
              "        async function quickchart(key) {\n",
              "          const quickchartButtonEl =\n",
              "            document.querySelector('#' + key + ' button');\n",
              "          quickchartButtonEl.disabled = true;  // To prevent multiple clicks.\n",
              "          quickchartButtonEl.classList.add('colab-df-spinner');\n",
              "          try {\n",
              "            const charts = await google.colab.kernel.invokeFunction(\n",
              "                'suggestCharts', [key], {});\n",
              "          } catch (error) {\n",
              "            console.error('Error during call to suggestCharts:', error);\n",
              "          }\n",
              "          quickchartButtonEl.classList.remove('colab-df-spinner');\n",
              "          quickchartButtonEl.classList.add('colab-df-quickchart-complete');\n",
              "        }\n",
              "        (() => {\n",
              "          let quickchartButtonEl =\n",
              "            document.querySelector('#df-558566fd-031a-413a-ab6f-a149f69e5891 button');\n",
              "          quickchartButtonEl.style.display =\n",
              "            google.colab.kernel.accessAllowed ? 'block' : 'none';\n",
              "        })();\n",
              "      </script>\n",
              "    </div>\n",
              "\n",
              "    </div>\n",
              "  </div>\n"
            ],
            "application/vnd.google.colaboratory.intrinsic+json": {
              "type": "dataframe"
            }
          },
          "metadata": {},
          "execution_count": 25
        }
      ]
    },
    {
      "cell_type": "markdown",
      "source": [
        "Either these two Larissas are different people who happen to share names and emails, or this is one person who left the company, became a widow, changed her race from white to black, and was hired back."
      ],
      "metadata": {
        "id": "qVY8YwZHwLWq"
      }
    },
    {
      "cell_type": "code",
      "source": [
        "dataset[(dataset['FirstName'] == 'Darien') & (dataset['LastName'] == 'Young')]"
      ],
      "metadata": {
        "colab": {
          "base_uri": "https://localhost:8080/",
          "height": 0
        },
        "id": "wZMbZWYuwPhl",
        "outputId": "abb4cf43-3bb4-45fe-c667-f7b47c3f4832"
      },
      "execution_count": 26,
      "outputs": [
        {
          "output_type": "execute_result",
          "data": {
            "text/plain": [
              "      EmpID FirstName LastName  StartDate   ExitDate               Title  \\\n",
              "1974   2401    Darien    Young 2022-11-09 2023-01-10  Production Manager   \n",
              "2204   2631    Darien    Young 2021-03-03        NaT  Area Sales Manager   \n",
              "\n",
              "            Supervisor                     ADEmail BusinessUnit  \\\n",
              "1974  Christopher Reid  darien.young@bilearner.com          NEL   \n",
              "2204        Maria Hale  darien.young@bilearner.com          MSC   \n",
              "\n",
              "            EmployeeStatus  ... State JobFunctionDescription GenderCode  \\\n",
              "1974  Terminated for Cause  ...    MA             Technician     Female   \n",
              "2204                Active  ...    ID                Foreman     Female   \n",
              "\n",
              "     LocationCode RaceDesc MaritalDesc Performance Score  \\\n",
              "1974        96954    Asian    Divorced       Fully Meets   \n",
              "2204        50389    Black     Widowed       Fully Meets   \n",
              "\n",
              "     Current Employee Rating Current Age Tenure  \n",
              "1974                       5          79     62  \n",
              "2204                       2          27   <NA>  \n",
              "\n",
              "[2 rows x 28 columns]"
            ],
            "text/html": [
              "\n",
              "  <div id=\"df-5df184eb-b5a2-4e07-9848-c1dce3b9480f\" class=\"colab-df-container\">\n",
              "    <div>\n",
              "<style scoped>\n",
              "    .dataframe tbody tr th:only-of-type {\n",
              "        vertical-align: middle;\n",
              "    }\n",
              "\n",
              "    .dataframe tbody tr th {\n",
              "        vertical-align: top;\n",
              "    }\n",
              "\n",
              "    .dataframe thead th {\n",
              "        text-align: right;\n",
              "    }\n",
              "</style>\n",
              "<table border=\"1\" class=\"dataframe\">\n",
              "  <thead>\n",
              "    <tr style=\"text-align: right;\">\n",
              "      <th></th>\n",
              "      <th>EmpID</th>\n",
              "      <th>FirstName</th>\n",
              "      <th>LastName</th>\n",
              "      <th>StartDate</th>\n",
              "      <th>ExitDate</th>\n",
              "      <th>Title</th>\n",
              "      <th>Supervisor</th>\n",
              "      <th>ADEmail</th>\n",
              "      <th>BusinessUnit</th>\n",
              "      <th>EmployeeStatus</th>\n",
              "      <th>...</th>\n",
              "      <th>State</th>\n",
              "      <th>JobFunctionDescription</th>\n",
              "      <th>GenderCode</th>\n",
              "      <th>LocationCode</th>\n",
              "      <th>RaceDesc</th>\n",
              "      <th>MaritalDesc</th>\n",
              "      <th>Performance Score</th>\n",
              "      <th>Current Employee Rating</th>\n",
              "      <th>Current Age</th>\n",
              "      <th>Tenure</th>\n",
              "    </tr>\n",
              "  </thead>\n",
              "  <tbody>\n",
              "    <tr>\n",
              "      <th>1974</th>\n",
              "      <td>2401</td>\n",
              "      <td>Darien</td>\n",
              "      <td>Young</td>\n",
              "      <td>2022-11-09</td>\n",
              "      <td>2023-01-10</td>\n",
              "      <td>Production Manager</td>\n",
              "      <td>Christopher Reid</td>\n",
              "      <td>darien.young@bilearner.com</td>\n",
              "      <td>NEL</td>\n",
              "      <td>Terminated for Cause</td>\n",
              "      <td>...</td>\n",
              "      <td>MA</td>\n",
              "      <td>Technician</td>\n",
              "      <td>Female</td>\n",
              "      <td>96954</td>\n",
              "      <td>Asian</td>\n",
              "      <td>Divorced</td>\n",
              "      <td>Fully Meets</td>\n",
              "      <td>5</td>\n",
              "      <td>79</td>\n",
              "      <td>62</td>\n",
              "    </tr>\n",
              "    <tr>\n",
              "      <th>2204</th>\n",
              "      <td>2631</td>\n",
              "      <td>Darien</td>\n",
              "      <td>Young</td>\n",
              "      <td>2021-03-03</td>\n",
              "      <td>NaT</td>\n",
              "      <td>Area Sales Manager</td>\n",
              "      <td>Maria Hale</td>\n",
              "      <td>darien.young@bilearner.com</td>\n",
              "      <td>MSC</td>\n",
              "      <td>Active</td>\n",
              "      <td>...</td>\n",
              "      <td>ID</td>\n",
              "      <td>Foreman</td>\n",
              "      <td>Female</td>\n",
              "      <td>50389</td>\n",
              "      <td>Black</td>\n",
              "      <td>Widowed</td>\n",
              "      <td>Fully Meets</td>\n",
              "      <td>2</td>\n",
              "      <td>27</td>\n",
              "      <td>&lt;NA&gt;</td>\n",
              "    </tr>\n",
              "  </tbody>\n",
              "</table>\n",
              "<p>2 rows × 28 columns</p>\n",
              "</div>\n",
              "    <div class=\"colab-df-buttons\">\n",
              "\n",
              "  <div class=\"colab-df-container\">\n",
              "    <button class=\"colab-df-convert\" onclick=\"convertToInteractive('df-5df184eb-b5a2-4e07-9848-c1dce3b9480f')\"\n",
              "            title=\"Convert this dataframe to an interactive table.\"\n",
              "            style=\"display:none;\">\n",
              "\n",
              "  <svg xmlns=\"http://www.w3.org/2000/svg\" height=\"24px\" viewBox=\"0 -960 960 960\">\n",
              "    <path d=\"M120-120v-720h720v720H120Zm60-500h600v-160H180v160Zm220 220h160v-160H400v160Zm0 220h160v-160H400v160ZM180-400h160v-160H180v160Zm440 0h160v-160H620v160ZM180-180h160v-160H180v160Zm440 0h160v-160H620v160Z\"/>\n",
              "  </svg>\n",
              "    </button>\n",
              "\n",
              "  <style>\n",
              "    .colab-df-container {\n",
              "      display:flex;\n",
              "      gap: 12px;\n",
              "    }\n",
              "\n",
              "    .colab-df-convert {\n",
              "      background-color: #E8F0FE;\n",
              "      border: none;\n",
              "      border-radius: 50%;\n",
              "      cursor: pointer;\n",
              "      display: none;\n",
              "      fill: #1967D2;\n",
              "      height: 32px;\n",
              "      padding: 0 0 0 0;\n",
              "      width: 32px;\n",
              "    }\n",
              "\n",
              "    .colab-df-convert:hover {\n",
              "      background-color: #E2EBFA;\n",
              "      box-shadow: 0px 1px 2px rgba(60, 64, 67, 0.3), 0px 1px 3px 1px rgba(60, 64, 67, 0.15);\n",
              "      fill: #174EA6;\n",
              "    }\n",
              "\n",
              "    .colab-df-buttons div {\n",
              "      margin-bottom: 4px;\n",
              "    }\n",
              "\n",
              "    [theme=dark] .colab-df-convert {\n",
              "      background-color: #3B4455;\n",
              "      fill: #D2E3FC;\n",
              "    }\n",
              "\n",
              "    [theme=dark] .colab-df-convert:hover {\n",
              "      background-color: #434B5C;\n",
              "      box-shadow: 0px 1px 3px 1px rgba(0, 0, 0, 0.15);\n",
              "      filter: drop-shadow(0px 1px 2px rgba(0, 0, 0, 0.3));\n",
              "      fill: #FFFFFF;\n",
              "    }\n",
              "  </style>\n",
              "\n",
              "    <script>\n",
              "      const buttonEl =\n",
              "        document.querySelector('#df-5df184eb-b5a2-4e07-9848-c1dce3b9480f button.colab-df-convert');\n",
              "      buttonEl.style.display =\n",
              "        google.colab.kernel.accessAllowed ? 'block' : 'none';\n",
              "\n",
              "      async function convertToInteractive(key) {\n",
              "        const element = document.querySelector('#df-5df184eb-b5a2-4e07-9848-c1dce3b9480f');\n",
              "        const dataTable =\n",
              "          await google.colab.kernel.invokeFunction('convertToInteractive',\n",
              "                                                    [key], {});\n",
              "        if (!dataTable) return;\n",
              "\n",
              "        const docLinkHtml = 'Like what you see? Visit the ' +\n",
              "          '<a target=\"_blank\" href=https://colab.research.google.com/notebooks/data_table.ipynb>data table notebook</a>'\n",
              "          + ' to learn more about interactive tables.';\n",
              "        element.innerHTML = '';\n",
              "        dataTable['output_type'] = 'display_data';\n",
              "        await google.colab.output.renderOutput(dataTable, element);\n",
              "        const docLink = document.createElement('div');\n",
              "        docLink.innerHTML = docLinkHtml;\n",
              "        element.appendChild(docLink);\n",
              "      }\n",
              "    </script>\n",
              "  </div>\n",
              "\n",
              "\n",
              "    <div id=\"df-ea03cf9c-982f-4cc1-8d0d-65384e87d5bd\">\n",
              "      <button class=\"colab-df-quickchart\" onclick=\"quickchart('df-ea03cf9c-982f-4cc1-8d0d-65384e87d5bd')\"\n",
              "                title=\"Suggest charts\"\n",
              "                style=\"display:none;\">\n",
              "\n",
              "<svg xmlns=\"http://www.w3.org/2000/svg\" height=\"24px\"viewBox=\"0 0 24 24\"\n",
              "     width=\"24px\">\n",
              "    <g>\n",
              "        <path d=\"M19 3H5c-1.1 0-2 .9-2 2v14c0 1.1.9 2 2 2h14c1.1 0 2-.9 2-2V5c0-1.1-.9-2-2-2zM9 17H7v-7h2v7zm4 0h-2V7h2v10zm4 0h-2v-4h2v4z\"/>\n",
              "    </g>\n",
              "</svg>\n",
              "      </button>\n",
              "\n",
              "<style>\n",
              "  .colab-df-quickchart {\n",
              "      --bg-color: #E8F0FE;\n",
              "      --fill-color: #1967D2;\n",
              "      --hover-bg-color: #E2EBFA;\n",
              "      --hover-fill-color: #174EA6;\n",
              "      --disabled-fill-color: #AAA;\n",
              "      --disabled-bg-color: #DDD;\n",
              "  }\n",
              "\n",
              "  [theme=dark] .colab-df-quickchart {\n",
              "      --bg-color: #3B4455;\n",
              "      --fill-color: #D2E3FC;\n",
              "      --hover-bg-color: #434B5C;\n",
              "      --hover-fill-color: #FFFFFF;\n",
              "      --disabled-bg-color: #3B4455;\n",
              "      --disabled-fill-color: #666;\n",
              "  }\n",
              "\n",
              "  .colab-df-quickchart {\n",
              "    background-color: var(--bg-color);\n",
              "    border: none;\n",
              "    border-radius: 50%;\n",
              "    cursor: pointer;\n",
              "    display: none;\n",
              "    fill: var(--fill-color);\n",
              "    height: 32px;\n",
              "    padding: 0;\n",
              "    width: 32px;\n",
              "  }\n",
              "\n",
              "  .colab-df-quickchart:hover {\n",
              "    background-color: var(--hover-bg-color);\n",
              "    box-shadow: 0 1px 2px rgba(60, 64, 67, 0.3), 0 1px 3px 1px rgba(60, 64, 67, 0.15);\n",
              "    fill: var(--button-hover-fill-color);\n",
              "  }\n",
              "\n",
              "  .colab-df-quickchart-complete:disabled,\n",
              "  .colab-df-quickchart-complete:disabled:hover {\n",
              "    background-color: var(--disabled-bg-color);\n",
              "    fill: var(--disabled-fill-color);\n",
              "    box-shadow: none;\n",
              "  }\n",
              "\n",
              "  .colab-df-spinner {\n",
              "    border: 2px solid var(--fill-color);\n",
              "    border-color: transparent;\n",
              "    border-bottom-color: var(--fill-color);\n",
              "    animation:\n",
              "      spin 1s steps(1) infinite;\n",
              "  }\n",
              "\n",
              "  @keyframes spin {\n",
              "    0% {\n",
              "      border-color: transparent;\n",
              "      border-bottom-color: var(--fill-color);\n",
              "      border-left-color: var(--fill-color);\n",
              "    }\n",
              "    20% {\n",
              "      border-color: transparent;\n",
              "      border-left-color: var(--fill-color);\n",
              "      border-top-color: var(--fill-color);\n",
              "    }\n",
              "    30% {\n",
              "      border-color: transparent;\n",
              "      border-left-color: var(--fill-color);\n",
              "      border-top-color: var(--fill-color);\n",
              "      border-right-color: var(--fill-color);\n",
              "    }\n",
              "    40% {\n",
              "      border-color: transparent;\n",
              "      border-right-color: var(--fill-color);\n",
              "      border-top-color: var(--fill-color);\n",
              "    }\n",
              "    60% {\n",
              "      border-color: transparent;\n",
              "      border-right-color: var(--fill-color);\n",
              "    }\n",
              "    80% {\n",
              "      border-color: transparent;\n",
              "      border-right-color: var(--fill-color);\n",
              "      border-bottom-color: var(--fill-color);\n",
              "    }\n",
              "    90% {\n",
              "      border-color: transparent;\n",
              "      border-bottom-color: var(--fill-color);\n",
              "    }\n",
              "  }\n",
              "</style>\n",
              "\n",
              "      <script>\n",
              "        async function quickchart(key) {\n",
              "          const quickchartButtonEl =\n",
              "            document.querySelector('#' + key + ' button');\n",
              "          quickchartButtonEl.disabled = true;  // To prevent multiple clicks.\n",
              "          quickchartButtonEl.classList.add('colab-df-spinner');\n",
              "          try {\n",
              "            const charts = await google.colab.kernel.invokeFunction(\n",
              "                'suggestCharts', [key], {});\n",
              "          } catch (error) {\n",
              "            console.error('Error during call to suggestCharts:', error);\n",
              "          }\n",
              "          quickchartButtonEl.classList.remove('colab-df-spinner');\n",
              "          quickchartButtonEl.classList.add('colab-df-quickchart-complete');\n",
              "        }\n",
              "        (() => {\n",
              "          let quickchartButtonEl =\n",
              "            document.querySelector('#df-ea03cf9c-982f-4cc1-8d0d-65384e87d5bd button');\n",
              "          quickchartButtonEl.style.display =\n",
              "            google.colab.kernel.accessAllowed ? 'block' : 'none';\n",
              "        })();\n",
              "      </script>\n",
              "    </div>\n",
              "\n",
              "    </div>\n",
              "  </div>\n"
            ],
            "application/vnd.google.colaboratory.intrinsic+json": {
              "type": "dataframe"
            }
          },
          "metadata": {},
          "execution_count": 26
        }
      ]
    },
    {
      "cell_type": "markdown",
      "source": [
        "Same issue as with Larissa. As long as names, emails, etc. are not important for our task, we will agree that those are different people and keep these rows in the dataset."
      ],
      "metadata": {
        "id": "2czvUS45wTEJ"
      }
    },
    {
      "cell_type": "markdown",
      "source": [
        "## Analyzing the dataset\n"
      ],
      "metadata": {
        "id": "AUk0JeXTwZP8"
      }
    },
    {
      "cell_type": "code",
      "source": [
        "dataset.groupby('EmployeeType').size().sort_values(ascending=False).plot(kind='barh', color=sns.palettes.mpl_palette('terrain'))\n",
        "plt.gca().spines[['top', 'right',]].set_visible(False)"
      ],
      "metadata": {
        "colab": {
          "base_uri": "https://localhost:8080/",
          "height": 0
        },
        "id": "BDCpDXs-wcH1",
        "outputId": "d9e89438-9f76-41c1-f3b6-ec9b697a600e"
      },
      "execution_count": 27,
      "outputs": [
        {
          "output_type": "display_data",
          "data": {
            "text/plain": [
              "<Figure size 640x480 with 1 Axes>"
            ],
            "image/png": "[encoded data removed]"
          },
          "metadata": {}
        }
      ]
    },
    {
      "cell_type": "markdown",
      "source": [
        "The company has an approximately equal number of full-time, part-time and contract employees."
      ],
      "metadata": {
        "id": "wpRwpuXkwhRy"
      }
    },
    {
      "cell_type": "code",
      "source": [
        "dataset.groupby('EmployeeStatus').size().sort_values(ascending=False).plot(kind='barh', color=sns.palettes.mpl_palette('terrain'))\n",
        "plt.gca().spines[['top', 'right',]].set_visible(False)"
      ],
      "metadata": {
        "colab": {
          "base_uri": "https://localhost:8080/",
          "height": 0
        },
        "id": "1ZZvEchXwh3z",
        "outputId": "51d4f2d9-909e-4268-ae20-6e56e8fbf824"
      },
      "execution_count": 28,
      "outputs": [
        {
          "output_type": "display_data",
          "data": {
            "text/plain": [
              "<Figure size 640x480 with 1 Axes>"
            ],
            "image/png": "[encoded data removed]"
          },
          "metadata": {}
        }
      ]
    },
    {
      "cell_type": "code",
      "source": [
        "dataset.groupby('TerminationType').size().sort_values(ascending=False).plot(kind='barh', color=sns.palettes.mpl_palette('terrain'))\n",
        "plt.gca().spines[['top', 'right',]].set_visible(False)"
      ],
      "metadata": {
        "colab": {
          "base_uri": "https://localhost:8080/",
          "height": 0
        },
        "id": "0veU7RhnwlFR",
        "outputId": "413d41a6-bdfa-48d7-c544-047c2d11adbd"
      },
      "execution_count": 29,
      "outputs": [
        {
          "output_type": "display_data",
          "data": {
            "text/plain": [
              "<Figure size 640x480 with 1 Axes>"
            ],
            "image/png": "[encoded data removed]"
          },
          "metadata": {}
        }
      ]
    },
    {
      "cell_type": "markdown",
      "source": [
        "Most of the non-active employees were voluntarily terminated, however the number remains comparatively small. Most of the reasons for termination are not mentioned."
      ],
      "metadata": {
        "id": "cmE7B3TTwnx9"
      }
    },
    {
      "cell_type": "code",
      "source": [
        "sns.histplot(data=dataset[dataset['EmployeeStatus'] == 'Active'], x='Current Age', bins=16, hue='GenderCode', kde=True, palette='bright')\n",
        "plt.title('Age Distribution by Gender (Active Employees)')\n",
        "plt.legend(title='Gender', loc=2, labels=['Male', 'Female'], bbox_to_anchor=(1.02, 1), borderaxespad=0.)\n",
        "plt.show()"
      ],
      "metadata": {
        "colab": {
          "base_uri": "https://localhost:8080/",
          "height": 0
        },
        "id": "NaGPQqngwqLE",
        "outputId": "93b69301-5067-4795-9d6c-91959bc19166"
      },
      "execution_count": 30,
      "outputs": [
        {
          "output_type": "display_data",
          "data": {
            "text/plain": [
              "<Figure size 640x480 with 1 Axes>"
            ],
            "image/png": "[encoded data removed]"
          },
          "metadata": {}
        }
      ]
    },
    {
      "cell_type": "code",
      "source": [
        "dataset.groupby('RaceDesc').size().sort_values(ascending=False).plot(kind='barh', color=sns.palettes.mpl_palette('terrain'))\n",
        "plt.gca().spines[['top', 'right',]].set_visible(False)"
      ],
      "metadata": {
        "colab": {
          "base_uri": "https://localhost:8080/",
          "height": 0
        },
        "id": "Y87su-MwwsaR",
        "outputId": "6f8dd534-a70e-4483-f765-f17403d13f63"
      },
      "execution_count": 31,
      "outputs": [
        {
          "output_type": "display_data",
          "data": {
            "text/plain": [
              "<Figure size 640x480 with 1 Axes>"
            ],
            "image/png": "[encoded data removed]"
          },
          "metadata": {}
        }
      ]
    },
    {
      "cell_type": "code",
      "source": [
        "dataset.groupby('MaritalDesc').size().sort_values(ascending=False).plot(kind='barh', color=sns.palettes.mpl_palette('terrain'))\n",
        "plt.gca().spines[['top', 'right',]].set_visible(False)"
      ],
      "metadata": {
        "colab": {
          "base_uri": "https://localhost:8080/",
          "height": 0
        },
        "id": "5M-MGXDPwwJF",
        "outputId": "fea08024-6d58-4d29-b91d-47b5f355fe8e"
      },
      "execution_count": 32,
      "outputs": [
        {
          "output_type": "display_data",
          "data": {
            "text/plain": [
              "<Figure size 640x480 with 1 Axes>"
            ],
            "image/png": "[encoded data removed]"
          },
          "metadata": {}
        }
      ]
    },
    {
      "cell_type": "code",
      "source": [
        "dataset.groupby('Performance Score').size().plot(kind='barh', color=sns.palettes.mpl_palette('terrain'))\n",
        "plt.gca().spines[['top', 'right',]].set_visible(False)"
      ],
      "metadata": {
        "colab": {
          "base_uri": "https://localhost:8080/",
          "height": 0
        },
        "id": "Nax8I2HnwyA3",
        "outputId": "1dcc3248-7406-41ac-d3a5-c2d3279ed87d"
      },
      "execution_count": 33,
      "outputs": [
        {
          "output_type": "display_data",
          "data": {
            "text/plain": [
              "<Figure size 640x480 with 1 Axes>"
            ],
            "image/png": "[encoded data removed]"
          },
          "metadata": {}
        }
      ]
    },
    {
      "cell_type": "code",
      "source": [
        "dataset.groupby('Current Employee Rating').size().plot(kind='barh', color=sns.palettes.mpl_palette('terrain'))\n",
        "plt.gca().spines[['top', 'right',]].set_visible(False)"
      ],
      "metadata": {
        "colab": {
          "base_uri": "https://localhost:8080/",
          "height": 0
        },
        "id": "o-obflf8w0EG",
        "outputId": "6153d841-714d-410f-c0b9-197cc29c8f52"
      },
      "execution_count": 34,
      "outputs": [
        {
          "output_type": "display_data",
          "data": {
            "text/plain": [
              "<Figure size 640x480 with 1 Axes>"
            ],
            "image/png": "[encoded data removed]"
          },
          "metadata": {}
        }
      ]
    },
    {
      "cell_type": "markdown",
      "source": [
        "Most employees demonstrate satisfactory 3/5 performance. That's why we are here!"
      ],
      "metadata": {
        "id": "DE4a1-7Ew4AM"
      }
    },
    {
      "cell_type": "code",
      "source": [
        "plt.subplots(figsize=(12, 8))\n",
        "df_2dhist = pd.DataFrame({\n",
        "    x_label: grp['EmployeeType'].value_counts()\n",
        "    for x_label, grp in dataset.groupby('Performance Score')\n",
        "})\n",
        "sns.heatmap(df_2dhist, cmap='viridis')\n",
        "plt.xlabel('Employee Type')\n",
        "_ = plt.ylabel('Performance')"
      ],
      "metadata": {
        "colab": {
          "base_uri": "https://localhost:8080/",
          "height": 0
        },
        "id": "ZHv7nGZlw54x",
        "outputId": "4932e680-58b7-4c9f-8a16-25c93eedffa0"
      },
      "execution_count": 35,
      "outputs": [
        {
          "output_type": "display_data",
          "data": {
            "text/plain": [
              "<Figure size 1200x800 with 2 Axes>"
            ],
            "image/png": "[encoded data removed]"
          },
          "metadata": {}
        }
      ]
    },
    {
      "cell_type": "markdown",
      "source": [
        "There are less part-time workers than any other kind of employees, so the difference shown in the above plot is to be expected."
      ],
      "metadata": {
        "id": "KO2v4lQIw-wf"
      }
    },
    {
      "cell_type": "code",
      "source": [
        "plt.subplots(figsize=(10, 8))\n",
        "df_2dhist = pd.DataFrame({\n",
        "    x_label: grp['MaritalDesc'].value_counts()\n",
        "    for x_label, grp in dataset.groupby('Performance Score')\n",
        "})\n",
        "sns.heatmap(df_2dhist, cmap='viridis')\n",
        "plt.xlabel('Marital Status')\n",
        "_ = plt.ylabel('Performance')"
      ],
      "metadata": {
        "colab": {
          "base_uri": "https://localhost:8080/",
          "height": 0
        },
        "id": "cL4gEbXKxBQX",
        "outputId": "06a03898-27f3-42c0-909e-d170d1d16495"
      },
      "execution_count": 36,
      "outputs": [
        {
          "output_type": "display_data",
          "data": {
            "text/plain": [
              "<Figure size 1000x800 with 2 Axes>"
            ],
            "image/png": "[encoded data removed]"
          },
          "metadata": {}
        }
      ]
    },
    {
      "cell_type": "markdown",
      "source": [
        "Marital status has no visible influence on performance."
      ],
      "metadata": {
        "id": "e_LzzjrKxEoA"
      }
    },
    {
      "cell_type": "code",
      "source": [
        "plt.subplots(figsize=(12, 8))\n",
        "df_2dhist = pd.DataFrame({\n",
        "    x_label: grp['RaceDesc'].value_counts()\n",
        "    for x_label, grp in dataset.groupby('Current Employee Rating')\n",
        "})\n",
        "sns.heatmap(df_2dhist, cmap='viridis')\n",
        "plt.xlabel('Rating')\n",
        "_ = plt.ylabel('Race')"
      ],
      "metadata": {
        "colab": {
          "base_uri": "https://localhost:8080/",
          "height": 0
        },
        "id": "DfwkmGUSxFIk",
        "outputId": "fbb3f236-c88e-4f77-a7ce-da6b6b1276b5"
      },
      "execution_count": 37,
      "outputs": [
        {
          "output_type": "display_data",
          "data": {
            "text/plain": [
              "<Figure size 1200x800 with 2 Axes>"
            ],
            "image/png": "[encoded data removed]"
          },
          "metadata": {}
        }
      ]
    },
    {
      "cell_type": "markdown",
      "source": [
        "## Splitting the data into features and targets"
      ],
      "metadata": {
        "id": "VguLm9OpxOo5"
      }
    },
    {
      "cell_type": "markdown",
      "source": [
        "Selecting only important fields."
      ],
      "metadata": {
        "id": "A1mHzQ91xTu4"
      }
    },
    {
      "cell_type": "code",
      "source": [
        "dataset = dataset[['Title', 'BusinessUnit', 'EmployeeType', 'DepartmentType', 'Division', 'State', 'GenderCode', 'RaceDesc', 'MaritalDesc', 'Current Age', 'Current Employee Rating']]\n",
        "dataset.info()"
      ],
      "metadata": {
        "colab": {
          "base_uri": "https://localhost:8080/"
        },
        "id": "bdioXzlMxUZp",
        "outputId": "bc7b3da1-7335-4234-9783-4d27eeca995d"
      },
      "execution_count": 38,
      "outputs": [
        {
          "output_type": "stream",
          "name": "stdout",
          "text": [
            "<class 'pandas.core.frame.DataFrame'>\n",
            "RangeIndex: 3000 entries, 0 to 2999\n",
            "Data columns (total 11 columns):\n",
            " #   Column                   Non-Null Count  Dtype \n",
            "---  ------                   --------------  ----- \n",
            " 0   Title                    3000 non-null   object\n",
            " 1   BusinessUnit             3000 non-null   object\n",
            " 2   EmployeeType             3000 non-null   object\n",
            " 3   DepartmentType           3000 non-null   object\n",
            " 4   Division                 3000 non-null   object\n",
            " 5   State                    3000 non-null   object\n",
            " 6   GenderCode               3000 non-null   object\n",
            " 7   RaceDesc                 3000 non-null   object\n",
            " 8   MaritalDesc              3000 non-null   object\n",
            " 9   Current Age              3000 non-null   int64 \n",
            " 10  Current Employee Rating  3000 non-null   int64 \n",
            "dtypes: int64(2), object(9)\n",
            "memory usage: 257.9+ KB\n"
          ]
        }
      ]
    },
    {
      "cell_type": "markdown",
      "source": [
        "Splitting the dataset into examples (X) and targets (y, performance scores)."
      ],
      "metadata": {
        "id": "rMTcj0SdxaXK"
      }
    },
    {
      "cell_type": "code",
      "source": [
        "np_dataset = dataset.to_numpy()\n",
        "X, y = np_dataset[:, :10], np_dataset[:, 10]\n",
        "print(f'examples: {len(X)} \\t features: {len(X[0])}')"
      ],
      "metadata": {
        "colab": {
          "base_uri": "https://localhost:8080/"
        },
        "id": "sQIoUqyIxa_x",
        "outputId": "65fef3a2-3262-4f65-d248-9cddd056c9b7"
      },
      "execution_count": 40,
      "outputs": [
        {
          "output_type": "stream",
          "name": "stdout",
          "text": [
            "examples: 3000 \t features: 10\n"
          ]
        }
      ]
    },
    {
      "cell_type": "code",
      "source": [
        "example = X[0][:9]\n",
        "example"
      ],
      "metadata": {
        "colab": {
          "base_uri": "https://localhost:8080/"
        },
        "id": "_PEbm_e2xfiY",
        "outputId": "4660ebd8-fcc9-4c19-f0c9-12e710797886"
      },
      "execution_count": 41,
      "outputs": [
        {
          "output_type": "execute_result",
          "data": {
            "text/plain": [
              "array(['Production Technician I', 'CCDR', 'Contract', 'Production       ',\n",
              "       'Finance & Accounting', 'MA', 'Female', 'White', 'Widowed'],\n",
              "      dtype=object)"
            ]
          },
          "metadata": {},
          "execution_count": 41
        }
      ]
    },
    {
      "cell_type": "code",
      "source": [
        "y"
      ],
      "metadata": {
        "colab": {
          "base_uri": "https://localhost:8080/"
        },
        "id": "eQOxaesaxh3o",
        "outputId": "9c61b20c-c778-407f-a076-23df16651223"
      },
      "execution_count": 42,
      "outputs": [
        {
          "output_type": "execute_result",
          "data": {
            "text/plain": [
              "array([4, 3, 4, ..., 2, 2, 2], dtype=object)"
            ]
          },
          "metadata": {},
          "execution_count": 42
        }
      ]
    },
    {
      "cell_type": "markdown",
      "source": [
        "## Expiriment 1: One hot encoding\n"
      ],
      "metadata": {
        "id": "mx42N4NQxspu"
      }
    },
    {
      "cell_type": "markdown",
      "source": [
        "### Encoding the features"
      ],
      "metadata": {
        "id": "6wy7zphIx3jW"
      }
    },
    {
      "cell_type": "markdown",
      "source": [
        "Using one-hot encoding for X."
      ],
      "metadata": {
        "id": "inNL_y5cx4P6"
      }
    },
    {
      "cell_type": "code",
      "source": [
        "enc = OneHotEncoder()\n",
        "# excluding Age as it doesn't need to be encoded\n",
        "enc.fit(X[:, :9])"
      ],
      "metadata": {
        "colab": {
          "base_uri": "https://localhost:8080/",
          "height": 80
        },
        "id": "XHTD2rJYyN3N",
        "outputId": "967888ff-8fef-486f-94d4-238a266b2abf"
      },
      "execution_count": 43,
      "outputs": [
        {
          "output_type": "execute_result",
          "data": {
            "text/plain": [
              "OneHotEncoder()"
            ],
            "text/html": [
              "<style>#sk-container-id-1 {\n",
              "  /* Definition of color scheme common for light and dark mode */\n",
              "  --sklearn-color-text: #000;\n",
              "  --sklearn-color-text-muted: #666;\n",
              "  --sklearn-color-line: gray;\n",
              "  /* Definition of color scheme for unfitted estimators */\n",
              "  --sklearn-color-unfitted-level-0: #fff5e6;\n",
              "  --sklearn-color-unfitted-level-1: #f6e4d2;\n",
              "  --sklearn-color-unfitted-level-2: #ffe0b3;\n",
              "  --sklearn-color-unfitted-level-3: chocolate;\n",
              "  /* Definition of color scheme for fitted estimators */\n",
              "  --sklearn-color-fitted-level-0: #f0f8ff;\n",
              "  --sklearn-color-fitted-level-1: #d4ebff;\n",
              "  --sklearn-color-fitted-level-2: #b3dbfd;\n",
              "  --sklearn-color-fitted-level-3: cornflowerblue;\n",
              "\n",
              "  /* Specific color for light theme */\n",
              "  --sklearn-color-text-on-default-background: var(--sg-text-color, var(--theme-code-foreground, var(--jp-content-font-color1, black)));\n",
              "  --sklearn-color-background: var(--sg-background-color, var(--theme-background, var(--jp-layout-color0, white)));\n",
              "  --sklearn-color-border-box: var(--sg-text-color, var(--theme-code-foreground, var(--jp-content-font-color1, black)));\n",
              "  --sklearn-color-icon: #696969;\n",
              "\n",
              "  @media (prefers-color-scheme: dark) {\n",
              "    /* Redefinition of color scheme for dark theme */\n",
              "    --sklearn-color-text-on-default-background: var(--sg-text-color, var(--theme-code-foreground, var(--jp-content-font-color1, white)));\n",
              "    --sklearn-color-background: var(--sg-background-color, var(--theme-background, var(--jp-layout-color0, #111)));\n",
              "    --sklearn-color-border-box: var(--sg-text-color, var(--theme-code-foreground, var(--jp-content-font-color1, white)));\n",
              "    --sklearn-color-icon: #878787;\n",
              "  }\n",
              "}\n",
              "\n",
              "#sk-container-id-1 {\n",
              "  color: var(--sklearn-color-text);\n",
              "}\n",
              "\n",
              "#sk-container-id-1 pre {\n",
              "  padding: 0;\n",
              "}\n",
              "\n",
              "#sk-container-id-1 input.sk-hidden--visually {\n",
              "  border: 0;\n",
              "  clip: rect(1px 1px 1px 1px);\n",
              "  clip: rect(1px, 1px, 1px, 1px);\n",
              "  height: 1px;\n",
              "  margin: -1px;\n",
              "  overflow: hidden;\n",
              "  padding: 0;\n",
              "  position: absolute;\n",
              "  width: 1px;\n",
              "}\n",
              "\n",
              "#sk-container-id-1 div.sk-dashed-wrapped {\n",
              "  border: 1px dashed var(--sklearn-color-line);\n",
              "  margin: 0 0.4em 0.5em 0.4em;\n",
              "  box-sizing: border-box;\n",
              "  padding-bottom: 0.4em;\n",
              "  background-color: var(--sklearn-color-background);\n",
              "}\n",
              "\n",
              "#sk-container-id-1 div.sk-container {\n",
              "  /* jupyter's `normalize.less` sets `[hidden] { display: none; }`\n",
              "     but bootstrap.min.css set `[hidden] { display: none !important; }`\n",
              "     so we also need the `!important` here to be able to override the\n",
              "     default hidden behavior on the sphinx rendered scikit-learn.org.\n",
              "     See: https://github.com/scikit-learn/scikit-learn/issues/21755 */\n",
              "  display: inline-block !important;\n",
              "  position: relative;\n",
              "}\n",
              "\n",
              "#sk-container-id-1 div.sk-text-repr-fallback {\n",
              "  display: none;\n",
              "}\n",
              "\n",
              "div.sk-parallel-item,\n",
              "div.sk-serial,\n",
              "div.sk-item {\n",
              "  /* draw centered vertical line to link estimators */\n",
              "  background-image: linear-gradient(var(--sklearn-color-text-on-default-background), var(--sklearn-color-text-on-default-background));\n",
              "  background-size: 2px 100%;\n",
              "  background-repeat: no-repeat;\n",
              "  background-position: center center;\n",
              "}\n",
              "\n",
              "/* Parallel-specific style estimator block */\n",
              "\n",
              "#sk-container-id-1 div.sk-parallel-item::after {\n",
              "  content: \"\";\n",
              "  width: 100%;\n",
              "  border-bottom: 2px solid var(--sklearn-color-text-on-default-background);\n",
              "  flex-grow: 1;\n",
              "}\n",
              "\n",
              "#sk-container-id-1 div.sk-parallel {\n",
              "  display: flex;\n",
              "  align-items: stretch;\n",
              "  justify-content: center;\n",
              "  background-color: var(--sklearn-color-background);\n",
              "  position: relative;\n",
              "}\n",
              "\n",
              "#sk-container-id-1 div.sk-parallel-item {\n",
              "  display: flex;\n",
              "  flex-direction: column;\n",
              "}\n",
              "\n",
              "#sk-container-id-1 div.sk-parallel-item:first-child::after {\n",
              "  align-self: flex-end;\n",
              "  width: 50%;\n",
              "}\n",
              "\n",
              "#sk-container-id-1 div.sk-parallel-item:last-child::after {\n",
              "  align-self: flex-start;\n",
              "  width: 50%;\n",
              "}\n",
              "\n",
              "#sk-container-id-1 div.sk-parallel-item:only-child::after {\n",
              "  width: 0;\n",
              "}\n",
              "\n",
              "/* Serial-specific style estimator block */\n",
              "\n",
              "#sk-container-id-1 div.sk-serial {\n",
              "  display: flex;\n",
              "  flex-direction: column;\n",
              "  align-items: center;\n",
              "  background-color: var(--sklearn-color-background);\n",
              "  padding-right: 1em;\n",
              "  padding-left: 1em;\n",
              "}\n",
              "\n",
              "\n",
              "/* Toggleable style: style used for estimator/Pipeline/ColumnTransformer box that is\n",
              "clickable and can be expanded/collapsed.\n",
              "- Pipeline and ColumnTransformer use this feature and define the default style\n",
              "- Estimators will overwrite some part of the style using the `sk-estimator` class\n",
              "*/\n",
              "\n",
              "/* Pipeline and ColumnTransformer style (default) */\n",
              "\n",
              "#sk-container-id-1 div.sk-toggleable {\n",
              "  /* Default theme specific background. It is overwritten whether we have a\n",
              "  specific estimator or a Pipeline/ColumnTransformer */\n",
              "  background-color: var(--sklearn-color-background);\n",
              "}\n",
              "\n",
              "/* Toggleable label */\n",
              "#sk-container-id-1 label.sk-toggleable__label {\n",
              "  cursor: pointer;\n",
              "  display: flex;\n",
              "  width: 100%;\n",
              "  margin-bottom: 0;\n",
              "  padding: 0.5em;\n",
              "  box-sizing: border-box;\n",
              "  text-align: center;\n",
              "  align-items: start;\n",
              "  justify-content: space-between;\n",
              "  gap: 0.5em;\n",
              "}\n",
              "\n",
              "#sk-container-id-1 label.sk-toggleable__label .caption {\n",
              "  font-size: 0.6rem;\n",
              "  font-weight: lighter;\n",
              "  color: var(--sklearn-color-text-muted);\n",
              "}\n",
              "\n",
              "#sk-container-id-1 label.sk-toggleable__label-arrow:before {\n",
              "  /* Arrow on the left of the label */\n",
              "  content: \"▸\";\n",
              "  float: left;\n",
              "  margin-right: 0.25em;\n",
              "  color: var(--sklearn-color-icon);\n",
              "}\n",
              "\n",
              "#sk-container-id-1 label.sk-toggleable__label-arrow:hover:before {\n",
              "  color: var(--sklearn-color-text);\n",
              "}\n",
              "\n",
              "/* Toggleable content - dropdown */\n",
              "\n",
              "#sk-container-id-1 div.sk-toggleable__content {\n",
              "  max-height: 0;\n",
              "  max-width: 0;\n",
              "  overflow: hidden;\n",
              "  text-align: left;\n",
              "  /* unfitted */\n",
              "  background-color: var(--sklearn-color-unfitted-level-0);\n",
              "}\n",
              "\n",
              "#sk-container-id-1 div.sk-toggleable__content.fitted {\n",
              "  /* fitted */\n",
              "  background-color: var(--sklearn-color-fitted-level-0);\n",
              "}\n",
              "\n",
              "#sk-container-id-1 div.sk-toggleable__content pre {\n",
              "  margin: 0.2em;\n",
              "  border-radius: 0.25em;\n",
              "  color: var(--sklearn-color-text);\n",
              "  /* unfitted */\n",
              "  background-color: var(--sklearn-color-unfitted-level-0);\n",
              "}\n",
              "\n",
              "#sk-container-id-1 div.sk-toggleable__content.fitted pre {\n",
              "  /* unfitted */\n",
              "  background-color: var(--sklearn-color-fitted-level-0);\n",
              "}\n",
              "\n",
              "#sk-container-id-1 input.sk-toggleable__control:checked~div.sk-toggleable__content {\n",
              "  /* Expand drop-down */\n",
              "  max-height: 200px;\n",
              "  max-width: 100%;\n",
              "  overflow: auto;\n",
              "}\n",
              "\n",
              "#sk-container-id-1 input.sk-toggleable__control:checked~label.sk-toggleable__label-arrow:before {\n",
              "  content: \"▾\";\n",
              "}\n",
              "\n",
              "/* Pipeline/ColumnTransformer-specific style */\n",
              "\n",
              "#sk-container-id-1 div.sk-label input.sk-toggleable__control:checked~label.sk-toggleable__label {\n",
              "  color: var(--sklearn-color-text);\n",
              "  background-color: var(--sklearn-color-unfitted-level-2);\n",
              "}\n",
              "\n",
              "#sk-container-id-1 div.sk-label.fitted input.sk-toggleable__control:checked~label.sk-toggleable__label {\n",
              "  background-color: var(--sklearn-color-fitted-level-2);\n",
              "}\n",
              "\n",
              "/* Estimator-specific style */\n",
              "\n",
              "/* Colorize estimator box */\n",
              "#sk-container-id-1 div.sk-estimator input.sk-toggleable__control:checked~label.sk-toggleable__label {\n",
              "  /* unfitted */\n",
              "  background-color: var(--sklearn-color-unfitted-level-2);\n",
              "}\n",
              "\n",
              "#sk-container-id-1 div.sk-estimator.fitted input.sk-toggleable__control:checked~label.sk-toggleable__label {\n",
              "  /* fitted */\n",
              "  background-color: var(--sklearn-color-fitted-level-2);\n",
              "}\n",
              "\n",
              "#sk-container-id-1 div.sk-label label.sk-toggleable__label,\n",
              "#sk-container-id-1 div.sk-label label {\n",
              "  /* The background is the default theme color */\n",
              "  color: var(--sklearn-color-text-on-default-background);\n",
              "}\n",
              "\n",
              "/* On hover, darken the color of the background */\n",
              "#sk-container-id-1 div.sk-label:hover label.sk-toggleable__label {\n",
              "  color: var(--sklearn-color-text);\n",
              "  background-color: var(--sklearn-color-unfitted-level-2);\n",
              "}\n",
              "\n",
              "/* Label box, darken color on hover, fitted */\n",
              "#sk-container-id-1 div.sk-label.fitted:hover label.sk-toggleable__label.fitted {\n",
              "  color: var(--sklearn-color-text);\n",
              "  background-color: var(--sklearn-color-fitted-level-2);\n",
              "}\n",
              "\n",
              "/* Estimator label */\n",
              "\n",
              "#sk-container-id-1 div.sk-label label {\n",
              "  font-family: monospace;\n",
              "  font-weight: bold;\n",
              "  display: inline-block;\n",
              "  line-height: 1.2em;\n",
              "}\n",
              "\n",
              "#sk-container-id-1 div.sk-label-container {\n",
              "  text-align: center;\n",
              "}\n",
              "\n",
              "/* Estimator-specific */\n",
              "#sk-container-id-1 div.sk-estimator {\n",
              "  font-family: monospace;\n",
              "  border: 1px dotted var(--sklearn-color-border-box);\n",
              "  border-radius: 0.25em;\n",
              "  box-sizing: border-box;\n",
              "  margin-bottom: 0.5em;\n",
              "  /* unfitted */\n",
              "  background-color: var(--sklearn-color-unfitted-level-0);\n",
              "}\n",
              "\n",
              "#sk-container-id-1 div.sk-estimator.fitted {\n",
              "  /* fitted */\n",
              "  background-color: var(--sklearn-color-fitted-level-0);\n",
              "}\n",
              "\n",
              "/* on hover */\n",
              "#sk-container-id-1 div.sk-estimator:hover {\n",
              "  /* unfitted */\n",
              "  background-color: var(--sklearn-color-unfitted-level-2);\n",
              "}\n",
              "\n",
              "#sk-container-id-1 div.sk-estimator.fitted:hover {\n",
              "  /* fitted */\n",
              "  background-color: var(--sklearn-color-fitted-level-2);\n",
              "}\n",
              "\n",
              "/* Specification for estimator info (e.g. \"i\" and \"?\") */\n",
              "\n",
              "/* Common style for \"i\" and \"?\" */\n",
              "\n",
              ".sk-estimator-doc-link,\n",
              "a:link.sk-estimator-doc-link,\n",
              "a:visited.sk-estimator-doc-link {\n",
              "  float: right;\n",
              "  font-size: smaller;\n",
              "  line-height: 1em;\n",
              "  font-family: monospace;\n",
              "  background-color: var(--sklearn-color-background);\n",
              "  border-radius: 1em;\n",
              "  height: 1em;\n",
              "  width: 1em;\n",
              "  text-decoration: none !important;\n",
              "  margin-left: 0.5em;\n",
              "  text-align: center;\n",
              "  /* unfitted */\n",
              "  border: var(--sklearn-color-unfitted-level-1) 1pt solid;\n",
              "  color: var(--sklearn-color-unfitted-level-1);\n",
              "}\n",
              "\n",
              ".sk-estimator-doc-link.fitted,\n",
              "a:link.sk-estimator-doc-link.fitted,\n",
              "a:visited.sk-estimator-doc-link.fitted {\n",
              "  /* fitted */\n",
              "  border: var(--sklearn-color-fitted-level-1) 1pt solid;\n",
              "  color: var(--sklearn-color-fitted-level-1);\n",
              "}\n",
              "\n",
              "/* On hover */\n",
              "div.sk-estimator:hover .sk-estimator-doc-link:hover,\n",
              ".sk-estimator-doc-link:hover,\n",
              "div.sk-label-container:hover .sk-estimator-doc-link:hover,\n",
              ".sk-estimator-doc-link:hover {\n",
              "  /* unfitted */\n",
              "  background-color: var(--sklearn-color-unfitted-level-3);\n",
              "  color: var(--sklearn-color-background);\n",
              "  text-decoration: none;\n",
              "}\n",
              "\n",
              "div.sk-estimator.fitted:hover .sk-estimator-doc-link.fitted:hover,\n",
              ".sk-estimator-doc-link.fitted:hover,\n",
              "div.sk-label-container:hover .sk-estimator-doc-link.fitted:hover,\n",
              ".sk-estimator-doc-link.fitted:hover {\n",
              "  /* fitted */\n",
              "  background-color: var(--sklearn-color-fitted-level-3);\n",
              "  color: var(--sklearn-color-background);\n",
              "  text-decoration: none;\n",
              "}\n",
              "\n",
              "/* Span, style for the box shown on hovering the info icon */\n",
              ".sk-estimator-doc-link span {\n",
              "  display: none;\n",
              "  z-index: 9999;\n",
              "  position: relative;\n",
              "  font-weight: normal;\n",
              "  right: .2ex;\n",
              "  padding: .5ex;\n",
              "  margin: .5ex;\n",
              "  width: min-content;\n",
              "  min-width: 20ex;\n",
              "  max-width: 50ex;\n",
              "  color: var(--sklearn-color-text);\n",
              "  box-shadow: 2pt 2pt 4pt #999;\n",
              "  /* unfitted */\n",
              "  background: var(--sklearn-color-unfitted-level-0);\n",
              "  border: .5pt solid var(--sklearn-color-unfitted-level-3);\n",
              "}\n",
              "\n",
              ".sk-estimator-doc-link.fitted span {\n",
              "  /* fitted */\n",
              "  background: var(--sklearn-color-fitted-level-0);\n",
              "  border: var(--sklearn-color-fitted-level-3);\n",
              "}\n",
              "\n",
              ".sk-estimator-doc-link:hover span {\n",
              "  display: block;\n",
              "}\n",
              "\n",
              "/* \"?\"-specific style due to the `<a>` HTML tag */\n",
              "\n",
              "#sk-container-id-1 a.estimator_doc_link {\n",
              "  float: right;\n",
              "  font-size: 1rem;\n",
              "  line-height: 1em;\n",
              "  font-family: monospace;\n",
              "  background-color: var(--sklearn-color-background);\n",
              "  border-radius: 1rem;\n",
              "  height: 1rem;\n",
              "  width: 1rem;\n",
              "  text-decoration: none;\n",
              "  /* unfitted */\n",
              "  color: var(--sklearn-color-unfitted-level-1);\n",
              "  border: var(--sklearn-color-unfitted-level-1) 1pt solid;\n",
              "}\n",
              "\n",
              "#sk-container-id-1 a.estimator_doc_link.fitted {\n",
              "  /* fitted */\n",
              "  border: var(--sklearn-color-fitted-level-1) 1pt solid;\n",
              "  color: var(--sklearn-color-fitted-level-1);\n",
              "}\n",
              "\n",
              "/* On hover */\n",
              "#sk-container-id-1 a.estimator_doc_link:hover {\n",
              "  /* unfitted */\n",
              "  background-color: var(--sklearn-color-unfitted-level-3);\n",
              "  color: var(--sklearn-color-background);\n",
              "  text-decoration: none;\n",
              "}\n",
              "\n",
              "#sk-container-id-1 a.estimator_doc_link.fitted:hover {\n",
              "  /* fitted */\n",
              "  background-color: var(--sklearn-color-fitted-level-3);\n",
              "}\n",
              "</style><div id=\"sk-container-id-1\" class=\"sk-top-container\"><div class=\"sk-text-repr-fallback\"><pre>OneHotEncoder()</pre><b>In a Jupyter environment, please rerun this cell to show the HTML representation or trust the notebook. <br />On GitHub, the HTML representation is unable to render, please try loading this page with nbviewer.org.</b></div><div class=\"sk-container\" hidden><div class=\"sk-item\"><div class=\"sk-estimator fitted sk-toggleable\"><input class=\"sk-toggleable__control sk-hidden--visually\" id=\"sk-estimator-id-1\" type=\"checkbox\" checked><label for=\"sk-estimator-id-1\" class=\"sk-toggleable__label fitted sk-toggleable__label-arrow\"><div><div>OneHotEncoder</div></div><div><a class=\"sk-estimator-doc-link fitted\" rel=\"noreferrer\" target=\"_blank\" href=\"https://scikit-learn.org/1.6/modules/generated/sklearn.preprocessing.OneHotEncoder.html\">?<span>Documentation for OneHotEncoder</span></a><span class=\"sk-estimator-doc-link fitted\">i<span>Fitted</span></span></div></label><div class=\"sk-toggleable__content fitted\"><pre>OneHotEncoder()</pre></div> </div></div></div></div>"
            ]
          },
          "metadata": {},
          "execution_count": 43
        }
      ]
    },
    {
      "cell_type": "code",
      "source": [
        "example_encoded = enc.transform([example]).toarray()[0]\n",
        "example_encoded"
      ],
      "metadata": {
        "colab": {
          "base_uri": "https://localhost:8080/"
        },
        "id": "FFLPRlm3yQby",
        "outputId": "60d8863c-2437-4f0a-b8b0-b561eab792c4"
      },
      "execution_count": 44,
      "outputs": [
        {
          "output_type": "execute_result",
          "data": {
            "text/plain": [
              "array([0., 0., 0., 0., 0., 0., 0., 0., 0., 0., 0., 0., 0., 0., 0., 0., 0.,\n",
              "       0., 0., 0., 0., 0., 1., 0., 0., 0., 0., 0., 0., 0., 0., 0., 0., 1.,\n",
              "       0., 0., 0., 0., 0., 0., 0., 0., 1., 0., 0., 0., 0., 0., 1., 0., 0.,\n",
              "       0., 0., 0., 0., 0., 0., 0., 0., 1., 0., 0., 0., 0., 0., 0., 0., 0.,\n",
              "       0., 0., 0., 0., 0., 0., 0., 0., 0., 0., 0., 0., 0., 0., 0., 0., 0.,\n",
              "       0., 1., 0., 0., 0., 0., 0., 0., 0., 0., 0., 0., 0., 0., 0., 0., 0.,\n",
              "       0., 0., 1., 0., 0., 0., 0., 0., 1., 0., 0., 0., 1.])"
            ]
          },
          "metadata": {},
          "execution_count": 44
        }
      ]
    },
    {
      "cell_type": "code",
      "source": [
        "len(example_encoded)"
      ],
      "metadata": {
        "colab": {
          "base_uri": "https://localhost:8080/"
        },
        "id": "UvQ6hCSW1nWj",
        "outputId": "878f8bfd-1bf1-4c08-c9ee-1dcc776ef47e"
      },
      "execution_count": 45,
      "outputs": [
        {
          "output_type": "execute_result",
          "data": {
            "text/plain": [
              "115"
            ]
          },
          "metadata": {},
          "execution_count": 45
        }
      ]
    },
    {
      "cell_type": "code",
      "source": [
        "X_encoded = np.concatenate((enc.transform(X[:, :9]).toarray(), X[:, 9:]), axis=1)\n",
        "X_encoded"
      ],
      "metadata": {
        "colab": {
          "base_uri": "https://localhost:8080/"
        },
        "id": "vJ2ml2BG1qEe",
        "outputId": "937c4d1a-0c03-48ee-d4da-85632908ef80"
      },
      "execution_count": 46,
      "outputs": [
        {
          "output_type": "execute_result",
          "data": {
            "text/plain": [
              "array([[0.0, 0.0, 0.0, ..., 0.0, 1.0, 55],\n",
              "       [0.0, 0.0, 0.0, ..., 0.0, 1.0, 59],\n",
              "       [0.0, 0.0, 1.0, ..., 0.0, 1.0, 33],\n",
              "       ...,\n",
              "       [0.0, 0.0, 0.0, ..., 1.0, 0.0, 28],\n",
              "       [0.0, 0.0, 0.0, ..., 0.0, 0.0, 71],\n",
              "       [0.0, 0.0, 0.0, ..., 0.0, 0.0, 34]], dtype=object)"
            ]
          },
          "metadata": {},
          "execution_count": 46
        }
      ]
    },
    {
      "cell_type": "markdown",
      "source": [
        "Using label encoding for targets."
      ],
      "metadata": {
        "id": "xseIZg0y1ukR"
      }
    },
    {
      "cell_type": "code",
      "source": [
        "le = LabelEncoder()\n",
        "le.fit(y)\n",
        "y_encoded = le.transform(y)\n",
        "y_encoded"
      ],
      "metadata": {
        "colab": {
          "base_uri": "https://localhost:8080/"
        },
        "id": "d6SIpDrL1xLN",
        "outputId": "7c6d895a-b820-4d3d-9c71-0640b6942c94"
      },
      "execution_count": 47,
      "outputs": [
        {
          "output_type": "execute_result",
          "data": {
            "text/plain": [
              "array([3, 2, 3, ..., 1, 1, 1])"
            ]
          },
          "metadata": {},
          "execution_count": 47
        }
      ]
    },
    {
      "cell_type": "markdown",
      "source": [
        "Splitting the data into train and test sets."
      ],
      "metadata": {
        "id": "Vp3xUk6Z13H9"
      }
    },
    {
      "cell_type": "code",
      "source": [
        "X_train, X_test, y_train, y_test = train_test_split(X_encoded, y_encoded, test_size=0.1, random_state=111)"
      ],
      "metadata": {
        "id": "aqVz0Ggs13od"
      },
      "execution_count": 48,
      "outputs": []
    },
    {
      "cell_type": "markdown",
      "source": [
        "### Random Forest"
      ],
      "metadata": {
        "id": "uGdp9N0m19BB"
      }
    },
    {
      "cell_type": "code",
      "source": [
        "def evaluate(preds, labels):\n",
        "    return sum(preds == labels) / len(preds)"
      ],
      "metadata": {
        "id": "orLJ3Dz32Eya"
      },
      "execution_count": 49,
      "outputs": []
    },
    {
      "cell_type": "markdown",
      "source": [
        "Doing cross-validation with 5 folds."
      ],
      "metadata": {
        "id": "EXa8v-Pl2IJQ"
      }
    },
    {
      "cell_type": "code",
      "source": [
        "model = RandomForestClassifier(n_estimators=20, max_depth=5, random_state=111)\n",
        "scores = cross_val_score(model, X_train, y_train, cv=5, scoring='accuracy')\n",
        "scores"
      ],
      "metadata": {
        "colab": {
          "base_uri": "https://localhost:8080/"
        },
        "id": "3dKpQ5e72Io_",
        "outputId": "71ed91da-7370-455c-edc8-20ce64f3c869"
      },
      "execution_count": 50,
      "outputs": [
        {
          "output_type": "execute_result",
          "data": {
            "text/plain": [
              "array([0.52777778, 0.53333333, 0.51666667, 0.52222222, 0.53703704])"
            ]
          },
          "metadata": {},
          "execution_count": 50
        }
      ]
    },
    {
      "cell_type": "code",
      "source": [
        "print(f'{round(scores.mean(), 3)} accuracy with a standard deviation of {round(scores.std(), 3)}')"
      ],
      "metadata": {
        "colab": {
          "base_uri": "https://localhost:8080/"
        },
        "id": "bKEa6gKh2N95",
        "outputId": "15b019b9-d1f4-4bff-a099-9894bef4f028"
      },
      "execution_count": 51,
      "outputs": [
        {
          "output_type": "stream",
          "name": "stdout",
          "text": [
            "0.527 accuracy with a standard deviation of 0.007\n"
          ]
        }
      ]
    },
    {
      "cell_type": "markdown",
      "source": [
        "Evaluating on the test set."
      ],
      "metadata": {
        "id": "vopxi5982QtK"
      }
    },
    {
      "cell_type": "code",
      "source": [
        "model = RandomForestClassifier(n_estimators=20, max_depth=5, random_state=111)\n",
        "model.fit(X_train, y_train)\n",
        "preds = model.predict(X_test)\n",
        "print(evaluate(preds, y_test))"
      ],
      "metadata": {
        "colab": {
          "base_uri": "https://localhost:8080/"
        },
        "id": "TtOm4CW92RJR",
        "outputId": "1200c385-e70b-4b24-ef81-3daa06697736"
      },
      "execution_count": 52,
      "outputs": [
        {
          "output_type": "stream",
          "name": "stdout",
          "text": [
            "0.55\n"
          ]
        }
      ]
    },
    {
      "cell_type": "markdown",
      "source": [
        "### XGBoost"
      ],
      "metadata": {
        "id": "Oj30lOn42XKF"
      }
    },
    {
      "cell_type": "markdown",
      "source": [
        "Doing cross-validation with 5 folds."
      ],
      "metadata": {
        "id": "LY-bsfin2auE"
      }
    },
    {
      "cell_type": "code",
      "source": [
        "xgb = xg.XGBRegressor(objective ='reg:squarederror', n_estimators = 3, seed = 111)\n",
        "scores = cross_val_score(xgb, X_train, y_train, cv=5, scoring='neg_mean_squared_error')\n",
        "scores"
      ],
      "metadata": {
        "colab": {
          "base_uri": "https://localhost:8080/"
        },
        "id": "ZdVRFOvK2ZG1",
        "outputId": "ee6cfdfd-27b4-4dac-e85e-c1bca6364352"
      },
      "execution_count": 53,
      "outputs": [
        {
          "output_type": "execute_result",
          "data": {
            "text/plain": [
              "array([-1.11468971, -0.97841346, -1.06760597, -0.96774054, -1.0685339 ])"
            ]
          },
          "metadata": {},
          "execution_count": 53
        }
      ]
    },
    {
      "cell_type": "code",
      "source": [
        "print(f'{round(-scores.mean(), 3)} MSE with a standard deviation of {round(scores.std(), 3)}')"
      ],
      "metadata": {
        "colab": {
          "base_uri": "https://localhost:8080/"
        },
        "id": "KCp4mrML2gd0",
        "outputId": "2261f8b6-8654-4461-c476-f79590d8e126"
      },
      "execution_count": 54,
      "outputs": [
        {
          "output_type": "stream",
          "name": "stdout",
          "text": [
            "1.039 MSE with a standard deviation of 0.057\n"
          ]
        }
      ]
    },
    {
      "cell_type": "markdown",
      "source": [
        "Evaluating on the test set."
      ],
      "metadata": {
        "id": "19fv2rXx2lGJ"
      }
    },
    {
      "cell_type": "code",
      "source": [
        "xgb.fit(X_train, y_train)\n",
        "preds = xgb.predict(X_test)\n",
        "mse = MSE(y_test, preds)\n",
        "print(mse)"
      ],
      "metadata": {
        "colab": {
          "base_uri": "https://localhost:8080/"
        },
        "id": "VWIC4DY82mle",
        "outputId": "0553bfc0-fb1e-48a5-e1a2-9390f6de6972"
      },
      "execution_count": 55,
      "outputs": [
        {
          "output_type": "stream",
          "name": "stdout",
          "text": [
            "1.0507805347442627\n"
          ]
        }
      ]
    },
    {
      "cell_type": "code",
      "source": [
        "# calculating a baseline MSE\n",
        "mse = MSE(y_test, [np.mean(y_train)] * len(y_test))\n",
        "print(mse)"
      ],
      "metadata": {
        "colab": {
          "base_uri": "https://localhost:8080/"
        },
        "id": "ivfqHIZZ2owR",
        "outputId": "f17d340a-688e-47a2-d952-d101aea53800"
      },
      "execution_count": 56,
      "outputs": [
        {
          "output_type": "stream",
          "name": "stdout",
          "text": [
            "1.031935939643347\n"
          ]
        }
      ]
    },
    {
      "cell_type": "markdown",
      "source": [
        "The baseline and our MSE on test score are pretty similar.. While the second one should be much higher. The model is not learning meaningful patterns from the data..."
      ],
      "metadata": {
        "id": "WnauqMP92_jo"
      }
    },
    {
      "cell_type": "markdown",
      "source": [
        "## Experiment 2: Label Encoding"
      ],
      "metadata": {
        "id": "ijr-nSS43Qol"
      }
    },
    {
      "cell_type": "markdown",
      "source": [
        "### Encoding the features"
      ],
      "metadata": {
        "id": "VWxhxBtM3RWK"
      }
    },
    {
      "cell_type": "markdown",
      "source": [
        "Using ordinal (label) encoding for X."
      ],
      "metadata": {
        "id": "EfVs68tl3aTp"
      }
    },
    {
      "cell_type": "code",
      "source": [
        "enc = OrdinalEncoder()\n",
        "enc.fit(X[:, :9])\n",
        "example_encoded = enc.transform([example])[0]\n",
        "example_encoded"
      ],
      "metadata": {
        "colab": {
          "base_uri": "https://localhost:8080/"
        },
        "id": "WWvWlxe03WkS",
        "outputId": "a7348fab-6d07-4e73-82ea-80ec33a2eaf3"
      },
      "execution_count": 57,
      "outputs": [
        {
          "output_type": "execute_result",
          "data": {
            "text/plain": [
              "array([22.,  1.,  0.,  3.,  8., 10.,  0.,  4.,  3.])"
            ]
          },
          "metadata": {},
          "execution_count": 57
        }
      ]
    },
    {
      "cell_type": "code",
      "source": [
        "len(example_encoded)"
      ],
      "metadata": {
        "colab": {
          "base_uri": "https://localhost:8080/"
        },
        "id": "RMH5wUVu3kgw",
        "outputId": "4c5eb689-b72b-477a-d4fa-80e62d7e3925"
      },
      "execution_count": 58,
      "outputs": [
        {
          "output_type": "execute_result",
          "data": {
            "text/plain": [
              "9"
            ]
          },
          "metadata": {},
          "execution_count": 58
        }
      ]
    },
    {
      "cell_type": "code",
      "source": [
        "X_encoded = np.concatenate((enc.transform(X[:, :9]), X[:, 9:]), axis=1)\n",
        "X_encoded"
      ],
      "metadata": {
        "colab": {
          "base_uri": "https://localhost:8080/"
        },
        "id": "HjWoC3t53mS0",
        "outputId": "18e68a1b-2dad-47d4-822c-d5e0b5685c50"
      },
      "execution_count": 59,
      "outputs": [
        {
          "output_type": "execute_result",
          "data": {
            "text/plain": [
              "array([[22.0, 1.0, 0.0, ..., 4.0, 3.0, 55],\n",
              "       [22.0, 2.0, 0.0, ..., 2.0, 3.0, 59],\n",
              "       [2.0, 5.0, 1.0, ..., 2.0, 3.0, 33],\n",
              "       ...,\n",
              "       [22.0, 8.0, 0.0, ..., 4.0, 2.0, 28],\n",
              "       [22.0, 9.0, 0.0, ..., 2.0, 0.0, 71],\n",
              "       [22.0, 0.0, 1.0, ..., 4.0, 1.0, 34]], dtype=object)"
            ]
          },
          "metadata": {},
          "execution_count": 59
        }
      ]
    },
    {
      "cell_type": "markdown",
      "source": [
        "Using label encoding for targets."
      ],
      "metadata": {
        "id": "Zds9U2mK3oyK"
      }
    },
    {
      "cell_type": "code",
      "source": [
        "le = LabelEncoder()\n",
        "le.fit(y)\n",
        "y_encoded = le.transform(y)\n",
        "y_encoded"
      ],
      "metadata": {
        "colab": {
          "base_uri": "https://localhost:8080/"
        },
        "id": "WBtWn05A3pOl",
        "outputId": "6ce5dbcc-6068-4398-db53-be2b41fce269"
      },
      "execution_count": 60,
      "outputs": [
        {
          "output_type": "execute_result",
          "data": {
            "text/plain": [
              "array([3, 2, 3, ..., 1, 1, 1])"
            ]
          },
          "metadata": {},
          "execution_count": 60
        }
      ]
    },
    {
      "cell_type": "markdown",
      "source": [
        "Splitting the data into train and test sets."
      ],
      "metadata": {
        "id": "0tbrQAuV3tCl"
      }
    },
    {
      "cell_type": "code",
      "source": [
        "X_train, X_test, y_train, y_test = train_test_split(X_encoded, y_encoded, test_size=0.1, random_state=111)"
      ],
      "metadata": {
        "id": "4behhQ4R3sox"
      },
      "execution_count": 61,
      "outputs": []
    },
    {
      "cell_type": "markdown",
      "source": [
        "### Random Forest"
      ],
      "metadata": {
        "id": "f6y_7je53xSv"
      }
    },
    {
      "cell_type": "markdown",
      "source": [
        "Doing cross-validation with 5 folds."
      ],
      "metadata": {
        "id": "C4FmHTga32tm"
      }
    },
    {
      "cell_type": "code",
      "source": [
        "model = RandomForestClassifier(n_estimators=20, max_depth=5, random_state=111)\n",
        "scores = cross_val_score(model, X_train, y_train, cv=5, scoring='accuracy')\n",
        "scores"
      ],
      "metadata": {
        "colab": {
          "base_uri": "https://localhost:8080/"
        },
        "id": "300U-I6T34M3",
        "outputId": "74a1e7e7-9c5f-4e00-cc6a-f5c777912ca9"
      },
      "execution_count": 62,
      "outputs": [
        {
          "output_type": "execute_result",
          "data": {
            "text/plain": [
              "array([0.53888889, 0.54074074, 0.53148148, 0.52222222, 0.53518519])"
            ]
          },
          "metadata": {},
          "execution_count": 62
        }
      ]
    },
    {
      "cell_type": "code",
      "source": [
        "print(f'{round(scores.mean(), 3)} accuracy with a standard deviation of {round(scores.std(), 3)}')"
      ],
      "metadata": {
        "colab": {
          "base_uri": "https://localhost:8080/"
        },
        "id": "CEt59NJq37BH",
        "outputId": "3f3177c0-7c0e-4ec2-e959-537ee7a92ad8"
      },
      "execution_count": 63,
      "outputs": [
        {
          "output_type": "stream",
          "name": "stdout",
          "text": [
            "0.534 accuracy with a standard deviation of 0.007\n"
          ]
        }
      ]
    },
    {
      "cell_type": "markdown",
      "source": [
        "Evaluating on the test set."
      ],
      "metadata": {
        "id": "ceISUK2l39EY"
      }
    },
    {
      "cell_type": "code",
      "source": [
        "model = RandomForestClassifier(n_estimators=20, max_depth=5, random_state=111)\n",
        "model.fit(X_train, y_train)\n",
        "preds = model.predict(X_test)\n",
        "print(evaluate(preds, y_test))"
      ],
      "metadata": {
        "colab": {
          "base_uri": "https://localhost:8080/"
        },
        "id": "BHOkEpjI39la",
        "outputId": "64123192-51bb-4303-e105-6dbaecea28da"
      },
      "execution_count": 65,
      "outputs": [
        {
          "output_type": "stream",
          "name": "stdout",
          "text": [
            "0.5533333333333333\n"
          ]
        }
      ]
    },
    {
      "cell_type": "markdown",
      "source": [
        "Let's get feature importances (the built-in feature of RandomForestClassifier)."
      ],
      "metadata": {
        "id": "axJRoHuG4BAc"
      }
    },
    {
      "cell_type": "code",
      "source": [
        "importances = model.feature_importances_\n",
        "importances"
      ],
      "metadata": {
        "colab": {
          "base_uri": "https://localhost:8080/"
        },
        "id": "Fm0i52R_4FXo",
        "outputId": "3f1e87a0-9572-4d03-967d-79c088ca3df1"
      },
      "execution_count": 66,
      "outputs": [
        {
          "output_type": "execute_result",
          "data": {
            "text/plain": [
              "array([0.33971552, 0.040767  , 0.01437674, 0.22565686, 0.05773031,\n",
              "       0.12818703, 0.07417973, 0.02847325, 0.02026684, 0.07064672])"
            ]
          },
          "metadata": {},
          "execution_count": 66
        }
      ]
    },
    {
      "cell_type": "code",
      "source": [
        "features = list(dataset.columns.values)\n",
        "features.remove('Current Employee Rating')\n",
        "features"
      ],
      "metadata": {
        "colab": {
          "base_uri": "https://localhost:8080/"
        },
        "id": "FqkyOaGZ4HPI",
        "outputId": "405e9fba-2a41-4bc3-d7da-d15f5a7db7c4"
      },
      "execution_count": 67,
      "outputs": [
        {
          "output_type": "execute_result",
          "data": {
            "text/plain": [
              "['Title',\n",
              " 'BusinessUnit',\n",
              " 'EmployeeType',\n",
              " 'DepartmentType',\n",
              " 'Division',\n",
              " 'State',\n",
              " 'GenderCode',\n",
              " 'RaceDesc',\n",
              " 'MaritalDesc',\n",
              " 'Current Age']"
            ]
          },
          "metadata": {},
          "execution_count": 67
        }
      ]
    },
    {
      "cell_type": "code",
      "source": [
        "importance_df = pd.DataFrame({\n",
        "    'Feature': features,\n",
        "    'Importance': importances\n",
        "}).sort_values(by='Importance', ascending=False)\n",
        "\n",
        "importance_df"
      ],
      "metadata": {
        "colab": {
          "base_uri": "https://localhost:8080/",
          "height": 363
        },
        "id": "42cg-kEV4JJy",
        "outputId": "2bfc3757-216e-46cc-8e7a-b14fa71466d1"
      },
      "execution_count": 68,
      "outputs": [
        {
          "output_type": "execute_result",
          "data": {
            "text/plain": [
              "          Feature  Importance\n",
              "0           Title    0.339716\n",
              "3  DepartmentType    0.225657\n",
              "5           State    0.128187\n",
              "6      GenderCode    0.074180\n",
              "9     Current Age    0.070647\n",
              "4        Division    0.057730\n",
              "1    BusinessUnit    0.040767\n",
              "7        RaceDesc    0.028473\n",
              "8     MaritalDesc    0.020267\n",
              "2    EmployeeType    0.014377"
            ],
            "text/html": [
              "\n",
              "  <div id=\"df-c194e951-9228-4611-b449-1a3c7392ccd4\" class=\"colab-df-container\">\n",
              "    <div>\n",
              "<style scoped>\n",
              "    .dataframe tbody tr th:only-of-type {\n",
              "        vertical-align: middle;\n",
              "    }\n",
              "\n",
              "    .dataframe tbody tr th {\n",
              "        vertical-align: top;\n",
              "    }\n",
              "\n",
              "    .dataframe thead th {\n",
              "        text-align: right;\n",
              "    }\n",
              "</style>\n",
              "<table border=\"1\" class=\"dataframe\">\n",
              "  <thead>\n",
              "    <tr style=\"text-align: right;\">\n",
              "      <th></th>\n",
              "      <th>Feature</th>\n",
              "      <th>Importance</th>\n",
              "    </tr>\n",
              "  </thead>\n",
              "  <tbody>\n",
              "    <tr>\n",
              "      <th>0</th>\n",
              "      <td>Title</td>\n",
              "      <td>0.339716</td>\n",
              "    </tr>\n",
              "    <tr>\n",
              "      <th>3</th>\n",
              "      <td>DepartmentType</td>\n",
              "      <td>0.225657</td>\n",
              "    </tr>\n",
              "    <tr>\n",
              "      <th>5</th>\n",
              "      <td>State</td>\n",
              "      <td>0.128187</td>\n",
              "    </tr>\n",
              "    <tr>\n",
              "      <th>6</th>\n",
              "      <td>GenderCode</td>\n",
              "      <td>0.074180</td>\n",
              "    </tr>\n",
              "    <tr>\n",
              "      <th>9</th>\n",
              "      <td>Current Age</td>\n",
              "      <td>0.070647</td>\n",
              "    </tr>\n",
              "    <tr>\n",
              "      <th>4</th>\n",
              "      <td>Division</td>\n",
              "      <td>0.057730</td>\n",
              "    </tr>\n",
              "    <tr>\n",
              "      <th>1</th>\n",
              "      <td>BusinessUnit</td>\n",
              "      <td>0.040767</td>\n",
              "    </tr>\n",
              "    <tr>\n",
              "      <th>7</th>\n",
              "      <td>RaceDesc</td>\n",
              "      <td>0.028473</td>\n",
              "    </tr>\n",
              "    <tr>\n",
              "      <th>8</th>\n",
              "      <td>MaritalDesc</td>\n",
              "      <td>0.020267</td>\n",
              "    </tr>\n",
              "    <tr>\n",
              "      <th>2</th>\n",
              "      <td>EmployeeType</td>\n",
              "      <td>0.014377</td>\n",
              "    </tr>\n",
              "  </tbody>\n",
              "</table>\n",
              "</div>\n",
              "    <div class=\"colab-df-buttons\">\n",
              "\n",
              "  <div class=\"colab-df-container\">\n",
              "    <button class=\"colab-df-convert\" onclick=\"convertToInteractive('df-c194e951-9228-4611-b449-1a3c7392ccd4')\"\n",
              "            title=\"Convert this dataframe to an interactive table.\"\n",
              "            style=\"display:none;\">\n",
              "\n",
              "  <svg xmlns=\"http://www.w3.org/2000/svg\" height=\"24px\" viewBox=\"0 -960 960 960\">\n",
              "    <path d=\"M120-120v-720h720v720H120Zm60-500h600v-160H180v160Zm220 220h160v-160H400v160Zm0 220h160v-160H400v160ZM180-400h160v-160H180v160Zm440 0h160v-160H620v160ZM180-180h160v-160H180v160Zm440 0h160v-160H620v160Z\"/>\n",
              "  </svg>\n",
              "    </button>\n",
              "\n",
              "  <style>\n",
              "    .colab-df-container {\n",
              "      display:flex;\n",
              "      gap: 12px;\n",
              "    }\n",
              "\n",
              "    .colab-df-convert {\n",
              "      background-color: #E8F0FE;\n",
              "      border: none;\n",
              "      border-radius: 50%;\n",
              "      cursor: pointer;\n",
              "      display: none;\n",
              "      fill: #1967D2;\n",
              "      height: 32px;\n",
              "      padding: 0 0 0 0;\n",
              "      width: 32px;\n",
              "    }\n",
              "\n",
              "    .colab-df-convert:hover {\n",
              "      background-color: #E2EBFA;\n",
              "      box-shadow: 0px 1px 2px rgba(60, 64, 67, 0.3), 0px 1px 3px 1px rgba(60, 64, 67, 0.15);\n",
              "      fill: #174EA6;\n",
              "    }\n",
              "\n",
              "    .colab-df-buttons div {\n",
              "      margin-bottom: 4px;\n",
              "    }\n",
              "\n",
              "    [theme=dark] .colab-df-convert {\n",
              "      background-color: #3B4455;\n",
              "      fill: #D2E3FC;\n",
              "    }\n",
              "\n",
              "    [theme=dark] .colab-df-convert:hover {\n",
              "      background-color: #434B5C;\n",
              "      box-shadow: 0px 1px 3px 1px rgba(0, 0, 0, 0.15);\n",
              "      filter: drop-shadow(0px 1px 2px rgba(0, 0, 0, 0.3));\n",
              "      fill: #FFFFFF;\n",
              "    }\n",
              "  </style>\n",
              "\n",
              "    <script>\n",
              "      const buttonEl =\n",
              "        document.querySelector('#df-c194e951-9228-4611-b449-1a3c7392ccd4 button.colab-df-convert');\n",
              "      buttonEl.style.display =\n",
              "        google.colab.kernel.accessAllowed ? 'block' : 'none';\n",
              "\n",
              "      async function convertToInteractive(key) {\n",
              "        const element = document.querySelector('#df-c194e951-9228-4611-b449-1a3c7392ccd4');\n",
              "        const dataTable =\n",
              "          await google.colab.kernel.invokeFunction('convertToInteractive',\n",
              "                                                    [key], {});\n",
              "        if (!dataTable) return;\n",
              "\n",
              "        const docLinkHtml = 'Like what you see? Visit the ' +\n",
              "          '<a target=\"_blank\" href=https://colab.research.google.com/notebooks/data_table.ipynb>data table notebook</a>'\n",
              "          + ' to learn more about interactive tables.';\n",
              "        element.innerHTML = '';\n",
              "        dataTable['output_type'] = 'display_data';\n",
              "        await google.colab.output.renderOutput(dataTable, element);\n",
              "        const docLink = document.createElement('div');\n",
              "        docLink.innerHTML = docLinkHtml;\n",
              "        element.appendChild(docLink);\n",
              "      }\n",
              "    </script>\n",
              "  </div>\n",
              "\n",
              "\n",
              "    <div id=\"df-09482400-3d07-41e7-9732-7aa215c96a61\">\n",
              "      <button class=\"colab-df-quickchart\" onclick=\"quickchart('df-09482400-3d07-41e7-9732-7aa215c96a61')\"\n",
              "                title=\"Suggest charts\"\n",
              "                style=\"display:none;\">\n",
              "\n",
              "<svg xmlns=\"http://www.w3.org/2000/svg\" height=\"24px\"viewBox=\"0 0 24 24\"\n",
              "     width=\"24px\">\n",
              "    <g>\n",
              "        <path d=\"M19 3H5c-1.1 0-2 .9-2 2v14c0 1.1.9 2 2 2h14c1.1 0 2-.9 2-2V5c0-1.1-.9-2-2-2zM9 17H7v-7h2v7zm4 0h-2V7h2v10zm4 0h-2v-4h2v4z\"/>\n",
              "    </g>\n",
              "</svg>\n",
              "      </button>\n",
              "\n",
              "<style>\n",
              "  .colab-df-quickchart {\n",
              "      --bg-color: #E8F0FE;\n",
              "      --fill-color: #1967D2;\n",
              "      --hover-bg-color: #E2EBFA;\n",
              "      --hover-fill-color: #174EA6;\n",
              "      --disabled-fill-color: #AAA;\n",
              "      --disabled-bg-color: #DDD;\n",
              "  }\n",
              "\n",
              "  [theme=dark] .colab-df-quickchart {\n",
              "      --bg-color: #3B4455;\n",
              "      --fill-color: #D2E3FC;\n",
              "      --hover-bg-color: #434B5C;\n",
              "      --hover-fill-color: #FFFFFF;\n",
              "      --disabled-bg-color: #3B4455;\n",
              "      --disabled-fill-color: #666;\n",
              "  }\n",
              "\n",
              "  .colab-df-quickchart {\n",
              "    background-color: var(--bg-color);\n",
              "    border: none;\n",
              "    border-radius: 50%;\n",
              "    cursor: pointer;\n",
              "    display: none;\n",
              "    fill: var(--fill-color);\n",
              "    height: 32px;\n",
              "    padding: 0;\n",
              "    width: 32px;\n",
              "  }\n",
              "\n",
              "  .colab-df-quickchart:hover {\n",
              "    background-color: var(--hover-bg-color);\n",
              "    box-shadow: 0 1px 2px rgba(60, 64, 67, 0.3), 0 1px 3px 1px rgba(60, 64, 67, 0.15);\n",
              "    fill: var(--button-hover-fill-color);\n",
              "  }\n",
              "\n",
              "  .colab-df-quickchart-complete:disabled,\n",
              "  .colab-df-quickchart-complete:disabled:hover {\n",
              "    background-color: var(--disabled-bg-color);\n",
              "    fill: var(--disabled-fill-color);\n",
              "    box-shadow: none;\n",
              "  }\n",
              "\n",
              "  .colab-df-spinner {\n",
              "    border: 2px solid var(--fill-color);\n",
              "    border-color: transparent;\n",
              "    border-bottom-color: var(--fill-color);\n",
              "    animation:\n",
              "      spin 1s steps(1) infinite;\n",
              "  }\n",
              "\n",
              "  @keyframes spin {\n",
              "    0% {\n",
              "      border-color: transparent;\n",
              "      border-bottom-color: var(--fill-color);\n",
              "      border-left-color: var(--fill-color);\n",
              "    }\n",
              "    20% {\n",
              "      border-color: transparent;\n",
              "      border-left-color: var(--fill-color);\n",
              "      border-top-color: var(--fill-color);\n",
              "    }\n",
              "    30% {\n",
              "      border-color: transparent;\n",
              "      border-left-color: var(--fill-color);\n",
              "      border-top-color: var(--fill-color);\n",
              "      border-right-color: var(--fill-color);\n",
              "    }\n",
              "    40% {\n",
              "      border-color: transparent;\n",
              "      border-right-color: var(--fill-color);\n",
              "      border-top-color: var(--fill-color);\n",
              "    }\n",
              "    60% {\n",
              "      border-color: transparent;\n",
              "      border-right-color: var(--fill-color);\n",
              "    }\n",
              "    80% {\n",
              "      border-color: transparent;\n",
              "      border-right-color: var(--fill-color);\n",
              "      border-bottom-color: var(--fill-color);\n",
              "    }\n",
              "    90% {\n",
              "      border-color: transparent;\n",
              "      border-bottom-color: var(--fill-color);\n",
              "    }\n",
              "  }\n",
              "</style>\n",
              "\n",
              "      <script>\n",
              "        async function quickchart(key) {\n",
              "          const quickchartButtonEl =\n",
              "            document.querySelector('#' + key + ' button');\n",
              "          quickchartButtonEl.disabled = true;  // To prevent multiple clicks.\n",
              "          quickchartButtonEl.classList.add('colab-df-spinner');\n",
              "          try {\n",
              "            const charts = await google.colab.kernel.invokeFunction(\n",
              "                'suggestCharts', [key], {});\n",
              "          } catch (error) {\n",
              "            console.error('Error during call to suggestCharts:', error);\n",
              "          }\n",
              "          quickchartButtonEl.classList.remove('colab-df-spinner');\n",
              "          quickchartButtonEl.classList.add('colab-df-quickchart-complete');\n",
              "        }\n",
              "        (() => {\n",
              "          let quickchartButtonEl =\n",
              "            document.querySelector('#df-09482400-3d07-41e7-9732-7aa215c96a61 button');\n",
              "          quickchartButtonEl.style.display =\n",
              "            google.colab.kernel.accessAllowed ? 'block' : 'none';\n",
              "        })();\n",
              "      </script>\n",
              "    </div>\n",
              "\n",
              "  <div id=\"id_c47e697a-37e0-40fd-8f29-b9f8594cccb9\">\n",
              "    <style>\n",
              "      .colab-df-generate {\n",
              "        background-color: #E8F0FE;\n",
              "        border: none;\n",
              "        border-radius: 50%;\n",
              "        cursor: pointer;\n",
              "        display: none;\n",
              "        fill: #1967D2;\n",
              "        height: 32px;\n",
              "        padding: 0 0 0 0;\n",
              "        width: 32px;\n",
              "      }\n",
              "\n",
              "      .colab-df-generate:hover {\n",
              "        background-color: #E2EBFA;\n",
              "        box-shadow: 0px 1px 2px rgba(60, 64, 67, 0.3), 0px 1px 3px 1px rgba(60, 64, 67, 0.15);\n",
              "        fill: #174EA6;\n",
              "      }\n",
              "\n",
              "      [theme=dark] .colab-df-generate {\n",
              "        background-color: #3B4455;\n",
              "        fill: #D2E3FC;\n",
              "      }\n",
              "\n",
              "      [theme=dark] .colab-df-generate:hover {\n",
              "        background-color: #434B5C;\n",
              "        box-shadow: 0px 1px 3px 1px rgba(0, 0, 0, 0.15);\n",
              "        filter: drop-shadow(0px 1px 2px rgba(0, 0, 0, 0.3));\n",
              "        fill: #FFFFFF;\n",
              "      }\n",
              "    </style>\n",
              "    <button class=\"colab-df-generate\" onclick=\"generateWithVariable('importance_df')\"\n",
              "            title=\"Generate code using this dataframe.\"\n",
              "            style=\"display:none;\">\n",
              "\n",
              "  <svg xmlns=\"http://www.w3.org/2000/svg\" height=\"24px\"viewBox=\"0 0 24 24\"\n",
              "       width=\"24px\">\n",
              "    <path d=\"M7,19H8.4L18.45,9,17,7.55,7,17.6ZM5,21V16.75L18.45,3.32a2,2,0,0,1,2.83,0l1.4,1.43a1.91,1.91,0,0,1,.58,1.4,1.91,1.91,0,0,1-.58,1.4L9.25,21ZM18.45,9,17,7.55Zm-12,3A5.31,5.31,0,0,0,4.9,8.1,5.31,5.31,0,0,0,1,6.5,5.31,5.31,0,0,0,4.9,4.9,5.31,5.31,0,0,0,6.5,1,5.31,5.31,0,0,0,8.1,4.9,5.31,5.31,0,0,0,12,6.5,5.46,5.46,0,0,0,6.5,12Z\"/>\n",
              "  </svg>\n",
              "    </button>\n",
              "    <script>\n",
              "      (() => {\n",
              "      const buttonEl =\n",
              "        document.querySelector('#id_c47e697a-37e0-40fd-8f29-b9f8594cccb9 button.colab-df-generate');\n",
              "      buttonEl.style.display =\n",
              "        google.colab.kernel.accessAllowed ? 'block' : 'none';\n",
              "\n",
              "      buttonEl.onclick = () => {\n",
              "        google.colab.notebook.generateWithVariable('importance_df');\n",
              "      }\n",
              "      })();\n",
              "    </script>\n",
              "  </div>\n",
              "\n",
              "    </div>\n",
              "  </div>\n"
            ],
            "application/vnd.google.colaboratory.intrinsic+json": {
              "type": "dataframe",
              "variable_name": "importance_df",
              "summary": "{\n  \"name\": \"importance_df\",\n  \"rows\": 10,\n  \"fields\": [\n    {\n      \"column\": \"Feature\",\n      \"properties\": {\n        \"dtype\": \"string\",\n        \"num_unique_values\": 10,\n        \"samples\": [\n          \"MaritalDesc\",\n          \"DepartmentType\",\n          \"Division\"\n        ],\n        \"semantic_type\": \"\",\n        \"description\": \"\"\n      }\n    },\n    {\n      \"column\": \"Importance\",\n      \"properties\": {\n        \"dtype\": \"number\",\n        \"std\": 0.10523838454352188,\n        \"min\": 0.014376736953204832,\n        \"max\": 0.3397155234314166,\n        \"num_unique_values\": 10,\n        \"samples\": [\n          0.020266844932049385,\n          0.22565685532394114,\n          0.05773030637240302\n        ],\n        \"semantic_type\": \"\",\n        \"description\": \"\"\n      }\n    }\n  ]\n}"
            }
          },
          "metadata": {},
          "execution_count": 68
        }
      ]
    },
    {
      "cell_type": "code",
      "source": [
        "plt.figure(figsize=(10, 6))\n",
        "plt.barh(importance_df['Feature'], importance_df['Importance'], color=sns.palettes.mpl_palette('terrain'))\n",
        "plt.xlabel('Importance')\n",
        "plt.title('Feature Importances')\n",
        "plt.show()"
      ],
      "metadata": {
        "colab": {
          "base_uri": "https://localhost:8080/",
          "height": 564
        },
        "id": "n48cH9Mc4Lc8",
        "outputId": "a8c4b17f-ae9c-4e62-d2c0-b064cd98b568"
      },
      "execution_count": 69,
      "outputs": [
        {
          "output_type": "display_data",
          "data": {
            "text/plain": [
              "<Figure size 1000x600 with 1 Axes>"
            ],
            "image/png": "[encoded data removed]"
          },
          "metadata": {}
        }
      ]
    },
    {
      "cell_type": "markdown",
      "source": [
        "### XGBoost"
      ],
      "metadata": {
        "id": "XVB2Jx7T4Rgc"
      }
    },
    {
      "cell_type": "markdown",
      "source": [
        "Doing cross-validation with 5 folds."
      ],
      "metadata": {
        "id": "dlaXr2oX4SJz"
      }
    },
    {
      "cell_type": "code",
      "source": [
        "xgb = xg.XGBRegressor(objective ='reg:squarederror', n_estimators = 3, seed = 111)\n",
        "scores = cross_val_score(xgb, X_train, y_train, cv=5, scoring='neg_mean_squared_error')\n",
        "scores"
      ],
      "metadata": {
        "colab": {
          "base_uri": "https://localhost:8080/"
        },
        "id": "TBD7uyi24UUY",
        "outputId": "42380592-198f-46b5-a15e-8834a9a69250"
      },
      "execution_count": 70,
      "outputs": [
        {
          "output_type": "execute_result",
          "data": {
            "text/plain": [
              "array([-1.13508594, -0.99085242, -1.09236288, -0.96950525, -1.10114336])"
            ]
          },
          "metadata": {},
          "execution_count": 70
        }
      ]
    },
    {
      "cell_type": "code",
      "source": [
        "print(f'{round(-scores.mean(), 3)} MSE with a standard deviation of {round(scores.std(), 3)}')"
      ],
      "metadata": {
        "colab": {
          "base_uri": "https://localhost:8080/"
        },
        "id": "s_oZGXI34X1o",
        "outputId": "4b642f49-c5a4-4808-d559-022a5fd51e4a"
      },
      "execution_count": 71,
      "outputs": [
        {
          "output_type": "stream",
          "name": "stdout",
          "text": [
            "1.058 MSE with a standard deviation of 0.065\n"
          ]
        }
      ]
    },
    {
      "cell_type": "code",
      "source": [
        "xgb.fit(X_train, y_train)\n",
        "preds = xgb.predict(X_test)\n",
        "mse = MSE(y_test, preds)\n",
        "print(mse)"
      ],
      "metadata": {
        "colab": {
          "base_uri": "https://localhost:8080/"
        },
        "id": "-_rxl1Be4aFY",
        "outputId": "84ec6b51-4288-4716-d798-364f3d8b94fc"
      },
      "execution_count": 72,
      "outputs": [
        {
          "output_type": "stream",
          "name": "stdout",
          "text": [
            "1.052526593208313\n"
          ]
        }
      ]
    },
    {
      "cell_type": "code",
      "source": [
        "mse = MSE(y_test, [np.mean(y_train)] * len(y_test))\n",
        "print(mse)"
      ],
      "metadata": {
        "colab": {
          "base_uri": "https://localhost:8080/"
        },
        "id": "rqSuvPr44b_S",
        "outputId": "5754ea7a-4a49-4de1-9817-626f79594bf9"
      },
      "execution_count": 73,
      "outputs": [
        {
          "output_type": "stream",
          "name": "stdout",
          "text": [
            "1.031935939643347\n"
          ]
        }
      ]
    },
    {
      "cell_type": "markdown",
      "source": [
        "## Experiment 3: Target Encoding"
      ],
      "metadata": {
        "id": "nbKXiBDy4hOr"
      }
    },
    {
      "cell_type": "markdown",
      "source": [
        "### Encoding the features"
      ],
      "metadata": {
        "id": "f490Ufgj4h6a"
      }
    },
    {
      "cell_type": "markdown",
      "source": [
        "Using label encoding for targets."
      ],
      "metadata": {
        "id": "_Uh8eLZD4kQJ"
      }
    },
    {
      "cell_type": "code",
      "source": [
        "le = LabelEncoder()\n",
        "le.fit(y)\n",
        "y_encoded = le.transform(y)\n",
        "y_encoded"
      ],
      "metadata": {
        "colab": {
          "base_uri": "https://localhost:8080/"
        },
        "id": "hHja8PaT4peA",
        "outputId": "05b4df7f-0dd3-44e9-86b0-01bea947a76a"
      },
      "execution_count": 74,
      "outputs": [
        {
          "output_type": "execute_result",
          "data": {
            "text/plain": [
              "array([3, 2, 3, ..., 1, 1, 1])"
            ]
          },
          "metadata": {},
          "execution_count": 74
        }
      ]
    },
    {
      "cell_type": "markdown",
      "source": [
        "Using target encoding for X."
      ],
      "metadata": {
        "id": "hUhNAEif4o-f"
      }
    },
    {
      "cell_type": "code",
      "source": [
        "enc = TargetEncoder(smooth='auto')\n",
        "enc.fit(X[:, :9], y_encoded)\n",
        "example_encoded = enc.transform([example])[0]\n",
        "example_encoded"
      ],
      "metadata": {
        "colab": {
          "base_uri": "https://localhost:8080/"
        },
        "id": "ugEc2I574saj",
        "outputId": "56471205-c3e0-4352-96e1-b3c7cfe5701d"
      },
      "execution_count": 75,
      "outputs": [
        {
          "output_type": "execute_result",
          "data": {
            "text/plain": [
              "array([0.07949255, 0.15443936, 0.55560556, 0.12794162, 0.08251848,\n",
              "       0.10660378, 0.18992755, 0.47013247, 0.14996358, 0.083354  ,\n",
              "       0.0873045 , 0.15774954, 0.52181369, 0.14087181, 0.09225961,\n",
              "       0.0886147 , 0.16930727, 0.50891143, 0.13762476, 0.09554166,\n",
              "       0.07164407, 0.14318952, 0.54239754, 0.19887375, 0.04319206,\n",
              "       0.08449849, 0.15390979, 0.5484579 , 0.12712621, 0.08600673,\n",
              "       0.07907846, 0.14745546, 0.56655436, 0.12307664, 0.08383221,\n",
              "       0.08681702, 0.18361525, 0.49251667, 0.14189939, 0.09514956,\n",
              "       0.07885221, 0.1590738 , 0.53523497, 0.14660135, 0.08023347])"
            ]
          },
          "metadata": {},
          "execution_count": 75
        }
      ]
    },
    {
      "cell_type": "code",
      "source": [
        "len(example_encoded)"
      ],
      "metadata": {
        "colab": {
          "base_uri": "https://localhost:8080/"
        },
        "id": "JF9J7pCZ4vJk",
        "outputId": "242c77f0-7404-48fe-b31a-4090355bc325"
      },
      "execution_count": 76,
      "outputs": [
        {
          "output_type": "execute_result",
          "data": {
            "text/plain": [
              "45"
            ]
          },
          "metadata": {},
          "execution_count": 76
        }
      ]
    },
    {
      "cell_type": "code",
      "source": [
        "X_encoded = np.concatenate((enc.transform(X[:, :9]), X[:, 9:]), axis=1)\n",
        "X_encoded"
      ],
      "metadata": {
        "colab": {
          "base_uri": "https://localhost:8080/"
        },
        "id": "tYl73i4u4w7o",
        "outputId": "e1d44471-bfa4-4071-dfc3-8912e1e4eaed"
      },
      "execution_count": 77,
      "outputs": [
        {
          "output_type": "execute_result",
          "data": {
            "text/plain": [
              "array([[0.0794925455539641, 0.1544393645078774, 0.5556055572724579, ...,\n",
              "        0.14660135443704672, 0.08023347015368548, 55],\n",
              "       [0.0794925455539641, 0.1544393645078774, 0.5556055572724579, ...,\n",
              "        0.14660135443704672, 0.08023347015368548, 59],\n",
              "       [0.1578804819474563, 0.31240046329080007, 0.12851961018804597,\n",
              "        ..., 0.14660135443704672, 0.08023347015368548, 33],\n",
              "       ...,\n",
              "       [0.0794925455539641, 0.1544393645078774, 0.5556055572724579, ...,\n",
              "        0.14377692857342417, 0.10360695262050969, 28],\n",
              "       [0.0794925455539641, 0.1544393645078774, 0.5556055572724579, ...,\n",
              "        0.12956744687429522, 0.09176545662814899, 71],\n",
              "       [0.0794925455539641, 0.1544393645078774, 0.5556055572724579, ...,\n",
              "        0.13874465562736546, 0.0837772665074234, 34]], dtype=object)"
            ]
          },
          "metadata": {},
          "execution_count": 77
        }
      ]
    },
    {
      "cell_type": "markdown",
      "source": [
        "Splitting data into train and test sets."
      ],
      "metadata": {
        "id": "UJZcuIfi4y08"
      }
    },
    {
      "cell_type": "code",
      "source": [
        "X_train, X_test, y_train, y_test = train_test_split(X_encoded, y_encoded, test_size=0.1, random_state=111)"
      ],
      "metadata": {
        "id": "pwYVKKX94zS-"
      },
      "execution_count": 78,
      "outputs": []
    },
    {
      "cell_type": "markdown",
      "source": [
        "### Random Forest"
      ],
      "metadata": {
        "id": "gAJySVJ944fg"
      }
    },
    {
      "cell_type": "markdown",
      "source": [
        "Doing cross-validation with 5 folds"
      ],
      "metadata": {
        "id": "aCWGYjRf445W"
      }
    },
    {
      "cell_type": "code",
      "source": [
        "model = RandomForestClassifier(n_estimators=20, max_depth=5, random_state=111)\n",
        "scores = cross_val_score(model, X_train, y_train, cv=5, scoring='accuracy')\n",
        "scores"
      ],
      "metadata": {
        "colab": {
          "base_uri": "https://localhost:8080/"
        },
        "id": "uWRsm6mA4655",
        "outputId": "a1dc1201-d6aa-4032-f1a9-53a69c48eed4"
      },
      "execution_count": 79,
      "outputs": [
        {
          "output_type": "execute_result",
          "data": {
            "text/plain": [
              "array([0.54814815, 0.52777778, 0.53148148, 0.54259259, 0.56111111])"
            ]
          },
          "metadata": {},
          "execution_count": 79
        }
      ]
    },
    {
      "cell_type": "code",
      "source": [
        "print(f'{round(scores.mean(), 3)} accuracy with a standard deviation of {round(scores.std(), 3)}')"
      ],
      "metadata": {
        "colab": {
          "base_uri": "https://localhost:8080/"
        },
        "id": "n3RlgmFr4-SD",
        "outputId": "22ce6684-0abe-4fb2-9df5-87acfa934f66"
      },
      "execution_count": 80,
      "outputs": [
        {
          "output_type": "stream",
          "name": "stdout",
          "text": [
            "0.542 accuracy with a standard deviation of 0.012\n"
          ]
        }
      ]
    },
    {
      "cell_type": "markdown",
      "source": [
        "Evaluating on the test set."
      ],
      "metadata": {
        "id": "xrbhrELA5APV"
      }
    },
    {
      "cell_type": "code",
      "source": [
        "model = RandomForestClassifier(n_estimators=20, max_depth=5, random_state=111)\n",
        "model.fit(X_train, y_train)\n",
        "preds = model.predict(X_test)\n",
        "print(evaluate(preds, y_test))"
      ],
      "metadata": {
        "colab": {
          "base_uri": "https://localhost:8080/"
        },
        "id": "n3tDcwjw5B8M",
        "outputId": "3b3dcd2d-05b7-46a8-dd0e-8be074b1359b"
      },
      "execution_count": 81,
      "outputs": [
        {
          "output_type": "stream",
          "name": "stdout",
          "text": [
            "0.5733333333333334\n"
          ]
        }
      ]
    },
    {
      "cell_type": "markdown",
      "source": [
        "### XGBoost"
      ],
      "metadata": {
        "id": "6c39Ywqv5Em-"
      }
    },
    {
      "cell_type": "markdown",
      "source": [
        "Doing cross-validation with 5 folds"
      ],
      "metadata": {
        "id": "wiey3HFR5H56"
      }
    },
    {
      "cell_type": "code",
      "source": [
        "xgb = xg.XGBRegressor(objective ='reg:squarederror', n_estimators = 3, seed = 111)\n",
        "scores = cross_val_score(xgb, X_train, y_train, cv=5, scoring='neg_mean_squared_error')\n",
        "scores"
      ],
      "metadata": {
        "colab": {
          "base_uri": "https://localhost:8080/"
        },
        "id": "PNEhkHAI5JlO",
        "outputId": "6ac08396-8073-4a96-f6e8-4bb3ac562920"
      },
      "execution_count": 82,
      "outputs": [
        {
          "output_type": "execute_result",
          "data": {
            "text/plain": [
              "array([-1.10780466, -0.96511024, -1.11411738, -0.98364913, -1.0775013 ])"
            ]
          },
          "metadata": {},
          "execution_count": 82
        }
      ]
    },
    {
      "cell_type": "code",
      "source": [
        "print(f'{round(-scores.mean(), 3)} MSE with a standard deviation of {round(scores.std(), 3)}')"
      ],
      "metadata": {
        "colab": {
          "base_uri": "https://localhost:8080/"
        },
        "id": "0XPh8l7O5Lrn",
        "outputId": "c4842c86-0d39-47e6-fd4d-1a3396816836"
      },
      "execution_count": 83,
      "outputs": [
        {
          "output_type": "stream",
          "name": "stdout",
          "text": [
            "1.05 MSE with a standard deviation of 0.063\n"
          ]
        }
      ]
    },
    {
      "cell_type": "markdown",
      "source": [
        "Evaluating on the test set."
      ],
      "metadata": {
        "id": "UDVky6BK5NqL"
      }
    },
    {
      "cell_type": "code",
      "source": [
        "xgb.fit(X_train, y_train)\n",
        "preds = xgb.predict(X_test)\n",
        "mse = MSE(y_test, preds)\n",
        "print(mse)"
      ],
      "metadata": {
        "colab": {
          "base_uri": "https://localhost:8080/"
        },
        "id": "MZn5AV-l5Pqh",
        "outputId": "b755e94f-de0c-4f04-ea58-788223e1be41"
      },
      "execution_count": 84,
      "outputs": [
        {
          "output_type": "stream",
          "name": "stdout",
          "text": [
            "1.0541943311691284\n"
          ]
        }
      ]
    },
    {
      "cell_type": "code",
      "source": [
        "mse = MSE(y_test, [np.mean(y_train)] * len(y_test))\n",
        "print(mse)"
      ],
      "metadata": {
        "colab": {
          "base_uri": "https://localhost:8080/"
        },
        "id": "JdyBXuVc5ROR",
        "outputId": "fa1cd8be-e26d-403f-8b7d-e60576ab9d03"
      },
      "execution_count": 85,
      "outputs": [
        {
          "output_type": "stream",
          "name": "stdout",
          "text": [
            "1.031935939643347\n"
          ]
        }
      ]
    },
    {
      "cell_type": "markdown",
      "source": [
        "## Results"
      ],
      "metadata": {
        "id": "E0ADUuph5ZKp"
      }
    },
    {
      "cell_type": "markdown",
      "source": [
        "Let's look at our (preprocessed) dataset once again."
      ],
      "metadata": {
        "id": "J9Gxx-9e5aDI"
      }
    },
    {
      "cell_type": "code",
      "source": [
        "dataset.info()"
      ],
      "metadata": {
        "colab": {
          "base_uri": "https://localhost:8080/"
        },
        "id": "4kNiOyoU5eXr",
        "outputId": "eb2ada82-95c6-4f1e-d973-86ec03815888"
      },
      "execution_count": 86,
      "outputs": [
        {
          "output_type": "stream",
          "name": "stdout",
          "text": [
            "<class 'pandas.core.frame.DataFrame'>\n",
            "RangeIndex: 3000 entries, 0 to 2999\n",
            "Data columns (total 11 columns):\n",
            " #   Column                   Non-Null Count  Dtype \n",
            "---  ------                   --------------  ----- \n",
            " 0   Title                    3000 non-null   object\n",
            " 1   BusinessUnit             3000 non-null   object\n",
            " 2   EmployeeType             3000 non-null   object\n",
            " 3   DepartmentType           3000 non-null   object\n",
            " 4   Division                 3000 non-null   object\n",
            " 5   State                    3000 non-null   object\n",
            " 6   GenderCode               3000 non-null   object\n",
            " 7   RaceDesc                 3000 non-null   object\n",
            " 8   MaritalDesc              3000 non-null   object\n",
            " 9   Current Age              3000 non-null   int64 \n",
            " 10  Current Employee Rating  3000 non-null   int64 \n",
            "dtypes: int64(2), object(9)\n",
            "memory usage: 257.9+ KB\n"
          ]
        }
      ]
    },
    {
      "cell_type": "markdown",
      "source": [
        "We want to predict Current Employee Rating based on other features. Among these features, only Current Age is numerical, others are categorical. Employee Rating is an integer score from 1 to 5, therefore it is also a categorical feature."
      ],
      "metadata": {
        "id": "7zupy1N65ir_"
      }
    },
    {
      "cell_type": "markdown",
      "source": [
        "Now, let's take a random employee and try to classify their rating with the classifier from Experiment 3."
      ],
      "metadata": {
        "id": "8NzOFqmN5lWj"
      }
    },
    {
      "cell_type": "code",
      "source": [
        "employee_id = 111"
      ],
      "metadata": {
        "id": "WZ_iv0in5nj9"
      },
      "execution_count": 87,
      "outputs": []
    },
    {
      "cell_type": "code",
      "source": [
        "example = X[employee_id]\n",
        "example"
      ],
      "metadata": {
        "colab": {
          "base_uri": "https://localhost:8080/"
        },
        "id": "TNyum0bW5pMK",
        "outputId": "2c0a9b1f-eff6-4a1b-8db3-12627bfd8e74"
      },
      "execution_count": 88,
      "outputs": [
        {
          "output_type": "execute_result",
          "data": {
            "text/plain": [
              "array(['Area Sales Manager', 'PL', 'Part-Time', 'Sales', 'Fielders', 'TX',\n",
              "       'Male', 'Asian', 'Widowed', 65], dtype=object)"
            ]
          },
          "metadata": {},
          "execution_count": 88
        }
      ]
    },
    {
      "cell_type": "markdown",
      "source": [
        "First, we need to apply target encoding to the example."
      ],
      "metadata": {
        "id": "6nZKV9z-5rMO"
      }
    },
    {
      "cell_type": "code",
      "source": [
        "# we don't need to encode the age column that is why we skip it\n",
        "example_encoded = enc.transform([example[:-1]])[0]\n",
        "example_encoded = np.concatenate((example_encoded, example[9:]))\n",
        "example_encoded"
      ],
      "metadata": {
        "colab": {
          "base_uri": "https://localhost:8080/"
        },
        "id": "ICYrK7b95vcp",
        "outputId": "e6141944-be91-48aa-bb55-c98b8b2d1176"
      },
      "execution_count": 89,
      "outputs": [
        {
          "output_type": "execute_result",
          "data": {
            "text/plain": [
              "array([0.1578804819474563, 0.31240046329080007, 0.12851961018804597,\n",
              "       0.25193146785200976, 0.14784801881881707, 0.09301411148690786,\n",
              "       0.1329907770663704, 0.5016887524306557, 0.16601205722975998,\n",
              "       0.10624966511702462, 0.09119405858266845, 0.1750469964798938,\n",
              "       0.4979162352072465, 0.1456957594204846, 0.09014659663313565,\n",
              "       0.15377454160916687, 0.31353716012866356, 0.14556136881157627,\n",
              "       0.24122385901904803, 0.14476463328450148, 0.16907715105025495,\n",
              "       0.230772275167385, 0.30697771739901547, 0.1702916475151453,\n",
              "       0.12144977307079573, 0.09603782309285575, 0.21061519303773937,\n",
              "       0.519056788279472, 0.11577490562860067, 0.05809951974463206,\n",
              "       0.10469166947690174, 0.19876140731636704, 0.4378384466620299,\n",
              "       0.16083173369687806, 0.09786913226975878, 0.09855502376602063,\n",
              "       0.1732856344045505, 0.4928730211836592, 0.14942714619130068,\n",
              "       0.08585686825740167, 0.07885220849498442, 0.1590738005339525,\n",
              "       0.5352349661831606, 0.14660135443704672, 0.08023347015368548, 65],\n",
              "      dtype=object)"
            ]
          },
          "metadata": {},
          "execution_count": 89
        }
      ]
    },
    {
      "cell_type": "code",
      "source": [
        "print(f'The encoded example has {len(example_encoded)} features. The original example had {len(example)} features.')"
      ],
      "metadata": {
        "colab": {
          "base_uri": "https://localhost:8080/"
        },
        "id": "hUshsaP35zHT",
        "outputId": "511d100b-674c-4ed7-96cc-b102da83ea8b"
      },
      "execution_count": 90,
      "outputs": [
        {
          "output_type": "stream",
          "name": "stdout",
          "text": [
            "The encoded example has 46 features. The original example had 10 features.\n"
          ]
        }
      ]
    },
    {
      "cell_type": "markdown",
      "source": [
        "Now, let's apply the Random Forest Classifier, which we trained previously, to the example."
      ],
      "metadata": {
        "id": "RtT2OWvV515M"
      }
    },
    {
      "cell_type": "code",
      "source": [
        "pred = model.predict([example_encoded])[0]\n",
        "print(pred)"
      ],
      "metadata": {
        "colab": {
          "base_uri": "https://localhost:8080/"
        },
        "id": "WHOqv74r52SL",
        "outputId": "9ce80df9-896b-468a-c550-6af45c680c4b"
      },
      "execution_count": 91,
      "outputs": [
        {
          "output_type": "stream",
          "name": "stdout",
          "text": [
            "1\n"
          ]
        }
      ]
    },
    {
      "cell_type": "markdown",
      "source": [
        "Let's decode the label and see to which rating it corresponds."
      ],
      "metadata": {
        "id": "hLp7w7Xe6F1U"
      }
    },
    {
      "cell_type": "code",
      "source": [
        "rating = le.inverse_transform([pred])[0]\n",
        "print(rating)"
      ],
      "metadata": {
        "colab": {
          "base_uri": "https://localhost:8080/"
        },
        "id": "NIr9B42o6HTB",
        "outputId": "9100b420-9b6b-4915-e991-19f396b11a68"
      },
      "execution_count": 92,
      "outputs": [
        {
          "output_type": "stream",
          "name": "stdout",
          "text": [
            "2\n"
          ]
        }
      ]
    },
    {
      "cell_type": "markdown",
      "source": [
        "The predicted rating is 2/5. Let's see the true rating."
      ],
      "metadata": {
        "id": "icrI-eRN6JVA"
      }
    },
    {
      "cell_type": "code",
      "source": [
        "true_rating = dataset['Current Employee Rating'][employee_id]\n",
        "print(true_rating)"
      ],
      "metadata": {
        "colab": {
          "base_uri": "https://localhost:8080/"
        },
        "id": "mf7Tooxj6JrG",
        "outputId": "9fc854ab-f536-480f-c115-624e1ed6d661"
      },
      "execution_count": 93,
      "outputs": [
        {
          "output_type": "stream",
          "name": "stdout",
          "text": [
            "2\n"
          ]
        }
      ]
    },
    {
      "cell_type": "markdown",
      "source": [
        "We can discuss the results. We used three different types of encoding: one-hot encoding, label (ordinal) encoding and target encoding.\n",
        "\n",
        "*   **One-hot encoding** demonstrated the worst results: the RF classifier returned **55% test-set accuracy**. As the dataset almost entirely consists of categorical values, the one-hot-encoded values were too sparse (too many zeros). Besides, one-hot encoding produced **145 features**. The model is prone to the **curse of dimentionality**.\n",
        "*   **Label encoding** solves the problem with sparcity: it just assigns an integer value to every categorical variable. But the results improved insignificantly: the RF classifier returned **55.3% test-set accuracy**. Label encoding produced only **9 features**.\n",
        "*  **Target encoding** ensures that numbers are not randomly assigned to categorical variables but depend on the targets. This gave a significant improvement: the RF classifier returned **57.3% test-set accuracy**. Target encoding produced only **45 features**, which is a good trade-off."
      ],
      "metadata": {
        "id": "krCAeWxH6Nrq"
      }
    },
    {
      "cell_type": "markdown",
      "source": [
        "Label encoder also allowed us to get interpretable results from the Random Forest Classifier, because the number of encoded features corresponded to the number of features. The resulting plot of feature importance can be seen below.\n",
        "![image.png](data:image/png;base64,iVBORw0KGgoAAAANSUhEUgAAA5kAAAIjCAIAAAAGEkjWAAAAAXNSR0IArs4c6QAAAERlWElmTU0AKgAAAAgAAYdpAAQAAAABAAAAGgAAAAAAA6ABAAMAAAABAAEAAKACAAQAAAABAAADmaADAAQAAAABAAACIwAAAACuoID4AABAAElEQVR4Aezdd2AU1cL38RsIJRC69N6U3gUBaUoXBEFRBAQLFykCCtKu0pWqICCIKFUEBLmACkiRIlV6EaRJU3rvnfd3PY/zjptkk2x2N1u++8c+Z86cOXPmM3m4P0/OTEIePnz4Lz4IIIAAAggggAACCPihQAI/HDNDRgABBBBAAAEEEEDgfwJkWX4OEEAAAQQQQAABBPxVgCzrr3eOcSOAAAIIIIAAAgiQZfkZQAABBBBAAAEEEPBXAbKsv945xo0AAggggAACCCBAluVnAAEEEEAAAQQQQMBfBciy/nrnGDcCCCCAAAIIIIAAWZafAQQQQAABBBBAAAF/FSDL+uudY9wIIIAAAggggAACZFl+BhBAAAEEEEAAAQT8VYAs6693jnEjgIB3BCZPnhwS4dOjR484nn3dunV9+/a9dOlSHPuJ1eHmWjZv3hyrozzaeOzYsRqVR09B5wggENgCoYF9eVwdAggg4BaB/v37586d2+qqSJEiVtm1grJsv379WrVqlTp1atd6CIyjlGUfeeQROQTG5XAVCCDgfQGyrPfNOSMCCPifQJ06dcqUKeNT475+/Xry5Ml9akixGsyNGzeSJUsWq0NojAACCEQUYI1BRBNqEEAAgZgKLFq0qFKlSsqUKVKkeOaZZ3799VfryJ07d2q6MU+ePEmTJs2UKdNrr712/vx5s1erC959912VNddr1i8c+eujssMv3FWjxtZR2tyzZ8/LL7+cJk2aJ5980tR/9dVXpUuXDgsLS5s27UsvvXT8+HFTH+23hhceHn7s2LF69eqpkDVr1k8//VRH7dq166mnntJF5cyZ8+uvv7b6MUsUVq9e3aZNm3Tp0qVMmfKVV165ePGi1UAFzbMWLlw4SZIkWbJkad++vX0RRdWqVTWfvWXLlsqVKyvF9urVK1euXBJbtWqVrksfNVAPFy5c6Nq1a9GiRTUknUL/FbFjxw7rFCtXrlTLb7755oMPPsiWLZtsn3766YMHD1oNVNi4cWPdunVFpEsoVqzYJ598Yu397bffnn/+eUHpQP3HyYIFC6xdd+/e1Ux5/vz5tUtXJ96lS5daeykggIDPCjAv67O3hoEhgIAPCVy+fPncuXPWgPRrcZWnTZvWsmXLWrVqDRkyRLOM48aNUwDatm2bIpr2Kgn9/vvvr776qoKsEtvnn3+u7w0bNiiKNWrUaP/+/TNmzBgxYoTpKn369GfPnrX6d1J44YUXlLc+/PDDhw8fqpki3fvvv9+kSZM33nhDPYwePVpJUWOI4dKF+/fvKyzqkKFDh06fPr1Dhw7Kf//5z3+aNWumQX722WdKq+XLl7evr1Abda6EvW/fPl3y0aNHTb7UYFSpOFi9evW2bduavZs2bVq7dm2iRInMFSnN63QK3M2bN8+YMaPC61tvvaXMqjOqgWr0LbR58+bpMnXS06dPjx8/vkqVKkrwCsemE30PHjw4QYIEiry6Lxq5Rqv8avaKXdE8c+bMnTp1kvzevXu///57lbVX/hUrVlRk13JnXaYCccOGDb/99tvnnntOezX4QYMGibFs2bJXrlzRquKtW7fWqFHDdMs3Agj4roD+NeSDAAIIIBCVwKRJkyL+C67GV69eVaRr3bq1deCpU6dSpUpl1SjdWrtUUHJVP5rUNJXDhg3T5uHDh602KqtGp7NqVFBNnz59TI0K2mzatKnVQJO5CRMmVJy1ajSlGhoaaq+xdqlgrkX50lQqiKtDE4tVoxlWTe4qas+cOdM00CymfQDmcM0B37lzxzRQjlSD+fPna/PMmTOJEyeuWbOm8rHZO2bMGO2dOHGi2VQk1abysdk035rEVb295tatW1YPqheLZnm1Xtm0WbFihTopWLDg7du3TY2ZdtWFa/PevXtKwJpO1rWYvfp+8OCBKWsGV9O96t9sqr5ChQr6DwOzWbx4cc2smzLfCCDgRwKsMdC/inwQQACBaAT0y3dN+FkftVZZv0BXstR8rfkoVpYrV86ELTVQLjSdKjypwRNPPKFNTfWZSpe/33zzTevYuXPnKpBpUvbvIZzTTKTCmTUGq6WTgmYizV5F88cee0wTlurQ1GhTlZootR/+73//25pn1fyrovPChQvVYNmyZcq4nTt31oypaa9Yr0UCP/zwg3W4Uqkmqq3NSAtqY3pQotU8rmZtNQwHN3Wi3GwO1xoPFcwgNSGt7KsxaNhW50rnKmvpwk8//aRL03+EGC51rjn1AwcO/Pnnn2qgQzRxq03rQAoIIOAXAqwx8IvbxCARQCCeBfR7Z4dnv0zo0bpSh5EpvZkahSf9wl1znJqwtNrod+JW2bWC/df9GoPmThReHbqysqZDfcRNrQ3V8garXvPKWoRqwp+pVI3Dilj76RQ09dt8TQ+rsRYb6Fu50xyob8VNLRc29aZSv9+3MqjVzKGgdK6pVq27VSpVnDV7tYDV3ixHjhzWptbFqmwGeejQIZUjfcuE1tTKSusx9LGONQXdIA1MU78NGjR49NFHdXjt2rVbtGihtbYOLdlEAAEfFCDL+uBNYUgIIOAHAopcGqWWzGoq1D5czVOaTU0B6sVbesarRIkSynxqr4RkjrK3t8r2BGkqrSRntVHBmu5VWb3pKD1/pilhexudzr7ppOxwoFpGrFEEdNJDrHbZBx/VgVrzoLipR+UGDBigh7Q0R6t5Vgc3FwZpetASW83FOpw6X758qtGiYUVhrZdYsmTJF198oaXMWg5hTVo7HMImAgj4jgBZ1nfuBSNBAAF/EsibN6+GmyFDBj3qFHHcmiZcvny55mV79+5t9jr88jpicjXzi/YH/+0zmhFPoRqNQUFTM7WaTYy0gScqdSHVqlUzPV+7du3kyZN6aYA2tUpV33rkS3OxZq+WHGhuNVIf00DfER3mzJmj/r/88kurjUzME3JWTVQFc1N2794d8aRmVJqxjrjL6k3RWasX9NF1KdrqaTCyrIVDAQGfFWC9rM/eGgaGAAI+LaDpPS0n0CSi3uVkH6h5HYGZOLTPaI4cOdLeTMtStWlPrupNiU0Ph1nN9Ht2qxxpQa8a0ImUmO0nUtl6+VekR8WxUi9ksC5Z7zHQ41Z6NYH6VEbU+oFRo0ZZg1Ee1ZoKPVDl5IxysCOopa7I6kGbs2fPNutZnXRi7SpVqpSSvajtfZre9F8dem2C3oqg8G21V8F6fYQdTRPbmqzV42X2lpQRQMA3BZiX9c37wqgQQMDXBRQ9leS0qlL5SS+Z0qpTvahVzznprU96fl97zYuuFPu0FlO/ttYMpf2S9DYAbepdVDpWk4X169dXqtMsoN42pW+tzVWo1Xu77IdELGsacuDAgT179tSKVb1eSu+41Vn++9//6vEs/TI9Ynu31Gi2VS8E0AoKTcEqbes1ZM8++6x6loBGomCtpRSqMXsff/xxvX7LyXnlIEZdhbKj4qbWH+uNWlq6qslRvWRAbyfQm8KsiV4n/ZhdWpCg3oSpdR3qQWt59SoGPdH1448/qoEe4NNo9SoDPZSmPvXCr/Xr1//xxx/m/bWFChVS2NV4NDurF3JpelhvH4v2jDRAAIH4F9B/sPJBAAEEEIhKwOE9Vg7N9MYATdDqASk9RKVkqb8+oBhk2igk6cWlejpee/W21BMnTuhffOsFW2qj9aCKueaZfWVQ1eg1Xq+//rraK5UqLJqHxqxDzDu5NI9o+re+9YZURTRFYX0KFCigv1CgHGnttRccrkXv5NIh9gZ6PZZekmWv0coB601V5nD9aQNlZa2I0OSlXuyq6Ux7e+V4jUHpXC+L1VsOtNbC2huxc+3Si8zUv65XOOblXHrtQ5cuXRRDtbhW/2GguKl6s0vtzSsaNFlrdWv+I0Fjs2rWrFmj98KqT12dnt/SO3etXVoRqzfmaomzRih85WZlVrNXeVpP+Ol+6by6BL3XzHr1mHU4BQQQ8EGBEI0p/gM1I0AAAQQQ8HkB/d0vTXbq9bQOr3Tw+YEzQAQQCGQB1ssG8t3l2hBAAAEEEEAAgcAWIMsG9v3l6hBAAAEEEEAAgUAWIMsG8t3l2hBAAAEEEEAAgcAWYL1sYN9frg4BBBBAAAEEEAhkAeZlA/nucm0IIIAAAggggEBgC5BlA/v+cnUIIIAAAggggEAgC/C3Enzx7urvhutVlHo5YsS/7uiLw2VMCCCAAAIIIICAZwT09tirV69myZLFvI074knIshFN4r9GQTZ79uzxPw5GgAACCCCAAAII+IDA8ePHs2XLFulAyLKRssRzpfkTOLpt+jOY8TwUTo8AAggggAACCMSfwJUrVzTBZ6JRpKMgy0bKEs+VZmmBgixZNp7vBKdHAAEEEEAAAR8QcLLqkme/fOD+MAQEEEAAAQQQQAABlwTIsi6xcRACCCCAAAIIIICADwiQZX3gJjAEBBBAAAEEEEAAAZcEyLIusXEQAggggAACCCCAgA8IkGV94CYwBAQQQAABBBBAAAGXBMiyLrFxEAIIIIAAAggggIAPCJBlfeAmMAQEEEAAAQQQQAABlwTIsi6xcRACCCCAAAIIIICADwiQZX3gJjAEBBBAAAEEEEAAAZcEyLIusXEQAggggAACCCCAgA8IkGV94CYwBAQQQAABBBBAAAGXBMiyLrFxEAIIIIAAAggggIAPCJBlfeAmMAQEEEAAAQQQQAABlwTIsi6xcRACCCCAAAIIIICADwiQZX3gJjAEBBBAAAEEEEAAAZcEyLIusXEQAggggAACCCCAgA8IkGV94CYwBAQQQAABBBBAAAGXBMiyLrFxEAIIIIAAAggggIAPCIT6wBgYQuQCh3YNDw9PGvm+uNXmL94rbh1wNAIIIIAAAggg4BMCzMv6xG1gEAgggAACCCCAAAIuCJBlXUDjEAQQQAABBBBAAAGfECDL+sRtYBAIIIAAAggggAACLgiQZV1A4xAEEEAAAQQQQAABnxAgy/rEbWAQCCCAAAIIIIAAAi4IkGVdQOMQBBBAAAEEEEAAAZ8QIMv6xG1gEAgggAACCCCAAAIuCJBlXUDjEAQQQAABBBBAAAGfECDL+sRtYBAIIIAAAggggAACLgiQZV1A4xAEEEAAAQQQQAABnxAgy/rEbWAQCCCAAAIIIIAAAi4I+FOWbdWqVcOGDV24SA5BAAEEEEAAAQQQCEgB92dZJc6Qf35q167td3YrV67850X8/y3t8rvLYcAIIIAAAggggEBACoR64qoUXidNmmT1nCRJEqvsL4UKFSqcPHnSjLZTp05Xrlyxriht2rT+chWMEwEEEEAAAQQQCGwB98/LykvhNZPtkyZNGlVqYnP8+PH16tVLlixZwYIF169ff/DgwapVqyZPnlzB8dChQwa6b9++JUqUUMvs2bOrZZMmTS5fvhzxHty+fbtjx44ZMmRImjTpk08+uWnTJrV5+PBhvnz5hg8fbrXfvn27zqsTqebSpUtvvPFG+vTpU6ZM+dRTT+3YscNqNn/+/FKlSqmrPHny9OvX7969e4kTJ7auICwszFzR/v37NaoLFy5YB3bu3LlSpUranDx5curUqefNm5c/f371U6tWrePHj1vNIvZv7aKAAAIIIIAAAggg4LKAR7JsVKMZMGDAK6+8onxZoECBl19+uU2bNj179ty8ebMyaIcOHayjFD2/+eab7777bvHixdu2bWvXrp21yyp069bt22+/nTJlytatW5VflR0VMRVbX3vtNWsCVY1Vrly5shqo/MILL5w5c2bRokVbtmxRcn366adNKv355581Kk2+7tmzRxlaqfSDDz6wTmQvqCuF3WnTppnKu3fvTp8+XWc0mzdu3NCBU6dOXbt2rXLzSy+9ZOpj2L/SuWZ/rY/9vJQRQAABBBBAAAEEIhXwSJb9/vvvw22fDz/80Jz71Vdf1Tzro48+2r179yNHjjRr1kwZVHO0ypH2Rai3bt1SItTsrLLj6NGjZ86ceerUKfvor1+/Pm7cuGHDhtWpU6dQoUITJkzQ1OmXX36pNlqtu2/fvl9++UVlZc2vv/7aZM01a9aocvbs2WXKlNHUqeZuNY06Z84cNdNEbI8ePVq2bKmcWqNGDQVuJVr76ezl119/3crKStsaqq7INNDpxowZU758+dKlSytkr1u3zgwjhv0PGjQo1d8fzf7aT0oZAQQQQAABBBBAIFIBj6yXrVatmrKmdT5rgWmxYsVMZcaMGVUoWrSotalQqClJ/fZfNTly5MiaNavZpWj44MEDxVP9xt/U6FsLEhQcK1asaGoSJUpUtmzZvXv3ajNLlizPPPPMxIkTVaOsqclOTceqXisKrl27li5dOnOIvm/evGkWNmiXZlKtudj79+9rMJpk1QoHq7FVUFZ+7733NmzY8MQTT2gGV0FWayTM3tDQ0Mcff9yUNfGsrKwhaRgx7F9T1O+88445XBTEWcucAgIIIIAAAgggEJWAR7Ks4p35tb7DWRU6TY0WA6jgsKnM6tDetU0tim3RosWIESM0gfriiy+aSKogmzlzZvvsrzpX3NS3dmnqtFGjRvbTac2rfdMqa4Vu/fr11XPu3Lm1XMGhQ6uZvRDD/rUkVx/7gZQRQAABBBBAAAEEnAt4JMs6P2W0e48dO3bixAnNsKqlZkATJEjw2GOP2Y/Kmzevns3SZGrOnDlVrzlaPfulx7BMm7p16ypMa2JYy21Xr15tKrVAVgsVNHWaK1cuU2N9a5fmfSMN31Ybe0FZuWnTptmyZdMwrLlhNdATY1r7q4lYldWhlsxq+YTKse3ffi7KCCCAAAIIIIAAAk4EPJJl9Zt9+wpXJchHHnnEySAcdmlOVKtXtaRVv2rXywr0e3z7AgM1VlRt27btu+++q9ULWpAwdOhQLQnQSlbTT8KECbUSQL+y17pYLVEwldWrV1dZf2pBjbVgV1n5hx9+eO6557R8tnfv3nq7gvp5/vnnlZu1JGD37t0DBw50GJW1qTW+WguhBv3797cqVdA081tvvTVq1Chdrx5l0yIEk2tj27+9T8oIIIAAAggggAACTgQ88uyXJkT1C33ro3dmORlBxF2aItVv/DW9WrNmTS2xHTt2bMQ2gwcPbty4sdYSaNZT7z348ccfzZu/TEvl2jt37uhRM+tArWpYuHChHiZTpbKsXjJw9OhRs2xX2VQPqy1ZskSrXRVAtTjBTPdaxzoUlHeVlbWsVm8/sO/SYgY906b3M2iyVk++zZo1y+yNbf/2PikjgAACCCCAAAIIOBEI0fuwnOz2/i69X1ZvadV7u+Jyar0GS6/c0hteTVqNS1eRHqusfPbs2QULFlh79RyYFjloXYFVE5eCJqT1SoOta94PD4982W5cOtex+Yv3imMPHI4AAggggAACCHhBwIQi/bUB84aAiGf0yBqDiKfxWo2WNyhlKhDr9QWeCLKi3LVrl171ZQ+yXrs6ToQAAggggAACCCBgF/DIGgP7CbxcnjFjhlYIaH5U62I9ceoGDRpo5cObb76pN9F6on/6RAABBBBAAAEEEIi5gM+tMYj50AO4JWsMAvjmcmkIIIAAAgggEHOBaNcYBNq8bMxpaIkAAggggAACCCDg7wJkWX+/g4wfAQQQQAABBBAIXgGybPDee64cAQQQQAABBBDwdwGyrL/fQcaPAAIIIIAAAggErwBZNnjvPVeOAAIIIIAAAgj4uwBZ1t/vIONHAAEEEEAAAQSCV4AsG7z3nitHAAEEEEAAAQT8XSDQ/u6Xv98P+/jzFu0a1Z9rszejjAACCCCAAAIIBK0A87JBe+u5cAQQQAABBBBAwO8FyLJ+fwu5AAQQQAABBBBAIGgFyLJBe+u5cAQQQAABBBBAwO8FyLJ+fwu5AAQQQAABBBBAIGgFyLJBe+u5cAQQQAABBBBAwO8FyLJ+fwu5AAQQQAABBBBAIGgFyLJBe+u5cAQQQAABBBBAwO8FyLJ+fwu5AAQQQAABBBBAIGgF+FsJvnvrl1z+JNnDpPE4vrqp3o3Hs3NqBBBAAAEEEEAgWgHmZaMlogECCCCAAAIIIICAjwqQZX30xjAsBBBAAAEEEEAAgWgFyLLREtEAAQQQQAABBBBAwEcFyLI+emMYFgIIIIAAAggggEC0AmTZaIlogAACCCCAAAIIIOCjAmRZH70xDAsBBBBAAAEEEEAgWgGybLRENEAAAQQQQAABBBDwUQGyrI/eGIaFAAIIIIAAAgggEK0AWTZaIhoggAACCCCAAAII+KgAWdZHbwzDQgABBBBAAAEEEIhWgCwbLRENEEAAAQQQQAABBHxUIACz7OTJk1OnTh1bb9eOiu1ZaI8AAggggAACCCDgRgFfybKtWrUKCQl588037dfWvn17VWqXvTLa8osvvrh//37TrG/fviVKlIj2EIcGyrU6rz4JEyZMkyZNuXLl+vfvf/nyZYdmbCKAAAIIIIAAAgjEr4CvZFkpZM+efebMmTdv3jQit27d+vrrr3PkyBEroLt374aFhWXIkCFWR0VsnDJlypMnT/7xxx/r1q3797//PXXqVGXiEydORGxJDQIIIIAAAggggEB8CfhQli1VqpTi7Ny5c42FCgqyJUuWNJuLFy9+8skntXggXbp09erVO3TokKk/cuSIJlBnzZpVpUqVpEmTTp8+3VotoEK/fv127Njx1xxriDZ1yMcff1y0aNHkyZPrXO3atbt27Zrpx+Fbh2TKlClz5swFCxZ8/fXXlWjVslu3bqbZgwcPBg0alDt3buXm4sWLz5kzx9RfvHixWbNm6dOnV33+/PknTZpk6pWJmzZtmjZtWp23TJkyGzdudDgdmwgggAACCCCAAAIuCPhQltXoX3vtNSv/TZw48dVXX7Uu6fr16++8887mzZuXL1+eIEGC5557ToHS2tujR49OnTrt3bu3Vq1aVqUWG3Tp0qVw4cKaYdVHm9qlY0eNGvXrr79OmTLlp59+suKpdVSkBU30KqQuWLDg/v37aqAgq5nazz77TP28/fbbzZs3X7Vqlerff//9PXv2LFq0SCMZN27cI488okqFYOXsP//8U4crWOuM9pFbp7t9+/YV28eqp4AAAggggAACCCAQlUBoVDvipV6hsGfPnkePHtXZ165dqyUHK1euNCNp3LixNSTFXM19KjUWKVLEVHbu3LlRo0ZWA1PQ5Gh4eHhoaKhmWK1damnKuXLlGjhwoFbojh071trrpFCgQIGrV6+eP38+VapUH3744bJly8qXL6/2efLkWbNmzfjx4xVYjx07polkzbyqXv2b3rRS4uzZs5s2bdK8rGry5ctn6h2+lY81i+xQySYCCCCAAAIIIICAEwHfyrJKqM8884wWAzx8+FAFM69pRn/gwIHevXvrt/Pnzp0z85oKjlaWNfHRyXVau5RBlRp/++03zYHeu3dPq3Jv3LiRLFkyq0FUBQ1Ju7T24ODBgzqkRo0aVss7d+6YtRBt27ZV5t66dWvNmjUbNmxYoUIFtdm+fbv2miBrHRKxoBCviWdTr7FpCUTENtQggAACCCCAAAII2AV8K8tqZFpm0KFDBxU+/fRT+0Dr16+fM2fOCRMmZMmSRVlWKVYJ0mqgdahW2UlBi2u11laJ84MPPlC41Hyq1sKqn5hkWS0b0ANhWq37+++/6xQ//PBD1qxZrXMlSZJE5Tp16mhSeeHChUuXLn366af1Hobhw4drethq5qSgHkwnTtqwCwEEEEAAAQQQQMAu4HNZtnbt2gqXmv60r3zVb/b37dunIFupUiWNXhnUfg1OyokTJzYrXE2bLVu2KAd/9NFHWjWrmm+++cbJsfZdZ86c0VIBTbXqwEKFCil0alZYiwrsbUxZU8st//poqO+++66ybLFixb744osLFy5EOzUbsTdqEEAAAQQQQAABBJwI+FyW1StdNQOqEatgjVsvedWE6Oeff64XCyhE6kkva5fzghatHj58WL/lz5YtW4oUKbRWVS/tGj16tGZ5tR5XD29FdbhWFJw6dUrfly5dWr9+vRbIapns4MGD1V79dO3aVY98KRbr1Qp676y60pStEqxWQZQuXVpPm+lBru+//17vQFB7vcFAhysHa22Dxr9t2zZNLZu1tlGdnXoEEEAAAQQQQACBmAj41nsMzIiVC/Wxj16zoXoOTLOqWlqgEDls2DD7XidlrV7VRG+1atU0XTpjxgy9P0vv5BoyZIj60du7FC6jOlYrVpU7tYpAoVPPdSmnKoOqxrQfMGCAXlmgw5VW1b/WG+j9XNqlaWAte9VEbOXKlZXFNWZTuWTJEr0JoW7dunodmAKxPaZHNQDqEUAAAQQQQAABBKIVCDGPNEXbjgbeFFCS1jTw7GP9k6VM6s3zOpyrbqp3HWrYRAABBBBAAAEEvClgQpF+De4w0WmNwRfnZa3BUUAAAQQQQAABBBBAwIkAWdYJDrsQQAABBBBAAAEEfFqALOvTt4fBIYAAAggggAACCDgRIMs6wWEXAggggAACCCCAgE8LkGV9+vYwOAQQQAABBBBAAAEnAmRZJzjsQgABBBBAAAEEEPBpAbKsT98eBocAAggggAACCCDgRIAs6wSHXQgggAACCCCAAAI+LUCW9enbw+AQQAABBBBAAAEEnAiQZZ3gsAsBBBBAAAEEEEDApwVCfXp0wT24mqk6RfXn2oIbhqtHAAEEEEAAAQT+T4B5WX4UEEAAAQQQQAABBPxVgCzrr3eOcSOAAAIIIIAAAgiQZfkZQAABBBBAAAEEEPBXAbKsv945xo0AAggggAACCCBAluVnAAEEEEAAAQQQQMBfBciy/nrnGDcCCCCAAAIIIIAAWZafAQQQQAABBBBAAAF/FeD9sr5750ru6ZYwPLHvji+Kke0vMiqKPVQjgAACCCCAAAJuFmBe1s2gdIcAAggggAACCCDgNQGyrNeoORECCCCAAAIIIICAmwXIsm4GpTsEEEAAAQQQQAABrwmQZb1GzYkQQAABBBBAAAEE3CxAlnUzKN0hgAACCCCAAAIIeE2ALOs1ak6EAAIIIIAAAggg4GYBsqybQekOAQQQQAABBBBAwGsCZFmvUXMiBBBAAAEEEEAAATcLkGXdDEp3CCCAAAIIIIAAAl4TIMt6jZoTIYAAAggggAACCLhZgCzrZlC6QwABBBBAAAEEEPCaAFnWa9ScCAEEEEAAAQQQQMDNAmRZN4PSHQIIIIAAAggggIDXBPwyy7Zq1Srkr0+iRIly587drVu3W7duuZesb9++5hShoaGPPPJI5cqVR44cefv2bfeehd4QQAABBBBAAAEE4iLgl1lWF1y7du2TJ0/+/vvvI0aMGD9+fJ8+feKiEOmxhQsX1imOHTu2YsWKF154YdCgQRUqVLh69WqkjalEAAEEEEAAAQQQ8L6Av2bZJEmSZMqUKXv27A0bNqxevfrSpUtld/78+aZNm2bNmjVZsmRFixadMWOGBfrgwYOhQ4fmy5dPB+bIkeODDz4wu44fP96kSZPUqVOnTZu2QYMGR44csQ7RjKxOkSVLFnX11ltvrVq1avfu3UOGDDENNEfbtWtXnSt58uTlypVbuXKlqT969Gj9+vXTpEmjeqXhhQsXmvpff/21Xr16KVOmTJEiRaVKlQ4dOmTq+UYAAQQQQAABBBBwWcBfs6x1wcqX69atS5w4sWq00qB06dI//PCDKv/973+3aNHil19+MS179uw5ePDg999/f8+ePV9//XXGjBlVf/fu3Vq1ailc/vzzz2vXrg0PD9d07507d6zO7YUCBQrUqVNn7ty5prJDhw7r16+fOXPmzp07NWurAw8cOKBd7du3V8xdvXr1rl27FHzVpyr//PNPrVJQjP7pp5+2bNny2muv3bt3z965yjrqiu3jsJdNBBBAAAEEEEAAgYgCoRGr/KLm+++/V0xUIlQETJAgwZgxYzRszZJqrtSMXzOpP/744zfffFO2bFktDPjkk0/UpmXLltqbN2/eJ598UoVZs2ZpvvaLL77Q0lhtTpo0SRO0mmGtWbOm6cThW3F2yZIlqtTCAzXWt2ZttamTLl68WDUffvihKhs3bqypXNXnyZPH9PDpp5+mSpVKwVcLfFXz6KOPmnr7t9Yw9OvXz15DGQEEEEAAAQQQQMC5gL9m2WrVqo0bN+769etaL6vFAIqPus779+8rTSq/ah5U06uKuVpsoPq9e/eq/PTTTztY7Nix4+DBg5qXteo1s+vkt/8PHz40qVdzrjqXPZKq/3Tp0qmfjh07tm3bVpFXKx80qmLFiqly+/btWldggqx1LoeCZo7feecdU6n5WS2fcGjAJgIIIIAAAggggICDgL9mWa1G1eJXXczEiROLFy/+5Zdfvv7668OGDdP8q144oGlRNejcubNZMBAWFuZw2Wbz2rVrWpMwffp0+9706dPbN+1lZWK9NkE1OjBhwoRaLaBvq4FZTvDGG29o3YLWOSjOaqr1o48+0gxxVAOwjlVBKxD0sddQRgABBBBAAAEEEHAu4PfrZbXAoFevXu+9997Nmze15lXPbzVv3lzpVr/f379/v7n4/PnzK00uX77cwaJUqVJa5JohQwbFYuujxQAOzczmb7/9poUEZgK4ZMmSmpc9c+aMdZQKelDMtNSU6ptvvqmVtV26dJkwYYIqNTurJblanhtpz1QigAACCCCAAAIIuCbg91lWl61HrzQ/qjWpyqx6oYEeBdMEaps2bU6fPm1QkiZN2r17d72GdurUqVpCsGHDBs3jalezZs307ljFXwXNw4cPa6WsVgj88ccf5igtxj116tSJEye0omD06NFVqlQpUaLEu+++q71aXaBjX3nlFQVWHagnzDQFq7lY7dJksNbpqnLr1q16mVfBggVVqQfFtGzgpZde2rx5s9LztGnT9u3bZ87CNwIIIIAAAggggIDLAv66xsB+wVovq7CoV25t27ZNb5zVr/i1TFbvMdDrui5fvmxa6g0Gata7d29l08yZM2veVPVqphcOKOY2atRIz4fp0TGtqdVrs8wheouWWiola6a2UKFCWs+qhbDWMgA96TVw4EDNvGptrgLxE088oVdu6UDN1+pVBgrE6kcvN9ByXlVqKa3eYKAcrECsDpWJK1asaM7CNwIIIIAAAggggIDLAiF6nsnlgznQQwKaxFWAzrO+TcLw/71rzL8++4uM8q8BM1oEEEAAAQQQ8FkBE4o0O2nNNjoMNRDWGDhcEpsIIIAAAggggAACQSJAlg2SG81lIoAAAggggAACAShAlg3Am8olIYAAAggggAACQSJAlg2SG81lIoAAAggggAACAShAlg3Am8olIYAAAggggAACQSJAlg2SG81lIoAAAggggAACAShAlg3Am8olIYAAAggggAACQSJAlg2SG81lIoAAAggggAACAShAlg3Am8olIYAAAggggAACQSJAlg2SG81lIoAAAggggAACASgQGoDXFCiXtK3Q0Kj+XFugXCLXgQACCCCAAAIIxEmAedk48XEwAggggAACCCCAQDwKkGXjEZ9TI4AAAggggAACCMRJgCwbJz4ORgABBBBAAAEEEIhHAbJsPOJzagQQQAABBBBAAIE4CZBl48THwQgggAACCCCAAALxKECWjUd8To0AAggggAACCCAQJwGybJz4OBgBBBBAAAEEEEAgHgV4v2w84kdz6jTj74SE3YmmURDsvtchcRBcJZeIAAIIIIAAAq4IMC/rihrHIIAAAggggAACCPiCAFnWF+4CY0AAAQQQQAABBBBwRYAs64oaxyCAAAIIIIAAAgj4ggBZ1hfuAmNAAAEEEEAAAQQQcEWALOuKGscggAACCCCAAAII+IIAWdYX7gJjQAABBBBAAAEEEHBFgCzrihrHIIAAAggggAACCPiCAFnWF+4CY0AAAQQQQAABBBBwRYAs64oaxyCAAAIIIIAAAgj4ggBZ1hfuAmNAAAEEEEAAAQQQcEWALOuKGscggAACCCCAAAII+IIAWdYX7gJjQAABBBBAAAEEEHBFwI+z7MqVK0NCQi5duuTKdXvrGI1w3rx53job50EAAQQQQAABBIJLIB6ybKtWrZTwzCddunS1a9feuXOnC+oVKlQ4efJkqlSpXDg2tofkypVr5MiR9qP69u1bokQJe02kZY2wTp062nXkyBFd8vbt2yNtRiUCCCCAAAIIIICACwLxkGU1SuVXhTx9li9fHhoaWq9ePReGnjhx4kyZMikgunCs1w7RCJMkSeK103EiBBBAAAEEEEAgqATiJ8sq3ink6aOpzR49ehw/fvzs2bMOawY0hamcqulM3Y+jR4/Wr18/TZo0yZMnL1y48MKFC1Vpbz958uTUqVP/+OOPBQsWDA8PN1nZupFffPGF6pMmTVqgQIGxY8ea+jt37nTo0CFz5syqz5kz56BBg1T/8OFDTbjmyJFDI8ySJUvHjh2tTpwUqlatqpbdunVLmzatLko9WI11CWaNQe7cuVVZsmRJ1ai91cAq3L59+4rtY9VTQAABBBBAAAEEEIhKIDSqHd6pv3bt2ldffZUvXz4tNnByxvbt2yt6rl69Wll2z549SqsRG9+4cWP48OHTpk1LkCBB8+bNu3btOn36dDXTd+/evceMGaMcuW3bttatW6uTli1bjho1asGCBd98842Sq8K0Pmr87bffjhgxYubMmUrMp06d2rFjR8QTRVozZcqUd955Z+PGjevXr9ciiooVK9aoUcPe8pdffilbtuyyZcvUs2aU7btMWWG6X79+EeupQQABBBBAAAEEEIhKIH6y7Pfff2/y6PXr1zUzqk0F0KiGqPpjx441bty4aNGiKufJkyfSlnfv3v3ss8/y5s2rvZpw7d+/v2nWp0+fjz76qFGjRtrU5Kii8Pjx45Vl1Wf+/PmffPJJTZRqXtY0VqUmVqtXr54oUSJlXKVPUx/td7FixXQiNVOfys1aO+GQZdOnT6+9iuzqP9LeevbsqTRsdml+Nnv27JE2oxIBBBBAAAEEEEDAEnCWIK1Gbi9Uq1ZNSwj00WxlrVq19HSUVhE4OYt+gz9w4EBNdiovRvWgWLJkyUyQVT/Kx2fOnFFBWfnQoUOvv/66orP5qB/VaJdmTzWAxx57TJ0vWbLEnP2FF164efOm4rKmb//73//eu3fP1Ef7rSxrtbHObtXEpKBVDSltn5gcQhsEEEAAAQQQQCDIBeIny+q3/FpXoM/jjz+uxaxKnBMmTDBTs1qxam6J5lmte/PGG2/8/vvvLVq02LVrV5kyZUaPHm3tsgqaSbXKmmo1/WgNgyrV+V/J+X9fu3fv3rBhgypLlSp1+PDhAQMGKLw2adLk+eefV6VmQ/ft26c1tWFhYe3atatcubIZhkLm5cuXrf5V0LvA7K9QcDj7gwcP7I0pI4AAAggggAACCHhCIH6yrP1KlDuVYhUozW/h9XIDs1e5095MKfPNN9+cO3duly5dlE3tu5yUM2bMqEe4lINNdDbf5jEsHaWE+uKLL6q3WbNmaaXshQsXVKkUq+fMtJpWz5Zp8avSsyo1fbtlyxb7ibZu3froo4/aa5yXzRrZ+/fvO2/GXgQQQAABBBBAAIGYC8TPelk9s68nqzTKixcvanWpZk8VHxU0FVj1EoAPPvhg//79WuRqXUbnzp21DkHZUe1XrFihlxJYu6It6IEqrSLQHKpebqDzbt68WZ1oZerHH3+sxQB6IExJevbs2VrGqjch6H0IipvlypXTigU9lKZca5bSvv3225UqVdLAtO5WDWbMmKGYa70SIdoxqEGGDBnU2+LFi7Nly6Y3J9jndGNyOG0QQAABBBBAAAEEIgrEz7ysIp1ypD5KjZs2bVKU1Guq9Gt6ZcTffvtNa0+HDBmiha3WcBUf9SoDRVjlUSXaWIVIrU/QMoZJkybp0bEqVaoorZp52RQpUgwdOlQrFrTOQW/+0nu+FGoVZzVNq4W5GoPeOfDdd9+ZFyzo7zIs+uujXRrqunXr9HRXkSJFrBFGW9BrdDXXq8fONE/coEGDaNvTAAEEEEAAAQQQQCBagf9bVxptOxp4U0DvMdDEbYKhZ0PCUnrzvL55rnsdInmFmW8OlVEhgAACCCCAgHsFTCjSY0taGhppz/EzLxvpUKhEAAEEEEAAAQQQQCBWAmTZWHHRGAEEEEAAAQQQQMCHBMiyPnQzGAoCCCCAAAIIIIBArATIsrHiojECCCCAAAIIIICADwmQZX3oZjAUBBBAAAEEEEAAgVgJkGVjxUVjBBBAAAEEEEAAAR8SIMv60M1gKAgggAACCCCAAAKxEiDLxoqLxggggAACCCCAAAI+JECW9aGbwVAQQAABBBBAAAEEYiVAlo0VF40RQAABBBBAAAEEfEgg1IfGwlD+KXCxTeKUKfnzrf9EYQsBBBBAAAEEELAJMC9rw6CIAAIIIIAAAggg4FcCZFm/ul0MFgEEEEAAAQQQQMAmQJa1YVBEAAEEEEAAAQQQ8CsBsqxf3S4GiwACCCCAAAIIIGATIMvaMCgigAACCCCAAAII+JUAWdavbheDRQABBBBAAAEEELAJkGVtGBQRQAABBBBAAAEE/EqA98v67u1aOmt68rAw3x1fII6sdvNWgXhZXBMCCCCAAAIBK8C8bMDeWi4MAQQQQAABBBAIeAGybMDfYi4QAQQQQAABBBAIWAGybMDeWi4MAQQQQAABBBAIeAGybMDfYi4QAQQQQAABBBAIWAGybMDeWi4MAQQQQAABBBAIeAGybMDfYi4QAQQQQAABBBAIWAGybMDeWi4MAQQQQAABBBAIeAGybMDfYi4QAQQQQAABBBAIWAGybMDeWi4MAQQQQAABBBAIeAGybMDfYi4QAQQQQAABBBAIWAGybMDeWi4MAQQQQAABBBAIeIHgzbIhISHz5s1zfoNz5co1cuRIJ22ibeDkWHYhgAACCCCAAAIIxFEgNI7H+/LhrVq1mjJlikYYGhqaNm3aYsWKNW3aVJUJEvwvwZ88eTJNmjTOx79p06bkyZM7aRNtAyfHsgsBBBBAAAEEEEAgjgIBPi9bu3ZtZdYjR44sWrSoWrVqnTp1qlev3r1796SWKVOmJEmSOOdLnz59smTJnLSJtoGTY9mFAAIIIIAAAgggEEeBAM+ySqvKrFmzZi1VqlSvXr3mz5+vUDt58mSpWWsMKlSo0L17d8vx7NmziRIlWr16tWqsJQQPHz7s27dvjhw51GGWLFk6duxo2lsNtHns2LEGDRqEh4enTJmySZMmp0+fNm10YIkSJaZNm6bGqVKleumll65evWp28Y0AAggggAACCCAQF4EAz7IONE899VTx4sXnzp1rr2/WrNnMmTOVVk3lrFmzlFYrVapkb/Ptt9+OGDFi/PjxBw4c0CrbokWL2veq/ODBAwXZCxcurFq1aunSpb///vuLL75otTl06JCO+v6vjxoMHjzY2mUVbt++fcX2seopIIAAAggggAACCEQlEFxZVgoFChTQkgM7h+ZQT5w4sWbNGlP59ddfa1mtZm3tbTTnqvnd6tWra2q2bNmyrVu3tu9Vefny5bt27dKxpUuXLleu3NSpU5VZtZrWNFPS1WRwkSJFFJFbtGihxg6Ha3PQoEGatTWf7NmzR2xADQIIIIAAAggggICDQNBlWc2/OuRUrXmtWbPm9OnTRXP48OH169drptaB6YUXXrh582aePHmUYv/73/+aFbf2Nnv37lUAtTJooUKFUqdOrUrTRqsLUqRIYcqZM2c+c+aM/VhT7tmz5+W/P8ePH4/YgBoEEEAAAQQQQAABB4Ggy7LKl7lz53ZQUHidM2fO3bt3NbGq9QMRlxAopO7bt2/s2LFhYWHt2rWrXLmyGjt04mRTC3CtvUrSmqa1Nq2CVuJqoa31seopIIAAAggggAACCEQlEFxZ9qefftJKgMaNGztwaKnrrVu3Fi9erCwbcVLWNFaKrV+//qhRo1auXKm5W/Vj76RgwYKaTLXmU/fs2XPp0iXNztrbUEYAAQQQQAABBBBwr0Agv19WUnqg6tSpU/fv39dbBRRVtSZV7+R65ZVXHBD1EtmGDRu+//77mrXVYlmHvdrUald1ooWwekXXV199pVybM2dOezMtpdVsrnKw/raCViBo7rZKlSplypSxt6GMAAIIIIAAAggg4F6BAJ+XVX7V+lQtV9WLZlesWKFZVb2WK2HChBERFUN37NihZ7P0dFfEvVr8OmHChIoVK+oPLixbtuy7775Lly6dvZlWDqhn/fEFLT9QrtXKWr0Pwd6AMgIIIIAAAggggIDbBUKsd1G5vWs6dFlA7+bSCw3mfD42eViYy51woAsCtZu3cuEoDkEAAQQQQAABDwmYUKTH4/VMUaSnCPB52UivmUoEEEAAAQQQQACBwBAgywbGfeQqEEAAAQQQQACBYBQgywbjXeeaEUAAAQQQQACBwBAgywbGfeQqEEAAAQQQQACBYBQgywbjXeeaEUAAAQQQQACBwBAgywbGfeQqEEAAAQQQQACBYBQgywbjXeeaEUAAAQQQQACBwBAgywbGfeQqEEAAAQQQQACBYBQgywbjXeeaEUAAAQQQQACBwBAgywbGfeQqEEAAAQQQQACBYBQIDcaL9pNrrvFis6j+XJufXAHDRAABBBBAAAEEPCvAvKxnfekdAQQQQAABBBBAwHMCZFnP2dIzAggggAACCCCAgGcFyLKe9aV3BBBAAAEEEEAAAc8JkGU9Z0vPCCCAAAIIIIAAAp4VIMt61pfeEUAAAQQQQAABBDwnQJb1nC09I4AAAggggAACCHhWgCzrWV96RwABBBBAAAEEEPCcAFnWc7b0jAACCCCAAAIIIOBZAf5Wgmd949L7Z/9pE5YkcVx64FhfEHhr+BRfGAZjQAABBBBAICAFmJcNyNvKRSGAAAIIIIAAAkEhQJYNitvMRSKAAAIIIIAAAgEpQJYNyNvKRSGAAAIIIIAAAkEhQJYNitvMRSKAAAIIIIAAAgEpQJYNyNvKRSGAAAIIIIAAAkEhQJYNitvMRSKAAAIIIIAAAgEpQJYNyNvKRSGAAAIIIIAAAkEhQJYNitvMRSKAAAIIIIAAAgEpQJYNyNvKRSGAAAIIIIAAAkEhQJYNitvMRSKAAAIIIIAAAgEpQJYNyNvKRSGAAAIIIIAAAkEhQJYNitvMRSKAAAIIIIAAAgEp4CtZ9tSpU2+99VaePHmSJEmSPXv2+vXrL1++PF7EQ0JC5s2b5/zUbdq0SZgw4ezZs503Yy8CCCCAAAIIIICARwV8IsseOXKkdOnSP/3007Bhw3bt2rV48eJq1aq1b98+5lf+8OHDe/fu2dvfuXPHvunG8o0bN2bOnNmtW7eJEye6sVu6QgABBBBAAAEEEIitgE9k2Xbt2mk29JdffmncuPGjjz5auHDhd955Z8OGDboYxVzt2r59u7mwS5cuaXPlypXa1LfKixYtUg7WbO6aNWuqVq3aoUOHzp07P/LII7Vq1VKb3bt316lTJzw8PGPGjC1atDh37pzpRy07duyoPJo2bdpMmTL17dvX1OfKlUuF5557Tj2bsqm3f2s6tlChQj169Fi9evXx48etXQrT6jN16tTp0qXr3r17y5YtGzZsaPY+ePBg0KBBuXPnDgsLK168+Jw5c6yjKCCAAAIIIIAAAgi4LBD/WfbChQuaiNUsbPLkye2XoVBo34yqrEw5ePDgvXv3FitWTG2mTJmSOHHitWvXfvbZZwq+Tz31VMmSJTdv3qxTnD59ukmTJlY/aqkzbty4cejQof3791+6dKl2bdq0Sd+TJk06efKkKVvtrcKXX37ZvHnzVKlSKSVPnjzZqh8yZMj06dN1rM5+5coV+0IFBdmpU6dqSL/++uvbb7+tw1etWmUdaAq3b9/WUdbHYS+bCCCAAAIIIIAAAhEFQiNWebnm4MGDWiFQoEAB186rGFqjRg3r2Pz58yubms2BAwcqyH744YdmU0sCtBJ3//79mvpVjbJvnz59VNAhY8aM0fJc9ZM+fXrVKEZrstYc5fB94MABTRjPnTtX9Yqkmj9+7733NImrzdGjR/fs2VNzuiqrw4ULF5pjFVI1hmXLlpUvX141WhOsKeTx48dXqVLFNDDfyrv9+vWz11BGAAEEEEAAAQQQcC4Q//OyCrLOh+h8b5kyZewNtN7A2tyxY8eKFSu0wMB8TFw+dOiQaWDmcU05c+bMZ86csQ50UlAg1uoFrWFQm7p1616+fFnLfFVWQfO+ZcuWNcfqyTBrJArrWmKroPz3QMI1R2sNwzqXcrA6MR/70gWrAQUEEEAAAQQQQAABB4H4n5fVtKjmNX/77TeHkZnNBAn+l7atvHv37l2HZg4rE+yb165d0/sQ9Kt/+yGKrWYzUaJEVr0GoCWt1mZUhfv372tlgl65EBr6f26qUbp9+umnozpE9RqGvn/44YesWbNazbTA1yqbgmoiVjq0YRMBBBBAAAEEEEDALhD/WVZPX2mm89NPP9WDU/YkqtWu+l2/+aW/Vq9qtYDGbT0EZr+GqMqlSpX69ttv9QiXFT2jammvV8ZVQrXXWGUtG7h69eq2bds07Woq9WzZq6++aoaqx8u0xLZy5crapR62bt1aokQJlfWgmELqsWPHHBYVWN1SQAABBBBAAAEEEHBNIP7XGGjcCrIKf/oFvaKnFqTqQa5Ro0aZ1aV68P+JJ54wT3fpeSktTo35dep5Mj1Y1rRpU0VM/U7/xx9/VO6MKqda3Sr7au2sJl8vXrxoVZqCnvp65pln9CKCIn9/9DCZArce+VIDvR9Xa17nz5+/b9++Tp066XCzjjZFihRdu3bVI1+a09UwlHG1slZlh87ZRAABBBBAAAEEEIitgE9kWT0OpYSnd8p26dJFKVFLS5Umx40bZy5Gv8TX6660/FQv29LjXDG/wixZsuiVAgqvNWvWLFq0qA5X7jSLFpx08tFHH+mdBnpKzMwEWy21HFbrBPTWMKtGBfWmh72UcVXWe7iUm1955RWlcC2N1WRz0qRJTeMBAwa8//77SroFCxasXbu2+tH7uez9UEYAAQQQQAABBBBwQSDEWorqwsEcEpWAVt8qtmrWVik2qjZO6vVmLr3za0iHl8KSJHbSjF1+IfDWcObg/eJGMUgEEEAAAV8UMKFID8enTJky0vHF/3rZSIflj5VHjx5dsmSJFsXqJVx6J9fhw4dffvllf7wQxowAAggggAACCPiLgE+sMfAXLOfj1HoD/emExx9/vGLFivpLvHqhrKZmnR/CXgQQQAABBBBAAIG4CDAvGxe9fxyrJbZanvuPKjYQQAABBBBAAAEEPCnAvKwndekbAQQQQAABBBBAwJMCZFlP6tI3AggggAACCCCAgCcFyLKe1KVvBBBAAAEEEEAAAU8KkGU9qUvfCCCAAAIIIIAAAp4UIMt6Upe+EUAAAQQQQAABBDwpQJb1pC59I4AAAggggAACCHhSgCzrSV36RgABBBBAAAEEEPCkAH/D1pO6rvYd7Z9rc7VjjkMAAQQQQAABBPxJINpQxLysP91OxooAAggggAACCCBgFyDL2jUoI4AAAggggAACCPiTAFnWn+4WY0UAAQQQQAABBBCwC5Bl7RqUEUAAAQQQQAABBPxJgCzrT3eLsSKAAAIIIIAAAgjYBciydg3KCCCAAAIIIIAAAv4kQJb1p7vFWBFAAAEEEEAAAQTsAmRZuwZlBBBAAAEEEEAAAX8SCPWnwQbZWA/tGh4enjTILjqILjd/8V5BdLVcKgIIIIAAAp4RYF7WM670igACCCCAAAIIIOB5AbKs5405AwIIIIAAAggggIBnBMiynnGlVwQQQAABBBBAAAHPC5BlPW/MGRBAAAEEEEAAAQQ8I0CW9YwrvSKAAAIIIIAAAgh4XoAs63ljzoAAAggggAACCCDgGQGyrGdc6RUBBBBAAAEEEEDA8wJkWc8bcwYEEEAAAQQQQAABzwiQZT3jSq8IIIAAAggggAACnhcgy3remDMggAACMTuNEwAALU9JREFUCCCAAAIIeEaALOsZV3pFAAEEEEAAAQQQ8LxAIGfZqlWrdu7c2fOGkZxh8uTJqVOnjmQHVQgggAACCCCAAALuE4jnLHvq1KlOnTrly5cvadKkGTNmrFix4rhx427cuOG+C3SlpytXrvznP/8pUKCARpUpU6bq1avPnTv34cOHrvTFMQgggAACCCCAAAIeEwj1WM/Rd/z7778rvGr+8sMPPyxatGiSJEl27dr1+eefZ82a9dlnn43+eHe3uH//fkhIiILsk08+efny5YEDBz7++OOhoaGrVq3q1q3bU089xVSru8npDwEEEEAAAQQQiJNAfM7LtmvXTklx8+bNTZo0KViwYJ48eRo0aPDDDz/Ur19f13Tp0qU33ngjffr0KVOmVI7csWOHudC+ffuWKFFi2rRpuXLlSpUq1UsvvXT16lWz6/r166+88kp4eHjmzJk/+ugjO8zt27e7du2qlJw8efJy5cqtXLnS7DWLARYsWFCoUCGF6WPHjvXq1evIkSMbN25s2bKlKh999NHWrVtv375d3eqQixcv6hRp0qRJlixZnTp1Dhw4YJ1FXeXIkUP1zz333Pnz5616FebPn1+qVCnN8uoa+/Xrd+/ePfteyggggAACCCCAAAKuCcRbllXaW7JkSfv27RUuHYauyVHVvPDCC2fOnFm0aNGWLVsUBJ9++ukLFy6YlocOHZo3b973f300aTp48GBT/+6772pTwVE9K61u3brV6rlDhw7r16+fOXPmzp071XPt2rWtGKolDUOGDPniiy9+/fXXDBkyqE2zZs2yZMliHauCgqxitwqtWrVS+Fb2VW9adVC3bt27d++qXtn39ddf11mUeqtVq6Y5Xevwn3/+WfFXSyn27Nkzfvx4Rd4PPvjA2msVlLY1JWx9rHoKCCCAAAIIIIAAAlEJxFuWPXjwoLLgY489Zo3skUceUWTUp3v37mvWrPnll19mz55dpkyZ/PnzDx8+XL/fnzNnjmn84MEDJcIiRYpUqlSpRYsWy5cvV/21a9e+/PJLtVTq1YqFKVOmWNOfmm2dNGmSelP7vHnzaoJWqwhUY3pTGB07dmyFChU0GHWimVetlLVGZS8o/irFKvWqn+LFi0+fPv3PP/9UqlabTz75RPlYSxE0j9uxY8datWpZB2oitkePHprl1aRsjRo1BgwYoERr7bUKgwYN0jSz+WTPnt2qp4AAAggggAACCCAQlUB8rpd1GJPCq0Kq5kQ1Q6kVBYqV6dKls9rcvHlT07FmU6sLUqRIYcpaTqDpW5W1986dO1o/YOrTpk1rBWUtw9VaWKVMs0vfOoXVeeLEiYsVK2Z2OX/Aa+/evZqdtU6hHnQKVepYfWtpgdV/+fLlFy9ebDZ1LWvXrrXmYjWSW7duaTJYqxGs9ir07NnznXfeMTWanSXO2nEoI4AAAggggAACkQrEW5bVuwu0lmDfvn3WsDRtqXJYWJi+FWQVUq1VraaN9ehVokSJrKPUiRKwtRlpQb0lTJhQaxX0bTXQBLAp64xmVYM2tTxXZ/ntt9+sZnEv6Oyamm3UqJG9K62dtW+qrNW6+jhUsokAAggggAACCCDgRCDe1hhoUlO/cB8zZowe2Io4Pi2Q1eu6NAmqyGt9tAghYkurRosHlHG1btXUaKnA/v37TblkyZKaDdX0rdWVCnrZlnWsVUiQIIEeJtPigRMnTliVKiiPasWCHlDTt3UKLflVFtfzYWqgXVa9Njds2GAdrmtRM/upVdaJrAYUEEAAAQQQQAABBFwTiM9EpVWqioZaETtr1iz9jl6B76uvvtKcqGZP9UpX/Zq+YcOGeopLbxVYt26dXviqh66cXKTmWfX0lR7/+umnn3bv3q2HtKy8qNUFWrqgB7D0mtjDhw9rMYMWp+qFCZH2psUA+v2+FhJMnTpVT2tpjezEiROVhhVntXJXb1rQaw20nFcrB5o3b64XI6hG/WiNrBYVaLWu2iugWwsMtKt3797qSlOzerZMl6lny957771IT00lAggggAACCCCAQKwE4jPLaiZ127Ztiq1aKqpHqRRqR48erQez9HSUfum/cOHCypUrv/rqq0qimis9evSo/piC82sbNmyYnsrSK73Up57uKl26tNVeT3opy3bp0kUrXBWRN23apPdnWXvtBS201ayqcqreRaAIqw5nzJihnvVUlpqpH3Vbr149RW0trtUgzYKHJ554YsKECXoCTBei/G1Pq3oOTG9cUKXeVqtmI0aMyJkzp/2MlBFAAAEEEEAAAQRcEwhx/rSTa51yVBwF9OyXovPWNe+Hhzsuq41jzxzuOwL5i/fyncEwEgQQQAABBHxTwIQi/REr/cGBSEcYn/OykQ6ISgQQQAABBBBAAAEEYihAlo0hFM0QQAABBBBAAAEEfE6ALOtzt4QBIYAAAggggAACCMRQgCwbQyiaIYAAAggggAACCPicAFnW524JA0IAAQQQQAABBBCIoQBZNoZQNEMAAQQQQAABBBDwOQGyrM/dEgaEAAIIIIAAAgggEEMBsmwMoWiGAAIIIIAAAggg4HMCZFmfuyUMCAEEEEAAAQQQQCCGAmTZGELRDAEEEEAAAQQQQMDnBEJ9bkQM6G+BvEW7RvXn2v5uwv9FAAEEEEAAAQSCWoB52aC+/Vw8AggggAACCCDg1wJkWb++fQweAQQQQAABBBAIagGybFDffi4eAQQQQAABBBDwawGyrF/fPgaPAAIIIIAAAggEtQBZNqhvPxePAAIIIIAAAgj4tQBZ1q9vH4NHAAEEEEAAAQSCWoAsG9S3n4tHAAEEEEAAAQT8WoAs69e3j8EjgAACCCCAAAJBLcDfSvDd27/k8ifJHib13fExMgR8WKBuqnd9eHQMDQEEEEDAbQLMy7qNko4QQAABBBBAAAEEvCxAlvUyOKdDAAEEEEAAAQQQcJsAWdZtlHSEAAIIIIAAAggg4GUBsqyXwTkdAggggAACCCCAgNsEyLJuo6QjBBBAAAEEEEAAAS8LkGW9DM7pEEAAAQQQQAABBNwmQJZ1GyUdIYAAAggggAACCHhZgCzrZXBOhwACCCCAAAIIIOA2AbKs2yjpCAEEEEAAAQQQQMDLAmRZL4NzOgQQQAABBBBAAAG3CZBl3UZJRwgggAACCCCAAAJeFiDLehmc0yGAAAIIIIAAAgi4TYAs60h59uzZtm3b5siRI0mSJJkyZapVq9batWvVKCQkZN68eY6tI9vOlSvXyJEjI9tDHQIIIIAAAggggIA7BULd2VlA9NW4ceM7d+5MmTIlT548p0+fXr58+fnz5wPiyrgIBBBAAAEEEEAg0ASYl/3HHb106dLPP/88ZMiQatWq5cyZs2zZsj179nz22Wc11ap2zz33nGZnTfnQoUMNGjTImDFjeHj4448/vmzZMtNR1apVjx49+vbbb6ulPqZyzZo1lSpVCgsLy549e8eOHa9fv27q+UYAAQQQQAABBBCIiwBZ9h96Cqb6aC3B7du37Ts2bdqkzUmTJp08edKUr127VrduXc3abtu2rXbt2vXr1z927JjazJ07N1u2bP3791dLfVSj1KsGmu7duXPnrFmzlGs7dOhg79yUdcYrtk/EBtQggAACCCCAAAIIOAiQZf8BEhoaOnnyZC0wSJ06dcWKFXv16qUAqhbp06fXtyq1gtaUixcv3qZNmyJFiuTPn3/AgAF58+ZdsGCB2qRNmzZhwoQpUqRQS31UM2jQoGbNmnXu3FktK1SoMGrUqKlTp966dUu77B81S/X3R9O39l2UEUAAAQQQQAABBCIVIMs6smgC9cSJEwqmmkxduXJlqVKllG4dG/3rX5qX7dq1a8GCBRVwNZW7d+9eMy8bseWOHTvUw18Tvv/70sNkDx48OHz4sENLLWa4/Pfn+PHjDnvZRAABBBBAAAEEEIgowLNfEU3+lTRp0hp/fd5///033nijT58+rVq1cminILt06dLhw4fny5dPC2Gff/55PTHm0MZsKvVqBlfLZO179Z4E+6bKem2CPg6VbCKAAAIIIIAAAgg4ESDLOsH5365ChQqZV3ElSpTo/v37Vmu9qEsBV0+DqUZp9ciRI9auxIkT21tqZnfPnj2KvFYDCggggAACCCCAAAJuEWCNwT8Y9fqtp5566quvvtIyWS0DmD179tChQ/W+AjXS6wv0pNepU6cuXryoTS1+1WNe27dv1xKCl19+WcsGrI7UcvXq1X/++ee5c+dU2b1793Xr1ul5LzU+cODA/PnzI332yzqcAgIIIIAAAggggEAMBciy/4DSetZy5cqNGDGicuXKeq5Lawxat249ZswYNfroo4+0qEBPZZUsWVKbH3/8cZo0afQsl95goCWwmny1OtJLDDRNq6fBzFNixYoVW7Vq1f79+/VaLh3bu3fvLFmyWI0pIIAAAggggAACCLgsEPLw4UOXD+ZADwno3Vx6pcHsY/2TpUzqoVPQLQKBLVA31buBfYFcHQIIIBAkAiYU6fH4lClTRnrJzMtGykIlAggggAACCCCAgB8IkGX94CYxRAQQQAABBBBAAIFIBciykbJQiQACCCCAAAIIIOAHAmRZP7hJDBEBBBBAAAEEEEAgUgGybKQsVCKAAAIIIIAAAgj4gQBZ1g9uEkNEAAEEEEAAAQQQiFSALBspC5UIIIAAAggggAACfiBAlvWDm8QQEUAAAQQQQAABBCIVIMtGykIlAggggAACCCCAgB8IkGX94CYxRAQQQAABBBBAAIFIBUIjraXSFwRqpuoU1Z9r84XhMQYEEEAAAQQQQCDeBZiXjfdbwAAQQAABBBBAAAEEXBQgy7oIx2EIIIAAAggggAAC8S5Alo33W8AAEEAAAQQQQAABBFwUIMu6CMdhCCCAAAIIIIAAAvEuQJaN91vAABBAAAEEEEAAAQRcFCDLugjHYQgggAACCCCAAALxLkCWjfdbwAAQQAABBBBAAAEEXBQgy7oIx2EIIIAAAggggAAC8S7A30qI91sQ5QBK7umWMDxxlLvZgQACCCDgewL7i4zyvUExIgQCWYB52UC+u1wbAggggAACCCAQ2AJk2cC+v1wdAggggAACCCAQyAJk2UC+u1wbAggggAACCCAQ2AJk2cC+v1wdAggggAACCCAQyAJk2UC+u1wbAggggAACCCAQ2AJk2cC+v1wdAggggAACCCAQyAJk2UC+u1wbAggggAACCCAQ2AJk2cC+v1wdAggggAACCCAQyAJk2UC+u1wbAggggAACCCAQ2AJk2cC+v1wdAggggAACCCAQyAJk2UC+u1wbAggggAACCCAQ2AJk2cC+v1wdAggggAACCCAQyALRZ9lWrVqF/PVJlChRxowZa9SoMXHixAcPHnhBZeXKlTrzpUuXvHAunULnmjdvnjlX1apVzVU7fKveO4PhLAgggAACCCCAAALRCoRG20INateuPWnSpPv3758+fXrx4sWdOnWaM2fOggULQkNjdHhMThGxzd27dyNWeq1m7ty5d+7c0emOHz9etmzZZcuWFS5cWJuJEyf22hg4EQIIIIAAAggggIBzgejnZXV8kiRJMmXKlDVr1lKlSvXq1Wv+/PmLFi2aPHmydmnS9I033kifPn3KlCmfeuqpHTt2mPP17du3RIkS48ePz549e7JkyZo0aXL58mWza9OmTZrcfeSRR1KlSlWlSpWtW7eaen1rEnTcuHHPPvts8uTJW7duXa1aNVWmSZNG9ZoeVlnTom+99Vbnzp1VqUniCRMmXL9+/dVXX02RIkW+fPk0KrUxn927d9epUyc8PFzNWrRoce7cOVOvHjp27NitW7e0adPqojROU58rVy4VnnvuOZ1LZbNXDXRpqk+XLp3KL7/8cu/evU17fZ89e1bRdvny5SrrkAEDBjRt2lQjF9Snn35qNYuKyGpAAQEEEEAAAQQQQMA1gRhlWYeulVmLFy+umUvVv/DCC2fOnFGI3LJli5Lu008/feHCBdP+4MGD33zzzXfffaep3G3btrVr187UX716tWXLlmvWrNmwYUP+/Pnr1q2rGusUCpcKlLt27erXr9+3336r+n379p08efKTTz4xbaZMmaIc/MsvvyjUtm3bVgOoUKGCAnHNmjWVWW/cuKFmio8aZMmSJTdv3qyzazpZYdo6hXpQ4ty4cePQoUP79++/dOlS7VLC1remn3UuU7baWwWl9q+//vr27dum5quvvlJs1YnM5rBhw8SiK+3Ro4emrk232uWEyOpZBXV7xfax76KMAAIIIIAAAgggEKmAK1lWHRUoUODIkSPKo8qUs2fPLlOmjFLp8OHDU6dOreUH5ky3bt2aOnWqZmcrV648evTomTNnnjp1SrsU/po3b64eChYs+Pnnnyt9rlq1yhqc5j41z5onT56cOXNqclT1GTJk0JyoJnFNG+XF9957T6fr2bNn0qRJlWs1g6tNzZieP39+586dajZmzBgF2Q8//FBnUUELfFesWLF//37TQ7Fixfr06aNDXnnlFY3cTKya+VeN35qLNY3t340aNdKmpqVNpWamzWJis1mxYkWl2EcffVQh+/nnnx8xYoTqnROZA833oEGDdI3mo8ls+y7KCCCAAAIIIIAAApEKuJhlHz58qN/Fa0XBtWvX9Pt3/SrffA4fPnzo0CFzphw5cmja0pTLly+vx8U0w6pNzZKa9KncppUJ6uHYsWPW4BQurXKkBSVRU58wYUKdumjRomZTawlU0CSxvjUwhde/BxWuRKtKa2BWD6rMnDmzOUTlaD+Kzpr6VTJWS80EaxmDWflgDtQ1Wj2ovHfvXm06J7Laq6BormUY5qNFuvZdlBFAAAEEEEAAAQQiFXDx4S0Ftdy5cyuGKgvqbQP2rjW1ad+MWNYCA02gas2AZl61ElexzzxlZVrqt/8RD7HX6HUK1qbytLWpsurNCxY0sPr16w8ZMsRqqYKGajatQ7Spo2L1TgYtM9BM8x9//KHVCJpg1iXYTxGxHHMiUegTsQdqEEAAAQQQQAABBKIScCXL/vTTT1rP+vbbb2fLlk3LBvQ2Az35FPEEmm09ceJElixZtEtLYxMkSPDYY4+pvHbt2rFjx2qZrMqagLSeyorYg3lpgN6fEHGX8xqt3NVaW40qVm9aUMaN9lyaBtbMsZ4508JZrWSwD0PXaG2qrBUU2tRInBBZ7SkggAACCCCAAAIIuCAQozUGeixJgezPP//UL9a1CLVBgwb16tXTYtPq1atrVrVhw4ZLlizR8tl169b95z//0eNWZhz6jbymYPVL9p9//lmvDtDTV1qKql1aqDpt2jTN7Orpq2bNmoWFhUU1bs16at70+++/1xsDNMEZVbOI9e3bt9cjaHqrgJ7i0tKCH3/8UWtwo82pyr5aO6srvXjxYsQ+rRpNzQ4ePFirLPSMmlWpgjK6HibTqly9xEBriPX4lyqdE9kPp4wAAggggAACCCAQW4EYZVm9CkC/oFfU04tmtQ511KhRev5Jy1UVNBcuXKhHu5QU9czTSy+9dPToUbNuVePQS7L0sJTmX/WGAS1R1VysGdyXX36psKgJS609VcbVo11RDVrLbfU2Az1QpT47dOgQVbOI9ZoMVrJUeNWpNZOqd3hp5YMmhiO2tNd89NFHevmAnrvS42L2eoeyIrKme/WtsG7f1aVLF+V4HTtw4MCPP/64Vq1a2uucyH44ZQQQQAABBBBAAIHYCoRofjG2x8SkvV6tpb+htX379pg09q82moHOmzevZnwVx62RK+grMetj1cSloHdz6cG4POvbJAznTzPEBZJjEUAAAW8L7C8yytun5HwIBLSACUV6OF4vDIj0Ql1ZLxtpR8FQqT9FpqfW9EawJ554wh5kg+HauUYEEEAAAQQQQMAHBaL5tbsPjjgeh6R1C1proRnZzz77LB6HwakRQAABBBBAAAEEjICn1hjgGxcB1hjERY9jEUAAgXgUYI1BPOJz6oAUiHaNAfOyAXnfuSgEEEAAAQQQQCAoBMiyQXGbuUgEEEAAAQQQQCAgBciyAXlbuSgEEEAAAQQQQCAoBMiyQXGbuUgEEEAAAQQQQCAgBciyAXlbuSgEEEAAAQQQQCAoBMiyQXGbuUgEEEAAAQQQQCAgBciyAXlbuSgEEEAAAQQQQCAoBPi7X757m7cVGhrVn2vz3UEzMgQQQAABBBBAwIsCzMt6EZtTIYAAAggggAACCLhVgCzrVk46QwABBBBAAAEEEPCiAFnWi9icCgEEEEAAAQQQQMCtAmRZt3LSGQIIIIAAAggggIAXBciyXsTmVAgggAACCCCAAAJuFSDLupWTzhBAAAEEEEAAAQS8KECW9SI2p0IAAQQQQAABBBBwqwDvl3Urp1s7SzP+TkjYHbd2SWcIIIAAAggggEBcBe51SBzXLtx3PPOy7rOkJwQQQAABBBBAAAHvCpBlvevN2RBAAAEEEEAAAQTcJ0CWdZ8lPSGAAAIIIIAAAgh4V4As611vzoYAAggggAACCCDgPgGyrPss6QkBBBBAAAEEEEDAuwJkWe96czYEEEAAAQQQQAAB9wmQZd1nSU8IIIAAAggggAAC3hUgy3rXm7MhgAACCCCAAAIIuE+ALOs+S3pCAAEEEEAAAQQQ8K4AWda73pwNAQQQQAABBBBAwH0CZFn3WdITAggggAACCCCAgHcFyLLe9eZsCCCAAAIIIIAAAu4TIMu6btmqVauGDRtGevzKlStDQkIuXboU6V4qEUAAAQQQQAABBNwiEOqWXgK4E0XSSK+uT58+n3zyycOHD83eqlWrlihRYuTIkZE2phIBBBBAAAEEEEDAEwJk2WhUT548aVrMmjWrd+/e+/btM5vhf32iOZjdCCCAAAIIIIAAAp4UYI1BNLqZ/v6kSpVKc7R/b2VSlLXWGKiwatUqTdOqgT5Hjhxx6HTNmjWVKlUKCwvLnj17x44dr1+/7tCATQQQQAABBBBAAAEXBMiyLqA5HqIUW758+datW2sSVx8FVnuLQ4cO1a5du3Hjxjt37tTkrnJthw4d7A1M+fbt21dsn4gNqEEAAQQQQAABBBBwECDLOoC4sqkp28SJEydLlszM2iZMmNDey6BBg5o1a9a5c+f8+fNXqFBh1KhRU6dOvXXrlr2NymqmfszHIQ07tGQTAQQQQAABBBBAwAiQZT3+k7Bjx47Jkyeb9bX6rlWr1oMHDw4fPuxw4p49e17++3P8+HGHvWwigAACCCCAAAIIRBTg2a+IJm6uuXbtWps2bbRM1t5vjhw57JsqJ/nr41DJJgIIIIAAAggggIATAbKsE5xY7NIag/v370d6QKlSpfbs2ZMvX75I91KJAAIIIIAAAggg4LIAawxcpvvHgbly5dq4caPeYHDu3DktIbDv6969+7p16/S81/bt2w8cODB//vxIn/2yH0IZAQQQQAABBBBAICYCZNmYKEXfpmvXrnrkq1ChQunTpz927Jj9gGLFiumNXfv379druUqWLKmX1GbJksXegDICCCCAAAIIIICAawIh1l+ucu14jvKEgN7NpRcaJBh6NiQspSf6p08EEEAAAQQQQMBlgXsdErt8bGwPNKFIj8enTBl5KGJeNraktEcAAQQQQAABBBDwFQGyrK/cCcaBAAIIIIAAAgggEFsBsmxsxWiPAAIIIIAAAggg4CsCZFlfuROMAwEEEEAAAQQQQCC2AmTZ2IrRHgEEEEAAAQQQQMBXBMiyvnInGAcCCCCAAAIIIIBAbAXIsrEVoz0CCCCAAAIIIICArwiQZX3lTjAOBBBAAAEEEEAAgdgKkGVjK0Z7BBBAAAEEEEAAAV8RIMv6yp1gHAgggAACCCCAAAKxFQiN7QG095rAxTaJU6b03t+I89p1cSIEEEAAAQQQQMBdAszLukuSfhBAAAEEEEAAAQS8LUCW9bY450MAAQQQQAABBBBwlwBZ1l2S9IMAAggggAACCCDgbQGyrLfFOR8CCCCAAAIIIICAuwTIsu6SpB8EEEAAAQQQQAABbwuQZb0tzvkQQAABBBBAAAEE3CVAlnWXJP0ggAACCCCAAAIIeFuALOttcc6HAAIIIIAAAggg4C4Bsqy7JOkHAQQQQAABBBBAwNsCZFlvi3M+BBBAAAEEEEAAAXcJkGXdJUk/CCCAAAIIIIAAAt4WIMt6W5zzIYAAAggggAACCLhLgCzrLkn6QQABBBBAAAEEEPC2AFnW2+KcDwEEEEAAAQQQQMBdAmRZd0nSDwIIIIAAAggggIC3Bciy3hbnfAgggAACCCCAAALuEiDLukuSfhBAAAEEEEAAAQS8LUCW9bY450MAAQQQQAABBBBwlwBZ1l2S9IMAAggggAACCCDgbYFQb5+Q88VA4OHDh2p15cqVGLSlCQIIIIAAAgggELACJg6ZaBTpRZJlI2WJ58rz589rBNmzZ4/ncXB6BBBAAAEEEEDABwSuXr2aKlWqSAdClo2UJZ4r06ZNqxEcO3YsqtsWz+Pzk9Prv+T03wPHjx9PmTKlnwzZ54aJoVtuCYwwukUg7p3woxh3Q/UAY9wZY2WoGVkF2SxZskR1XrJsVDLxWZ8gwf/WMSvIEsLifhtkCGMcGTGMI6A5HEYY3SIQ9074UYy7oXqAMe6MMTd0PrXHs19xvxf0gAACCCCAAAIIIBA/AmTZ+HHnrAgggAACCCCAAAJxF0jYt2/fuPdCD24XSJgwYdWqVUNDWQQSJ1oY48T318EYxt1QPcAIo1sE4t4JP4pxN1QPMMad0Y2GIU7ecRD3gdIDAggggAACCCCAAAKeE2CNgeds6RkBBBBAAAEEEEDAswJkWc/60jsCCCCAAAIIIICA5wTIsp6zpWcEEEAAAQQQQAABzwqQZT3rS+8IIIAAAggggAACnhMgy3rONsqeP/3001y5ciVNmrRcuXK//PJLpO1mz55doEABtSlatOjChQutNnpWr3fv3pkzZw4LC6tevfqBAwesXUFViIthq1atQmyf2rVrBxWd/WKjZfz1118bN26sH1eBjRw50n6sytEe7tA+IDejRXBiqNfI2H4SQ/T/8gFJFJOLipZxwoQJlSpVSvPXR//02f/l5F9FSzgujPzDaBijNZw7d26ZMmVSp06dPHnyEiVKTJs2zfLnR9GiiAujKz+KoufjTYGZM2cmTpx44sSJ+l+41q1b6/8fTp8+7TCAtWvX6l0VQ4cO3bNnz3vvvZcoUaJdu3aZNoMHD9Zfv5g3b96OHTueffbZ3Llz37x50+HwgN+Mo2HLli2VX0/+/blw4ULAi0V6gTFhVGLo2rXrjBkzMmXKNGLECHs/MTnc3j4gyzFBcGLYp0+fwoUL//2TePLs2bMBqRTtRcWE8eWXX9b/Om7btm3v3r36nzr9M/jHH3+YnvlX0TjEkZF/GMUYE8MVK1Yozup/nQ8ePKj/wtf/WC9evJgfRSMQ8x9FJ4wu/Cj+y356yl4QKFu2bPv27c2J7t+/r78vPGjQIIfzNmnS5JlnnrEqNX3bpk0bbT548ECRYtiwYWbXpUuXkiRJopxhtQySQlwMRaT/P2nQoEGQWDm5zJgwWofnzJnTIcvG6nCrnwArxAohoqGybPHixQPMxIXLiRWj+r93716KFCmmTJmiMv8qWuBxYVQn/MMohNga6pCSJUtqykkFfhSFYD5xYVQPLvwossbAmhH3RuHOnTtbtmzRL8jMyRIkSKDy+vXrHc6tGquNdtWqVcu0OXz48KlTp6xdmplQzI14uENvAbYZR0OjsXLlygwZMjz22GNt27Y9f/58gBHF5HJiyBhVV3E8PKpu/aveLQhaJqT/oM2TJ0+zZs2OHTvmXwJuGa0LjDdu3Lh7927atGk1AP5VNHchjoymkyD/hzG2hkpdy5cv37dvX+XKlflRND9C+o4jo2s/imRZy98bhXPnzmkuNmPGjNbJVFY8tTZNQTWRtjEt/1979x6a4//HcTwZvs6njUJDOzhPNqc5jbSFCIUtmtNYKae2hGbCWNT8wURChoiFQotYDkXmvIYUDZGwHLKNzOn3e9Xn97u6u3ffc9n9te5r99Mf87k+1+lzP67Pfe19f+739ZnHVW5HqMeLPhpKRgkGBw8e1D1oy5YtV65cGT9+vC5KPRbz+NJsMnrcV5U+7u7tsM6q9x1Bn0Xz8vL0BeWuXbsUkykftKKiwlkIvre2FowrV67UBwDzqZ67orkEPjLqINwY7Rt++vSpRYsWShfUN6i5ubnx8fECpCv+aVf0yFi7rsifSDX4/AwggaSkJPNq9VxdVFRUWFiYRiPGjh0bQAS8VP8Q0Oco0xD1Q8W1SkLIz89PSUnxj9b5aSuUHaukRr1n9WisnzbRCc2qzsiN0f51U4pLcXFxZWWlxkTS0tL0vYr+5rz93dnSCHhjrEVXZFy2TjtVcHCw8sT1sJd1VpWVAmstmoJqPG5jtvS4yu0I9XjRR0M3Gd2DdECl8LvV1/tFm4zeHHzc3dthnVX/7yLoMdDIyEi6ovqAx7ui6Rs5OTkKws6fP6/o39RwVzQOf9QbqzOag1g/A/PGaN9Q+YHh4eGaxCA9PX3atGl66EV0dMU/7YoeGa1OaAo2uyKxrJvb313UVxIxMTH6JGdOo1RxlWNjY93OqhprG626cOGC2UazFujdYq0qLy+/ceNG9d3djlbPFn00dNPQo9DKl9UcZ2719X7RJqM3Bx9393ZYZ9X/uwga4yktLaUrersrqm9oapesrCylZGhGJKurcFc0FPZ7o0dGy9MUAvPGaN/QlUs9tqqqSjV0RcPiI6Orrcp2u+L/njrjv7oS0LdjmnxASXKa0SM1NVWDMUqy0cmTk5NXrVplWqE5uYKCgvTRWbPP6Elntzm5tMupU6dKSkr0MH7AzslVa0PlI2qSKT0wp/TEwsLC6OjoiIiIr1+/1tX196Pz2OmKukdrFiT9U4wlNxX0rJJ5Dd5296NX+Peb4g3B9e1cg6EGdfRdubqi3vLK/tSwUFlZ2d9vtd+dwQ6jhmP1O/L48ePWFGZ6L5tXolXcFUXhCyM3RtOX7BhmZ2frmwF98tQvcf2a1i9rTX5MVzQCvjPWrisyJ5erfx2VlSoeGhqq+7LmrSgqKjJnjYuL0zwUVguUNqcvHLWNpp8sKCiw6vURMDMzU49/KZhTiqeeoLRWBVSh1oZ6AjohISEkJESfEJSeqCl+zWeJgNKzXuxvGRVmuX1KVketeXdrbYAUfDFMTEzUhwS9zTt37qyyEgwCBK36y/wto96tbl1Rn/PNcbgrWp61ZuTGaN8wIyNDCQZK19Yf7tD3ogp/rX3pihbFb7uiN8badcUGOrHbDYJFBBBAAAEEEEAAAQQcIUC+rCMuE41EAAEEEEAAAQQQ8CBALOsBhSoEEEAAAQQQQAABRwgQyzriMtFIBBBAAAEEEEAAAQ8CxLIeUKhCAAEEEEAAAQQQcIQAsawjLhONRAABBBBAAAEEEPAgQCzrAYUqBBBAAAEEEEAAAUcIEMs64jLRSAQQQAABBBBAAAEPAsSyHlCoQgABBBBAAAEEEHCEALGsIy4TjUQAAQQQQAABBBDwIEAs6wGFKgQQQMAPBebOnTtlypQ6btjz588bNGhQXFxcx+fldAgggIBNAWJZm1BshgACCAScwLdv3wLuNfOCEUDAaQLEsk67YrQXAQQCXmD06NFLlixZvnx527ZtO3bsuGfPns+fP8+bN69ly5bh4eFnz541QpcvX9aQakFBQVRU1D///DN06NAHDx5YeCdOnOjTp0+TJk26deu2detWq16LWVlZs2fPbtWqVWpqavfu3bVqwIABOpTOq/KtW7fi4+ODg4Nbt24dFxd39+5da19ts3fv3qlTpzZr1iwiIuL06dPWqocPH06cOFHHVCNHjhxZWlpqVmn7Xr16qXk9e/bcuXOntT0FBBBAwKYAsaxNKDZDAAEE/EjgwIEDiiZv3rypoHbRokXTp08fNmyYwsqEhITk5OQvX75YbV2xYoVCVQWgISEhkyZN+v79u1bduXNnxowZSUlJ9+/fX7duXWZmZl5enrVLTk5O//797927p3qdQvWFhYWvX78+efKkyhUVFXPmzLl69WpRUZEC1gkTJqjG2nf9+vU6cklJiepnzZr14cMHrXr16tWoUaMUN1+8eFGnnj9//o8fP1R/+PDhtWvXbtq06dGjR9nZ2TqdXpd1KAoIIICALYH/8A8BBBBAwAkCiiAnT56slmo0dMSIEabJCgqbN2+u+NUsKuLUrf/69etavHTpkspHjx41q96/f9+0adNjx45pcebMmRpbNfX6qXi3d+/eZrFr167KyrVWPXv2TAdRXGvVuBZ+/vypcdYzZ86YSm25Zs0aU66srNSiBom1uHr1ao3vKmPBdV+Vw8LCjhw5YlVqPDg2NtZapIAAAgjYEWBcVjdb/iGAAAIOE1DagGlxw4YN27dv369fP7OolAMVysrKrNej6NCU27Vr16NHD42AalE/hw8fbm2j8pMnTxSYmpqBAwdaq6oX3r59u3DhQo3IKsdAOQOKWV+8eGFtZjVMEbbWmpbo0THlFTRq1MjaTAXlRSjTICUlpcX//23cuNHKPXDdkjICCCBQg0BQDetYhQACCCDgnwKucaGyVK1FldXgX79++dJshaE17K7hYQ3xbtu2TSO4ShtQrOz6iJjVEh1BjTEt0Xhw9QOagVsl+w4ZMsRaq9DcKlNAAAEE7AgQy9pRYhsEEEDAqQLKag0NDVXrP378+PjxYz1opbJ+Xrt2zXpJKkdGRnqMIxs3bqzNrCFblbWxHtJSOqzKL1++fPfunXUcbwUN1ioRVqm6rpGuhpA7der09OlTpdV625F6BBBA4LcCxLK/JWIDBBBAwMECGzZsUBKCAseMjAw9LmZmqE1PTx80aJDyUxMTE5Vcu2PHDm9zCHTo0EGjqufOnevSpYtmG1BegbILDh06pDyE8vJyJdp6HHN181q8eHFubq4eNVPirI6g8Hrw4MFKeNCDYkuXLlXNuHHjqqqqbt++rYA7LS3NbXcWEUAAgRoEyJetAYdVCCCAgOMFNm/evGzZspiYmDdv3ughLTPOGh0dnZ+fr8fC+vbtq5kEFO/qDzF4fKlBQUHbt2/fvXu3xlD15Jm22bdvnyJOHUEPnCkSVbDrcUfXSgXTmsFASQV6ak0tUV6BGaBdsGCB5uTav3+/8n21SnMpmCnAXPeljAACCNQs0EAPiNW8BWsRQAABBJwooPllx4wZo7izTZs2Tmw/bUYAAQTsCDAua0eJbRBAAAEEEEAAAQT8UYBY1h+vCm1CAAEEEEAAAQQQsCNAjoEdJbZBAAEEEEAAAQQQ8EcBxmX98arQJgQQQAABBBBAAAE7AsSydpTYBgEEEEAAAQQQQMAfBYhl/fGq0CYEEEAAAQQQQAABOwLEsnaU2AYBBBBAAAEEEEDAHwWIZf3xqtAmBBBAAAEEEEAAATsCxLJ2lNgGAQQQQAABBBBAwB8FiGX98arQJgQQQAABBBBAAAE7AsSydpTYBgEEEEAAAQQQQMAfBf4LpmYNEhz2IygAAAAASUVORK5CYII=)"
      ],
      "metadata": {
        "id": "K8xTns_E6YLi"
      }
    },
    {
      "cell_type": "markdown",
      "source": [
        "So, Title, Department Type and State (where the employee is located) influence model's decision the most. These are, thus, the most important factors of good or bad employee rating."
      ],
      "metadata": {
        "id": "ycq-3JTC6gpb"
      }
    },
    {
      "cell_type": "markdown",
      "source": [
        "\n",
        "To sum up, the best result we got was 57.3% accuracy. We consider this score adequate since employee's rating depends on many additional factors, not included into the dataset. Age, gender, race, etc. do not influence ratings much. The position that an employee takes is an important factor, but obviously rating cannot be predicted by the title and department alone. We consider ourselves to do a good job given the complexity of the task."
      ],
      "metadata": {
        "id": "pnYoMVXV6l7v"
      }
    },
    {
      "cell_type": "code",
      "source": [
        "df = pd.DataFrame({'Encoding': ['One-Hot Encoding', 'Label Encoding', 'Target Encoding'], 'Accuracy': [55, 55.3, 57.3]})\n",
        "ax = sns.barplot(data=df, x='Encoding', y='Accuracy', palette='terrain')\n",
        "ax.set_ylim(53, 58)"
      ],
      "metadata": {
        "colab": {
          "base_uri": "https://localhost:8080/",
          "height": 559
        },
        "id": "Y6Bvu7QO6qC9",
        "outputId": "3e2fe275-2263-4674-f708-552bbf9fd954"
      },
      "execution_count": 94,
      "outputs": [
        {
          "output_type": "stream",
          "name": "stderr",
          "text": [
            "<ipython-input-94-8486caf8f399>:2: FutureWarning: \n",
            "\n",
            "Passing `palette` without assigning `hue` is deprecated and will be removed in v0.14.0. Assign the `x` variable to `hue` and set `legend=False` for the same effect.\n",
            "\n",
            "  ax = sns.barplot(data=df, x='Encoding', y='Accuracy', palette='terrain')\n"
          ]
        },
        {
          "output_type": "execute_result",
          "data": {
            "text/plain": [
              "(53.0, 58.0)"
            ]
          },
          "metadata": {},
          "execution_count": 94
        },
        {
          "output_type": "display_data",
          "data": {
            "text/plain": [
              "<Figure size 640x480 with 1 Axes>"
            ],
            "image/png": "[encoded data removed]"
          },
          "metadata": {}
        }
      ]
    }
  ]
}